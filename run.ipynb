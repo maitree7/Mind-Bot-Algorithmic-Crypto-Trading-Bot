{
 "cells": [
  {
   "cell_type": "markdown",
   "metadata": {},
   "source": [
    "# Run the applicaton"
   ]
  },
  {
   "cell_type": "code",
   "execution_count": null,
   "metadata": {},
   "outputs": [
    {
     "name": "stdout",
     "output_type": "stream",
     "text": [
      "cleared data..\n",
      "Dash is running on http://127.0.0.1:8050/\n",
      "\n",
      " Warning: This is a development server. Do not use app.run_server\n",
      " in production, use a production WSGI server like gunicorn instead.\n",
      "\n",
      " * Serving Flask app \"app\" (lazy loading)\n",
      " * Environment: production\n",
      "   WARNING: This is a development server. Do not use it in a production deployment.\n",
      "   Use a production WSGI server instead.\n",
      " * Debug mode: off\n"
     ]
    },
    {
     "name": "stderr",
     "output_type": "stream",
     "text": [
      " * Running on http://127.0.0.1:8050/ (Press CTRL+C to quit)\n",
      "127.0.0.1 - - [27/Jul/2020 21:57:18] \"\u001b[37mGET / HTTP/1.1\u001b[0m\" 200 -\n",
      "127.0.0.1 - - [27/Jul/2020 21:57:18] \"\u001b[37mGET /assets/base-styles.css?m=1595814155.6077683 HTTP/1.1\u001b[0m\" 200 -\n",
      "127.0.0.1 - - [27/Jul/2020 21:57:18] \"\u001b[37mGET /assets/fonts.css?m=1595814155.6077683 HTTP/1.1\u001b[0m\" 200 -\n",
      "127.0.0.1 - - [27/Jul/2020 21:57:18] \"\u001b[37mGET /assets/spc-custom-styles.css?m=1595814155.6077683 HTTP/1.1\u001b[0m\" 200 -\n",
      "127.0.0.1 - - [27/Jul/2020 21:57:18] \"\u001b[37mGET /_dash-component-suites/dash_renderer/polyfill@7.v1_5_1m1593119000.8.7.min.js HTTP/1.1\u001b[0m\" 200 -\n",
      "127.0.0.1 - - [27/Jul/2020 21:57:18] \"\u001b[37mGET /_dash-component-suites/dash_renderer/react@16.v1_5_1m1593119000.13.0.min.js HTTP/1.1\u001b[0m\" 200 -\n",
      "127.0.0.1 - - [27/Jul/2020 21:57:18] \"\u001b[37mGET /_dash-component-suites/dash_renderer/react-dom@16.v1_5_1m1593119000.13.0.min.js HTTP/1.1\u001b[0m\" 200 -\n",
      "127.0.0.1 - - [27/Jul/2020 21:57:18] \"\u001b[37mGET /_dash-component-suites/dash_renderer/prop-types@15.v1_5_1m1593119000.7.2.min.js HTTP/1.1\u001b[0m\" 200 -\n",
      "127.0.0.1 - - [27/Jul/2020 21:57:18] \"\u001b[37mGET /_dash-component-suites/dash_table/bundle.v4_8_1m1592607903.js HTTP/1.1\u001b[0m\" 200 -\n",
      "127.0.0.1 - - [27/Jul/2020 21:57:19] \"\u001b[37mGET /_dash-component-suites/dash_daq/dash_daq.v0_4_0m1583452030.min.js HTTP/1.1\u001b[0m\" 200 -\n",
      "127.0.0.1 - - [27/Jul/2020 21:57:19] \"\u001b[37mGET /_dash-component-suites/dash_core_components/dash_core_components.v1_10_1m1592511349.min.js HTTP/1.1\u001b[0m\" 200 -\n",
      "127.0.0.1 - - [27/Jul/2020 21:57:19] \"\u001b[37mGET /_dash-component-suites/dash_core_components/dash_core_components-shared.v1_10_1m1592511349.js HTTP/1.1\u001b[0m\" 200 -\n",
      "127.0.0.1 - - [27/Jul/2020 21:57:19] \"\u001b[37mGET /_dash-component-suites/dash_html_components/dash_html_components.v1_0_3m1585840840.min.js HTTP/1.1\u001b[0m\" 200 -\n",
      "127.0.0.1 - - [27/Jul/2020 21:57:19] \"\u001b[37mGET /_dash-component-suites/dash_renderer/dash_renderer.v1_5_1m1593119000.min.js HTTP/1.1\u001b[0m\" 200 -\n",
      "127.0.0.1 - - [27/Jul/2020 21:57:19] \"\u001b[37mGET /_dash-layout HTTP/1.1\u001b[0m\" 200 -\n",
      "127.0.0.1 - - [27/Jul/2020 21:57:19] \"\u001b[37mGET /_dash-dependencies HTTP/1.1\u001b[0m\" 200 -\n",
      "127.0.0.1 - - [27/Jul/2020 21:57:19] \"\u001b[37mPOST /_dash-update-component HTTP/1.1\u001b[0m\" 204 -\n",
      "127.0.0.1 - - [27/Jul/2020 21:57:19] \"\u001b[37mGET /_dash-component-suites/dash_core_components/async-dropdown.v1_10_1m1592438751.js HTTP/1.1\u001b[0m\" 200 -\n",
      "127.0.0.1 - - [27/Jul/2020 21:57:20] \"\u001b[37mGET /_dash-component-suites/dash_table/async-table.v4_8_1m1592577109.js HTTP/1.1\u001b[0m\" 200 -\n",
      "127.0.0.1 - - [27/Jul/2020 21:57:20] \"\u001b[37mGET /_dash-component-suites/dash_core_components/async-graph.v1_10_1m1592438751.js HTTP/1.1\u001b[0m\" 200 -\n",
      "127.0.0.1 - - [27/Jul/2020 21:57:20] \"\u001b[37mGET /assets/dash-new-logo.png HTTP/1.1\u001b[0m\" 200 -\n"
     ]
    },
    {
     "name": "stdout",
     "output_type": "stream",
     "text": [
      "720\n"
     ]
    },
    {
     "name": "stderr",
     "output_type": "stream",
     "text": [
      "127.0.0.1 - - [27/Jul/2020 21:57:20] \"\u001b[37mGET /_dash-component-suites/dash_core_components/async-plotlyjs.v1_10_1m1592438751.js HTTP/1.1\u001b[0m\" 200 -\n",
      "127.0.0.1 - - [27/Jul/2020 21:57:20] \"\u001b[37mPOST /_dash-update-component HTTP/1.1\u001b[0m\" 204 -\n",
      "127.0.0.1 - - [27/Jul/2020 21:57:21] \"\u001b[37mPOST /_dash-update-component HTTP/1.1\u001b[0m\" 200 -\n",
      "127.0.0.1 - - [27/Jul/2020 21:57:21] \"\u001b[37mGET /_favicon.ico?v=1.13.4 HTTP/1.1\u001b[0m\" 200 -\n"
     ]
    },
    {
     "name": "stdout",
     "output_type": "stream",
     "text": [
      "total_data---720\n"
     ]
    },
    {
     "name": "stderr",
     "output_type": "stream",
     "text": [
      "127.0.0.1 - - [27/Jul/2020 21:57:24] \"\u001b[37mPOST /_dash-update-component HTTP/1.1\u001b[0m\" 200 -\n"
     ]
    },
    {
     "name": "stdout",
     "output_type": "stream",
     "text": [
      "3380.0\n",
      "21600\n",
      "total_data---720\n"
     ]
    },
    {
     "name": "stderr",
     "output_type": "stream",
     "text": [
      "127.0.0.1 - - [27/Jul/2020 21:57:58] \"\u001b[37mPOST /_dash-update-component HTTP/1.1\u001b[0m\" 200 -\n"
     ]
    },
    {
     "name": "stdout",
     "output_type": "stream",
     "text": [
      "7468.0\n"
     ]
    },
    {
     "name": "stderr",
     "output_type": "stream",
     "text": [
      "127.0.0.1 - - [27/Jul/2020 21:58:33] \"\u001b[37mPOST /_dash-update-component HTTP/1.1\u001b[0m\" 200 -\n"
     ]
    },
    {
     "name": "stdout",
     "output_type": "stream",
     "text": [
      "cleared data..\n"
     ]
    },
    {
     "name": "stderr",
     "output_type": "stream",
     "text": [
      "127.0.0.1 - - [27/Jul/2020 21:58:35] \"\u001b[37mPOST /_dash-update-component HTTP/1.1\u001b[0m\" 204 -\n",
      "127.0.0.1 - - [27/Jul/2020 21:58:35] \"\u001b[37mPOST /_dash-update-component HTTP/1.1\u001b[0m\" 200 -\n",
      "127.0.0.1 - - [27/Jul/2020 21:58:36] \"\u001b[37mPOST /_dash-update-component HTTP/1.1\u001b[0m\" 204 -\n",
      "127.0.0.1 - - [27/Jul/2020 21:58:36] \"\u001b[37mPOST /_dash-update-component HTTP/1.1\u001b[0m\" 200 -\n",
      "127.0.0.1 - - [27/Jul/2020 21:58:37] \"\u001b[37mPOST /_dash-update-component HTTP/1.1\u001b[0m\" 204 -\n",
      "127.0.0.1 - - [27/Jul/2020 21:58:37] \"\u001b[37mPOST /_dash-update-component HTTP/1.1\u001b[0m\" 200 -\n",
      "127.0.0.1 - - [27/Jul/2020 21:58:38] \"\u001b[37mPOST /_dash-update-component HTTP/1.1\u001b[0m\" 204 -\n",
      "127.0.0.1 - - [27/Jul/2020 21:58:38] \"\u001b[37mPOST /_dash-update-component HTTP/1.1\u001b[0m\" 200 -\n",
      "127.0.0.1 - - [27/Jul/2020 21:58:39] \"\u001b[37mPOST /_dash-update-component HTTP/1.1\u001b[0m\" 204 -\n",
      "127.0.0.1 - - [27/Jul/2020 21:58:39] \"\u001b[37mPOST /_dash-update-component HTTP/1.1\u001b[0m\" 200 -\n",
      "127.0.0.1 - - [27/Jul/2020 21:58:40] \"\u001b[37mPOST /_dash-update-component HTTP/1.1\u001b[0m\" 204 -\n",
      "127.0.0.1 - - [27/Jul/2020 21:58:40] \"\u001b[37mPOST /_dash-update-component HTTP/1.1\u001b[0m\" 200 -\n",
      "127.0.0.1 - - [27/Jul/2020 21:58:41] \"\u001b[37mPOST /_dash-update-component HTTP/1.1\u001b[0m\" 204 -\n",
      "127.0.0.1 - - [27/Jul/2020 21:58:41] \"\u001b[37mPOST /_dash-update-component HTTP/1.1\u001b[0m\" 200 -\n",
      "127.0.0.1 - - [27/Jul/2020 21:58:42] \"\u001b[37mPOST /_dash-update-component HTTP/1.1\u001b[0m\" 204 -\n",
      "127.0.0.1 - - [27/Jul/2020 21:58:42] \"\u001b[37mPOST /_dash-update-component HTTP/1.1\u001b[0m\" 200 -\n",
      "127.0.0.1 - - [27/Jul/2020 21:58:43] \"\u001b[37mPOST /_dash-update-component HTTP/1.1\u001b[0m\" 204 -\n",
      "127.0.0.1 - - [27/Jul/2020 21:58:43] \"\u001b[37mPOST /_dash-update-component HTTP/1.1\u001b[0m\" 200 -\n",
      "127.0.0.1 - - [27/Jul/2020 21:58:44] \"\u001b[37mPOST /_dash-update-component HTTP/1.1\u001b[0m\" 204 -\n",
      "127.0.0.1 - - [27/Jul/2020 21:58:44] \"\u001b[37mPOST /_dash-update-component HTTP/1.1\u001b[0m\" 200 -\n",
      "127.0.0.1 - - [27/Jul/2020 21:58:45] \"\u001b[37mPOST /_dash-update-component HTTP/1.1\u001b[0m\" 200 -\n"
     ]
    },
    {
     "name": "stdout",
     "output_type": "stream",
     "text": [
      "                                     open     high      low    close  \\\n",
      "date                                                                   \n",
      "2020-07-27 21:58:44.240000-04:00  11046.1  11420.0  10043.0  11203.6   \n",
      "\n",
      "                                        volume  signal     sma10  sma20  \\\n",
      "date                                                                      \n",
      "2020-07-27 21:58:44.240000-04:00  15953.830803     0.0  11202.46    NaN   \n",
      "\n",
      "                                  entry/exit  \n",
      "date                                          \n",
      "2020-07-27 21:58:44.240000-04:00         0.0  \n",
      "None\n"
     ]
    },
    {
     "name": "stderr",
     "output_type": "stream",
     "text": [
      "127.0.0.1 - - [27/Jul/2020 21:58:45] \"\u001b[37mPOST /_dash-update-component HTTP/1.1\u001b[0m\" 200 -\n",
      "127.0.0.1 - - [27/Jul/2020 21:58:46] \"\u001b[37mPOST /_dash-update-component HTTP/1.1\u001b[0m\" 200 -\n",
      "127.0.0.1 - - [27/Jul/2020 21:58:46] \"\u001b[37mPOST /_dash-update-component HTTP/1.1\u001b[0m\" 200 -\n"
     ]
    },
    {
     "name": "stdout",
     "output_type": "stream",
     "text": [
      "                                     open     high      low    close  \\\n",
      "date                                                                   \n",
      "2020-07-27 21:58:45.276000-04:00  11046.1  11420.0  10043.0  11203.7   \n",
      "\n",
      "                                        volume  signal     sma10  sma20  \\\n",
      "date                                                                      \n",
      "2020-07-27 21:58:45.276000-04:00  15953.832805     0.0  11202.69    NaN   \n",
      "\n",
      "                                  entry/exit  \n",
      "date                                          \n",
      "2020-07-27 21:58:45.276000-04:00         0.0  \n",
      "None\n"
     ]
    },
    {
     "name": "stderr",
     "output_type": "stream",
     "text": [
      "127.0.0.1 - - [27/Jul/2020 21:58:47] \"\u001b[37mPOST /_dash-update-component HTTP/1.1\u001b[0m\" 200 -\n"
     ]
    },
    {
     "name": "stdout",
     "output_type": "stream",
     "text": [
      "                                     open     high      low    close  \\\n",
      "date                                                                   \n",
      "2020-07-27 21:58:46.185000-04:00  11046.1  11420.0  10043.0  11203.7   \n",
      "\n",
      "                                        volume  signal     sma10  sma20  \\\n",
      "date                                                                      \n",
      "2020-07-27 21:58:46.185000-04:00  15953.832805     0.0  11202.92    NaN   \n",
      "\n",
      "                                  entry/exit  \n",
      "date                                          \n",
      "2020-07-27 21:58:46.185000-04:00         0.0  \n",
      "None\n"
     ]
    },
    {
     "name": "stderr",
     "output_type": "stream",
     "text": [
      "127.0.0.1 - - [27/Jul/2020 21:58:47] \"\u001b[37mPOST /_dash-update-component HTTP/1.1\u001b[0m\" 200 -\n",
      "127.0.0.1 - - [27/Jul/2020 21:58:48] \"\u001b[37mPOST /_dash-update-component HTTP/1.1\u001b[0m\" 200 -\n"
     ]
    },
    {
     "name": "stdout",
     "output_type": "stream",
     "text": [
      "                                     open     high      low    close  \\\n",
      "date                                                                   \n",
      "2020-07-27 21:58:47.307000-04:00  11046.1  11420.0  10043.0  11203.7   \n",
      "\n",
      "                                        volume  signal     sma10  sma20  \\\n",
      "date                                                                      \n",
      "2020-07-27 21:58:47.307000-04:00  15953.832805     0.0  11203.15    NaN   \n",
      "\n",
      "                                  entry/exit  \n",
      "date                                          \n",
      "2020-07-27 21:58:47.307000-04:00         0.0  \n",
      "None\n"
     ]
    },
    {
     "name": "stderr",
     "output_type": "stream",
     "text": [
      "127.0.0.1 - - [27/Jul/2020 21:58:48] \"\u001b[37mPOST /_dash-update-component HTTP/1.1\u001b[0m\" 200 -\n",
      "127.0.0.1 - - [27/Jul/2020 21:58:49] \"\u001b[37mPOST /_dash-update-component HTTP/1.1\u001b[0m\" 200 -\n",
      "127.0.0.1 - - [27/Jul/2020 21:58:49] \"\u001b[37mPOST /_dash-update-component HTTP/1.1\u001b[0m\" 200 -\n"
     ]
    },
    {
     "name": "stdout",
     "output_type": "stream",
     "text": [
      "                                     open     high      low    close  \\\n",
      "date                                                                   \n",
      "2020-07-27 21:58:48.308000-04:00  11051.0  11420.0  10043.0  11205.6   \n",
      "\n",
      "                                        volume  signal     sma10  sma20  \\\n",
      "date                                                                      \n",
      "2020-07-27 21:58:48.308000-04:00  15953.630658     0.0  11203.51    NaN   \n",
      "\n",
      "                                  entry/exit  \n",
      "date                                          \n",
      "2020-07-27 21:58:48.308000-04:00         0.0  \n",
      "None\n"
     ]
    },
    {
     "name": "stderr",
     "output_type": "stream",
     "text": [
      "127.0.0.1 - - [27/Jul/2020 21:58:50] \"\u001b[37mPOST /_dash-update-component HTTP/1.1\u001b[0m\" 200 -\n",
      "127.0.0.1 - - [27/Jul/2020 21:58:50] \"\u001b[37mPOST /_dash-update-component HTTP/1.1\u001b[0m\" 200 -\n"
     ]
    },
    {
     "name": "stdout",
     "output_type": "stream",
     "text": [
      "                                     open     high      low    close  \\\n",
      "date                                                                   \n",
      "2020-07-27 21:58:49.218000-04:00  11051.0  11420.0  10043.0  11205.6   \n",
      "\n",
      "                                        volume  signal     sma10  sma20  \\\n",
      "date                                                                      \n",
      "2020-07-27 21:58:49.218000-04:00  15953.630658     0.0  11203.87    NaN   \n",
      "\n",
      "                                  entry/exit  \n",
      "date                                          \n",
      "2020-07-27 21:58:49.218000-04:00         0.0  \n",
      "None\n"
     ]
    },
    {
     "name": "stderr",
     "output_type": "stream",
     "text": [
      "127.0.0.1 - - [27/Jul/2020 21:58:51] \"\u001b[37mPOST /_dash-update-component HTTP/1.1\u001b[0m\" 200 -\n",
      "127.0.0.1 - - [27/Jul/2020 21:58:51] \"\u001b[37mPOST /_dash-update-component HTTP/1.1\u001b[0m\" 200 -\n"
     ]
    },
    {
     "name": "stdout",
     "output_type": "stream",
     "text": [
      "                                     open     high      low    close  \\\n",
      "date                                                                   \n",
      "2020-07-27 21:58:50.223000-04:00  11051.0  11420.0  10043.0  11205.6   \n",
      "\n",
      "                                        volume  signal     sma10  sma20  \\\n",
      "date                                                                      \n",
      "2020-07-27 21:58:50.223000-04:00  15953.630658     0.0  11204.23    NaN   \n",
      "\n",
      "                                  entry/exit  \n",
      "date                                          \n",
      "2020-07-27 21:58:50.223000-04:00         0.0  \n",
      "None\n"
     ]
    },
    {
     "name": "stderr",
     "output_type": "stream",
     "text": [
      "127.0.0.1 - - [27/Jul/2020 21:58:52] \"\u001b[37mPOST /_dash-update-component HTTP/1.1\u001b[0m\" 200 -\n",
      "127.0.0.1 - - [27/Jul/2020 21:58:52] \"\u001b[37mPOST /_dash-update-component HTTP/1.1\u001b[0m\" 200 -\n"
     ]
    },
    {
     "name": "stdout",
     "output_type": "stream",
     "text": [
      "                                     open     high      low    close  \\\n",
      "date                                                                   \n",
      "2020-07-27 21:58:51.222000-04:00  11046.1  11420.0  10043.0  11205.6   \n",
      "\n",
      "                                        volume  signal     sma10  sma20  \\\n",
      "date                                                                      \n",
      "2020-07-27 21:58:51.222000-04:00  15953.630658     0.0  11204.43    NaN   \n",
      "\n",
      "                                  entry/exit  \n",
      "date                                          \n",
      "2020-07-27 21:58:51.222000-04:00         0.0  \n",
      "None\n"
     ]
    },
    {
     "name": "stderr",
     "output_type": "stream",
     "text": [
      "127.0.0.1 - - [27/Jul/2020 21:58:53] \"\u001b[37mPOST /_dash-update-component HTTP/1.1\u001b[0m\" 200 -\n",
      "127.0.0.1 - - [27/Jul/2020 21:58:53] \"\u001b[37mPOST /_dash-update-component HTTP/1.1\u001b[0m\" 200 -\n"
     ]
    },
    {
     "name": "stdout",
     "output_type": "stream",
     "text": [
      "                                     open     high      low    close  \\\n",
      "date                                                                   \n",
      "2020-07-27 21:58:52.190000-04:00  11046.1  11420.0  10043.0  11205.6   \n",
      "\n",
      "                                        volume  signal     sma10  sma20  \\\n",
      "date                                                                      \n",
      "2020-07-27 21:58:52.190000-04:00  15953.630658     0.0  11204.63    NaN   \n",
      "\n",
      "                                  entry/exit  \n",
      "date                                          \n",
      "2020-07-27 21:58:52.190000-04:00         0.0  \n",
      "None\n"
     ]
    },
    {
     "name": "stderr",
     "output_type": "stream",
     "text": [
      "127.0.0.1 - - [27/Jul/2020 21:58:54] \"\u001b[37mPOST /_dash-update-component HTTP/1.1\u001b[0m\" 200 -\n",
      "127.0.0.1 - - [27/Jul/2020 21:58:54] \"\u001b[37mPOST /_dash-update-component HTTP/1.1\u001b[0m\" 200 -\n"
     ]
    },
    {
     "name": "stdout",
     "output_type": "stream",
     "text": [
      "                                     open     high      low    close  \\\n",
      "date                                                                   \n",
      "2020-07-27 21:58:53.206000-04:00  11046.1  11420.0  10043.0  11205.6   \n",
      "\n",
      "                                        volume  signal     sma10  sma20  \\\n",
      "date                                                                      \n",
      "2020-07-27 21:58:53.206000-04:00  15953.630658     0.0  11204.83    NaN   \n",
      "\n",
      "                                  entry/exit  \n",
      "date                                          \n",
      "2020-07-27 21:58:53.206000-04:00         0.0  \n",
      "None\n"
     ]
    },
    {
     "name": "stderr",
     "output_type": "stream",
     "text": [
      "127.0.0.1 - - [27/Jul/2020 21:58:55] \"\u001b[37mPOST /_dash-update-component HTTP/1.1\u001b[0m\" 200 -\n",
      "127.0.0.1 - - [27/Jul/2020 21:58:55] \"\u001b[37mPOST /_dash-update-component HTTP/1.1\u001b[0m\" 200 -\n"
     ]
    },
    {
     "name": "stdout",
     "output_type": "stream",
     "text": [
      "                                     open     high      low    close  \\\n",
      "date                                                                   \n",
      "2020-07-27 21:58:54.209000-04:00  11046.1  11420.0  10043.0  11205.6   \n",
      "\n",
      "                                        volume  signal     sma10      sma20  \\\n",
      "date                                                                          \n",
      "2020-07-27 21:58:54.209000-04:00  15953.630658     1.0  11205.03  11203.745   \n",
      "\n",
      "                                  entry/exit  \n",
      "date                                          \n",
      "2020-07-27 21:58:54.209000-04:00         1.0  \n",
      "{'close': 11205.6, 'balance': 9988.7944, 'shares': 0.001, 'status': 'buy'}\n",
      "20\n"
     ]
    },
    {
     "name": "stderr",
     "output_type": "stream",
     "text": [
      "127.0.0.1 - - [27/Jul/2020 21:58:56] \"\u001b[37mPOST /_dash-update-component HTTP/1.1\u001b[0m\" 200 -\n",
      "127.0.0.1 - - [27/Jul/2020 21:58:56] \"\u001b[37mPOST /_dash-update-component HTTP/1.1\u001b[0m\" 200 -\n"
     ]
    },
    {
     "name": "stdout",
     "output_type": "stream",
     "text": [
      "                                     open     high      low    close  \\\n",
      "date                                                                   \n",
      "2020-07-27 21:58:55.235000-04:00  11046.1  11420.0  10043.0  11205.6   \n",
      "\n",
      "                                        volume  signal     sma10      sma20  \\\n",
      "date                                                                          \n",
      "2020-07-27 21:58:55.235000-04:00  15953.630658     0.0  11205.22  11203.955   \n",
      "\n",
      "                                  entry/exit  \n",
      "date                                          \n",
      "2020-07-27 21:58:55.235000-04:00         0.0  \n",
      "None\n",
      "20\n"
     ]
    },
    {
     "name": "stderr",
     "output_type": "stream",
     "text": [
      "127.0.0.1 - - [27/Jul/2020 21:58:57] \"\u001b[37mPOST /_dash-update-component HTTP/1.1\u001b[0m\" 200 -\n",
      "127.0.0.1 - - [27/Jul/2020 21:58:57] \"\u001b[37mPOST /_dash-update-component HTTP/1.1\u001b[0m\" 200 -\n"
     ]
    },
    {
     "name": "stdout",
     "output_type": "stream",
     "text": [
      "                                     open     high      low    close  \\\n",
      "date                                                                   \n",
      "2020-07-27 21:58:56.351000-04:00  11046.1  11420.0  10043.0  11205.6   \n",
      "\n",
      "                                        volume  signal     sma10      sma20  \\\n",
      "date                                                                          \n",
      "2020-07-27 21:58:56.351000-04:00  15953.630658     0.0  11205.41  11204.165   \n",
      "\n",
      "                                  entry/exit  \n",
      "date                                          \n",
      "2020-07-27 21:58:56.351000-04:00         0.0  \n",
      "None\n",
      "20\n"
     ]
    },
    {
     "name": "stderr",
     "output_type": "stream",
     "text": [
      "127.0.0.1 - - [27/Jul/2020 21:58:58] \"\u001b[37mPOST /_dash-update-component HTTP/1.1\u001b[0m\" 200 -\n",
      "127.0.0.1 - - [27/Jul/2020 21:58:58] \"\u001b[37mPOST /_dash-update-component HTTP/1.1\u001b[0m\" 200 -\n"
     ]
    },
    {
     "name": "stdout",
     "output_type": "stream",
     "text": [
      "                                     open     high      low    close  \\\n",
      "date                                                                   \n",
      "2020-07-27 21:58:57.351000-04:00  11046.1  11420.0  10043.0  11205.6   \n",
      "\n",
      "                                        volume  signal    sma10      sma20  \\\n",
      "date                                                                         \n",
      "2020-07-27 21:58:57.351000-04:00  15953.510658     0.0  11205.6  11204.375   \n",
      "\n",
      "                                  entry/exit  \n",
      "date                                          \n",
      "2020-07-27 21:58:57.351000-04:00         0.0  \n",
      "None\n"
     ]
    },
    {
     "name": "stderr",
     "output_type": "stream",
     "text": [
      "127.0.0.1 - - [27/Jul/2020 21:58:59] \"\u001b[37mPOST /_dash-update-component HTTP/1.1\u001b[0m\" 200 -\n"
     ]
    },
    {
     "name": "stdout",
     "output_type": "stream",
     "text": [
      "20\n",
      "                                     open     high      low    close  \\\n",
      "date                                                                   \n",
      "2020-07-27 21:58:58.269000-04:00  11046.1  11420.0  10043.0  11205.6   \n",
      "\n",
      "                                        volume  signal    sma10      sma20  \\\n",
      "date                                                                         \n",
      "2020-07-27 21:58:58.269000-04:00  15953.510658     0.0  11205.6  11204.555   \n",
      "\n",
      "                                  entry/exit  \n",
      "date                                          \n",
      "2020-07-27 21:58:58.269000-04:00         0.0  \n",
      "None\n"
     ]
    },
    {
     "name": "stderr",
     "output_type": "stream",
     "text": [
      "127.0.0.1 - - [27/Jul/2020 21:58:59] \"\u001b[37mPOST /_dash-update-component HTTP/1.1\u001b[0m\" 200 -\n",
      "127.0.0.1 - - [27/Jul/2020 21:59:00] \"\u001b[37mPOST /_dash-update-component HTTP/1.1\u001b[0m\" 200 -\n",
      "127.0.0.1 - - [27/Jul/2020 21:59:00] \"\u001b[37mPOST /_dash-update-component HTTP/1.1\u001b[0m\" 200 -\n"
     ]
    },
    {
     "name": "stdout",
     "output_type": "stream",
     "text": [
      "20\n",
      "                                     open     high      low    close  \\\n",
      "date                                                                   \n",
      "2020-07-27 21:58:59.234000-04:00  11046.1  11420.0  10043.0  11205.6   \n",
      "\n",
      "                                        volume  signal    sma10      sma20  \\\n",
      "date                                                                         \n",
      "2020-07-27 21:58:59.234000-04:00  15953.510658     0.0  11205.6  11204.735   \n",
      "\n",
      "                                  entry/exit  \n",
      "date                                          \n",
      "2020-07-27 21:58:59.234000-04:00         0.0  \n",
      "None\n"
     ]
    },
    {
     "name": "stderr",
     "output_type": "stream",
     "text": [
      "127.0.0.1 - - [27/Jul/2020 21:59:01] \"\u001b[37mPOST /_dash-update-component HTTP/1.1\u001b[0m\" 200 -\n",
      "127.0.0.1 - - [27/Jul/2020 21:59:01] \"\u001b[37mPOST /_dash-update-component HTTP/1.1\u001b[0m\" 200 -\n"
     ]
    },
    {
     "name": "stdout",
     "output_type": "stream",
     "text": [
      "20\n",
      "                                     open     high      low    close  \\\n",
      "date                                                                   \n",
      "2020-07-27 21:59:00.274000-04:00  11046.1  11420.0  10043.0  11205.0   \n",
      "\n",
      "                                        volume  signal     sma10      sma20  \\\n",
      "date                                                                          \n",
      "2020-07-27 21:59:00.274000-04:00  15953.454052     0.0  11205.54  11204.885   \n",
      "\n",
      "                                  entry/exit  \n",
      "date                                          \n",
      "2020-07-27 21:59:00.274000-04:00         0.0  \n",
      "None\n"
     ]
    },
    {
     "name": "stderr",
     "output_type": "stream",
     "text": [
      "127.0.0.1 - - [27/Jul/2020 21:59:02] \"\u001b[37mPOST /_dash-update-component HTTP/1.1\u001b[0m\" 200 -\n",
      "127.0.0.1 - - [27/Jul/2020 21:59:02] \"\u001b[37mPOST /_dash-update-component HTTP/1.1\u001b[0m\" 200 -\n"
     ]
    },
    {
     "name": "stdout",
     "output_type": "stream",
     "text": [
      "20\n",
      "                                     open     high      low    close  \\\n",
      "date                                                                   \n",
      "2020-07-27 21:59:01.238000-04:00  11046.1  11420.0  10043.0  11205.0   \n",
      "\n",
      "                                        volume  signal     sma10      sma20  \\\n",
      "date                                                                          \n",
      "2020-07-27 21:59:01.238000-04:00  15953.454052     0.0  11205.48  11204.955   \n",
      "\n",
      "                                  entry/exit  \n",
      "date                                          \n",
      "2020-07-27 21:59:01.238000-04:00         0.0  \n",
      "None\n"
     ]
    },
    {
     "name": "stderr",
     "output_type": "stream",
     "text": [
      "127.0.0.1 - - [27/Jul/2020 21:59:03] \"\u001b[37mPOST /_dash-update-component HTTP/1.1\u001b[0m\" 200 -\n"
     ]
    },
    {
     "name": "stdout",
     "output_type": "stream",
     "text": [
      "20\n",
      "                                     open     high      low    close  \\\n",
      "date                                                                   \n",
      "2020-07-27 21:59:02.248000-04:00  11046.1  11420.0  10043.0  11205.0   \n",
      "\n",
      "                                        volume  signal     sma10      sma20  \\\n",
      "date                                                                          \n",
      "2020-07-27 21:59:02.248000-04:00  15953.454052     0.0  11205.42  11205.025   \n",
      "\n",
      "                                  entry/exit  \n",
      "date                                          \n",
      "2020-07-27 21:59:02.248000-04:00         0.0  \n",
      "None\n"
     ]
    },
    {
     "name": "stderr",
     "output_type": "stream",
     "text": [
      "127.0.0.1 - - [27/Jul/2020 21:59:03] \"\u001b[37mPOST /_dash-update-component HTTP/1.1\u001b[0m\" 200 -\n",
      "127.0.0.1 - - [27/Jul/2020 21:59:04] \"\u001b[37mPOST /_dash-update-component HTTP/1.1\u001b[0m\" 200 -\n",
      "127.0.0.1 - - [27/Jul/2020 21:59:04] \"\u001b[37mPOST /_dash-update-component HTTP/1.1\u001b[0m\" 200 -\n"
     ]
    },
    {
     "name": "stdout",
     "output_type": "stream",
     "text": [
      "20\n",
      "                                     open     high      low    close  \\\n",
      "date                                                                   \n",
      "2020-07-27 21:59:03.208000-04:00  11046.1  11420.0  10043.0  11205.0   \n",
      "\n",
      "                                        volume  signal     sma10      sma20  \\\n",
      "date                                                                          \n",
      "2020-07-27 21:59:03.208000-04:00  15953.454052     0.0  11205.36  11205.095   \n",
      "\n",
      "                                  entry/exit  \n",
      "date                                          \n",
      "2020-07-27 21:59:03.208000-04:00         0.0  \n",
      "None\n"
     ]
    },
    {
     "name": "stderr",
     "output_type": "stream",
     "text": [
      "127.0.0.1 - - [27/Jul/2020 21:59:05] \"\u001b[37mPOST /_dash-update-component HTTP/1.1\u001b[0m\" 200 -\n"
     ]
    },
    {
     "name": "stdout",
     "output_type": "stream",
     "text": [
      "20\n",
      "                                     open     high      low    close  \\\n",
      "date                                                                   \n",
      "2020-07-27 21:59:04.266000-04:00  11046.1  11420.0  10043.0  11205.0   \n",
      "\n",
      "                                        volume  signal    sma10      sma20  \\\n",
      "date                                                                         \n",
      "2020-07-27 21:59:04.266000-04:00  15953.454052     0.0  11205.3  11205.165   \n",
      "\n",
      "                                  entry/exit  \n",
      "date                                          \n",
      "2020-07-27 21:59:04.266000-04:00         0.0  \n",
      "None\n"
     ]
    },
    {
     "name": "stderr",
     "output_type": "stream",
     "text": [
      "127.0.0.1 - - [27/Jul/2020 21:59:05] \"\u001b[37mPOST /_dash-update-component HTTP/1.1\u001b[0m\" 200 -\n"
     ]
    },
    {
     "name": "stdout",
     "output_type": "stream",
     "text": [
      "20\n"
     ]
    },
    {
     "name": "stderr",
     "output_type": "stream",
     "text": [
      "127.0.0.1 - - [27/Jul/2020 21:59:06] \"\u001b[37mPOST /_dash-update-component HTTP/1.1\u001b[0m\" 200 -\n",
      "127.0.0.1 - - [27/Jul/2020 21:59:06] \"\u001b[37mPOST /_dash-update-component HTTP/1.1\u001b[0m\" 200 -\n"
     ]
    },
    {
     "name": "stdout",
     "output_type": "stream",
     "text": [
      "                                     open     high      low    close  \\\n",
      "date                                                                   \n",
      "2020-07-27 21:59:05.206000-04:00  11046.1  11420.0  10043.0  11205.0   \n",
      "\n",
      "                                        volume  signal     sma10     sma20  \\\n",
      "date                                                                         \n",
      "2020-07-27 21:59:05.206000-04:00  15953.454052     0.0  11205.24  11205.23   \n",
      "\n",
      "                                  entry/exit  \n",
      "date                                          \n",
      "2020-07-27 21:59:05.206000-04:00         0.0  \n",
      "None\n",
      "20\n"
     ]
    },
    {
     "name": "stderr",
     "output_type": "stream",
     "text": [
      "127.0.0.1 - - [27/Jul/2020 21:59:07] \"\u001b[37mPOST /_dash-update-component HTTP/1.1\u001b[0m\" 200 -\n",
      "127.0.0.1 - - [27/Jul/2020 21:59:07] \"\u001b[37mPOST /_dash-update-component HTTP/1.1\u001b[0m\" 200 -\n"
     ]
    },
    {
     "name": "stdout",
     "output_type": "stream",
     "text": [
      "                                     open     high      low    close  \\\n",
      "date                                                                   \n",
      "2020-07-27 21:59:06.380000-04:00  11046.1  11420.0  10043.0  11205.0   \n",
      "\n",
      "                                        volume  signal     sma10      sma20  \\\n",
      "date                                                                          \n",
      "2020-07-27 21:59:06.380000-04:00  15953.454052     0.0  11205.18  11205.295   \n",
      "\n",
      "                                  entry/exit  \n",
      "date                                          \n",
      "2020-07-27 21:59:06.380000-04:00         0.0  \n",
      "None\n",
      "20\n"
     ]
    },
    {
     "name": "stderr",
     "output_type": "stream",
     "text": [
      "127.0.0.1 - - [27/Jul/2020 21:59:08] \"\u001b[37mPOST /_dash-update-component HTTP/1.1\u001b[0m\" 200 -\n",
      "127.0.0.1 - - [27/Jul/2020 21:59:08] \"\u001b[37mPOST /_dash-update-component HTTP/1.1\u001b[0m\" 200 -\n"
     ]
    },
    {
     "name": "stdout",
     "output_type": "stream",
     "text": [
      "                                     open     high      low    close  \\\n",
      "date                                                                   \n",
      "2020-07-27 21:59:07.356000-04:00  11046.1  11420.0  10043.0  11205.0   \n",
      "\n",
      "                                        volume  signal     sma10     sma20  \\\n",
      "date                                                                         \n",
      "2020-07-27 21:59:07.356000-04:00  15953.454052     0.0  11205.12  11205.36   \n",
      "\n",
      "                                  entry/exit  \n",
      "date                                          \n",
      "2020-07-27 21:59:07.356000-04:00         0.0  \n",
      "None\n",
      "20\n",
      "                                     open     high      low    close  \\\n",
      "date                                                                   \n",
      "2020-07-27 21:59:08.358000-04:00  11046.1  11420.0  10043.0  11205.0   \n",
      "\n",
      "                                        volume  signal     sma10     sma20  \\\n",
      "date                                                                         \n",
      "2020-07-27 21:59:08.358000-04:00  15953.454052     0.0  11205.06  11205.33   \n",
      "\n",
      "                                  entry/exit  \n",
      "date                                          \n",
      "2020-07-27 21:59:08.358000-04:00         0.0  \n",
      "None\n"
     ]
    },
    {
     "name": "stderr",
     "output_type": "stream",
     "text": [
      "127.0.0.1 - - [27/Jul/2020 21:59:09] \"\u001b[37mPOST /_dash-update-component HTTP/1.1\u001b[0m\" 200 -\n",
      "127.0.0.1 - - [27/Jul/2020 21:59:09] \"\u001b[37mPOST /_dash-update-component HTTP/1.1\u001b[0m\" 200 -\n"
     ]
    },
    {
     "name": "stdout",
     "output_type": "stream",
     "text": [
      "20\n"
     ]
    },
    {
     "name": "stderr",
     "output_type": "stream",
     "text": [
      "127.0.0.1 - - [27/Jul/2020 21:59:11] \"\u001b[37mPOST /_dash-update-component HTTP/1.1\u001b[0m\" 200 -\n",
      "127.0.0.1 - - [27/Jul/2020 21:59:11] \"\u001b[37mPOST /_dash-update-component HTTP/1.1\u001b[0m\" 200 -\n"
     ]
    },
    {
     "name": "stdout",
     "output_type": "stream",
     "text": [
      "                                     open     high      low    close  \\\n",
      "date                                                                   \n",
      "2020-07-27 21:59:09.254000-04:00  11046.1  11420.0  10043.0  11205.0   \n",
      "\n",
      "                                        volume  signal    sma10    sma20  \\\n",
      "date                                                                       \n",
      "2020-07-27 21:59:09.254000-04:00  15953.454052     0.0  11205.0  11205.3   \n",
      "\n",
      "                                  entry/exit  \n",
      "date                                          \n",
      "2020-07-27 21:59:09.254000-04:00         0.0  \n",
      "None\n"
     ]
    },
    {
     "name": "stderr",
     "output_type": "stream",
     "text": [
      "127.0.0.1 - - [27/Jul/2020 21:59:12] \"\u001b[37mPOST /_dash-update-component HTTP/1.1\u001b[0m\" 200 -\n"
     ]
    },
    {
     "name": "stdout",
     "output_type": "stream",
     "text": [
      "20\n",
      "                                     open     high      low    close  \\\n",
      "date                                                                   \n",
      "2020-07-27 21:59:11.185000-04:00  11046.1  11420.0  10043.0  11205.0   \n",
      "\n",
      "                                        volume  signal    sma10     sma20  \\\n",
      "date                                                                        \n",
      "2020-07-27 21:59:11.185000-04:00  15953.454052     0.0  11205.0  11205.27   \n",
      "\n",
      "                                  entry/exit  \n",
      "date                                          \n",
      "2020-07-27 21:59:11.185000-04:00         0.0  \n",
      "None\n"
     ]
    },
    {
     "name": "stderr",
     "output_type": "stream",
     "text": [
      "127.0.0.1 - - [27/Jul/2020 21:59:12] \"\u001b[37mPOST /_dash-update-component HTTP/1.1\u001b[0m\" 200 -\n",
      "127.0.0.1 - - [27/Jul/2020 21:59:13] \"\u001b[37mPOST /_dash-update-component HTTP/1.1\u001b[0m\" 200 -\n",
      "127.0.0.1 - - [27/Jul/2020 21:59:13] \"\u001b[37mPOST /_dash-update-component HTTP/1.1\u001b[0m\" 200 -\n"
     ]
    },
    {
     "name": "stdout",
     "output_type": "stream",
     "text": [
      "20\n",
      "                                     open     high      low    close  \\\n",
      "date                                                                   \n",
      "2020-07-27 21:59:12.075000-04:00  11046.1  11420.0  10043.0  11205.0   \n",
      "\n",
      "                                        volume  signal    sma10     sma20  \\\n",
      "date                                                                        \n",
      "2020-07-27 21:59:12.075000-04:00  15953.454052     0.0  11205.0  11205.24   \n",
      "\n",
      "                                  entry/exit  \n",
      "date                                          \n",
      "2020-07-27 21:59:12.075000-04:00         0.0  \n",
      "None\n"
     ]
    },
    {
     "name": "stderr",
     "output_type": "stream",
     "text": [
      "127.0.0.1 - - [27/Jul/2020 21:59:14] \"\u001b[37mPOST /_dash-update-component HTTP/1.1\u001b[0m\" 200 -\n",
      "127.0.0.1 - - [27/Jul/2020 21:59:14] \"\u001b[37mPOST /_dash-update-component HTTP/1.1\u001b[0m\" 200 -\n"
     ]
    },
    {
     "name": "stdout",
     "output_type": "stream",
     "text": [
      "20\n",
      "                                     open     high      low    close  \\\n",
      "date                                                                   \n",
      "2020-07-27 21:59:13.055000-04:00  11046.1  11420.0  10043.0  11205.0   \n",
      "\n",
      "                                        volume  signal    sma10     sma20  \\\n",
      "date                                                                        \n",
      "2020-07-27 21:59:13.055000-04:00  15953.454052     0.0  11205.0  11205.21   \n",
      "\n",
      "                                  entry/exit  \n",
      "date                                          \n",
      "2020-07-27 21:59:13.055000-04:00         0.0  \n",
      "None\n"
     ]
    },
    {
     "name": "stderr",
     "output_type": "stream",
     "text": [
      "127.0.0.1 - - [27/Jul/2020 21:59:15] \"\u001b[37mPOST /_dash-update-component HTTP/1.1\u001b[0m\" 200 -\n",
      "127.0.0.1 - - [27/Jul/2020 21:59:15] \"\u001b[37mPOST /_dash-update-component HTTP/1.1\u001b[0m\" 200 -\n"
     ]
    },
    {
     "name": "stdout",
     "output_type": "stream",
     "text": [
      "20\n",
      "                                     open     high      low    close  \\\n",
      "date                                                                   \n",
      "2020-07-27 21:59:14.036000-04:00  11046.1  11420.0  10043.0  11205.0   \n",
      "\n",
      "                                        volume  signal    sma10     sma20  \\\n",
      "date                                                                        \n",
      "2020-07-27 21:59:14.036000-04:00  15953.454052     0.0  11205.0  11205.18   \n",
      "\n",
      "                                  entry/exit  \n",
      "date                                          \n",
      "2020-07-27 21:59:14.036000-04:00         0.0  \n",
      "None\n"
     ]
    },
    {
     "name": "stderr",
     "output_type": "stream",
     "text": [
      "127.0.0.1 - - [27/Jul/2020 21:59:16] \"\u001b[37mPOST /_dash-update-component HTTP/1.1\u001b[0m\" 200 -\n",
      "127.0.0.1 - - [27/Jul/2020 21:59:16] \"\u001b[37mPOST /_dash-update-component HTTP/1.1\u001b[0m\" 200 -\n"
     ]
    },
    {
     "name": "stdout",
     "output_type": "stream",
     "text": [
      "20\n",
      "                                     open     high      low    close  \\\n",
      "date                                                                   \n",
      "2020-07-27 21:59:15.070000-04:00  11046.1  11420.0  10043.0  11205.0   \n",
      "\n",
      "                                        volume  signal    sma10     sma20  \\\n",
      "date                                                                        \n",
      "2020-07-27 21:59:15.070000-04:00  15953.454052     0.0  11205.0  11205.15   \n",
      "\n",
      "                                  entry/exit  \n",
      "date                                          \n",
      "2020-07-27 21:59:15.070000-04:00         0.0  \n",
      "None\n",
      "20\n",
      "                                     open     high      low    close  \\\n",
      "date                                                                   \n",
      "2020-07-27 21:59:16.091000-04:00  11046.1  11420.0  10043.0  11205.0   \n",
      "\n",
      "                                        volume  signal    sma10     sma20  \\\n",
      "date                                                                        \n",
      "2020-07-27 21:59:16.091000-04:00  15953.454052     0.0  11205.0  11205.12   \n",
      "\n",
      "                                  entry/exit  \n",
      "date                                          \n",
      "2020-07-27 21:59:16.091000-04:00         0.0  \n",
      "None\n"
     ]
    },
    {
     "name": "stderr",
     "output_type": "stream",
     "text": [
      "127.0.0.1 - - [27/Jul/2020 21:59:17] \"\u001b[37mPOST /_dash-update-component HTTP/1.1\u001b[0m\" 200 -\n",
      "127.0.0.1 - - [27/Jul/2020 21:59:17] \"\u001b[37mPOST /_dash-update-component HTTP/1.1\u001b[0m\" 200 -\n"
     ]
    },
    {
     "name": "stdout",
     "output_type": "stream",
     "text": [
      "20\n"
     ]
    },
    {
     "name": "stderr",
     "output_type": "stream",
     "text": [
      "127.0.0.1 - - [27/Jul/2020 21:59:18] \"\u001b[37mPOST /_dash-update-component HTTP/1.1\u001b[0m\" 200 -\n",
      "127.0.0.1 - - [27/Jul/2020 21:59:18] \"\u001b[37mPOST /_dash-update-component HTTP/1.1\u001b[0m\" 200 -\n"
     ]
    },
    {
     "name": "stdout",
     "output_type": "stream",
     "text": [
      "                                     open     high      low    close  \\\n",
      "date                                                                   \n",
      "2020-07-27 21:59:17.059000-04:00  11046.1  11420.0  10043.0  11205.0   \n",
      "\n",
      "                                        volume  signal    sma10     sma20  \\\n",
      "date                                                                        \n",
      "2020-07-27 21:59:17.059000-04:00  15953.454052     0.0  11205.0  11205.09   \n",
      "\n",
      "                                  entry/exit  \n",
      "date                                          \n",
      "2020-07-27 21:59:17.059000-04:00         0.0  \n",
      "None\n",
      "20\n",
      "                                     open     high      low    close  \\\n",
      "date                                                                   \n",
      "2020-07-27 21:59:18.178000-04:00  11046.1  11420.0  10043.0  11205.0   \n",
      "\n",
      "                                        volume  signal    sma10     sma20  \\\n",
      "date                                                                        \n",
      "2020-07-27 21:59:18.178000-04:00  15953.454052     0.0  11205.0  11205.06   \n",
      "\n",
      "                                  entry/exit  \n",
      "date                                          \n",
      "2020-07-27 21:59:18.178000-04:00         0.0  \n",
      "None\n"
     ]
    },
    {
     "name": "stderr",
     "output_type": "stream",
     "text": [
      "127.0.0.1 - - [27/Jul/2020 21:59:19] \"\u001b[37mPOST /_dash-update-component HTTP/1.1\u001b[0m\" 200 -\n",
      "127.0.0.1 - - [27/Jul/2020 21:59:19] \"\u001b[37mPOST /_dash-update-component HTTP/1.1\u001b[0m\" 200 -\n"
     ]
    },
    {
     "name": "stdout",
     "output_type": "stream",
     "text": [
      "20\n",
      "                                     open     high      low    close  \\\n",
      "date                                                                   \n",
      "2020-07-27 21:59:19.174000-04:00  11046.1  11420.0  10043.0  11205.0   \n",
      "\n",
      "                                        volume  signal    sma10     sma20  \\\n",
      "date                                                                        \n",
      "2020-07-27 21:59:19.174000-04:00  15953.454052     0.0  11205.0  11205.03   \n",
      "\n",
      "                                  entry/exit  \n",
      "date                                          \n",
      "2020-07-27 21:59:19.174000-04:00         0.0  \n",
      "None\n"
     ]
    },
    {
     "name": "stderr",
     "output_type": "stream",
     "text": [
      "127.0.0.1 - - [27/Jul/2020 21:59:20] \"\u001b[37mPOST /_dash-update-component HTTP/1.1\u001b[0m\" 200 -\n",
      "127.0.0.1 - - [27/Jul/2020 21:59:20] \"\u001b[37mPOST /_dash-update-component HTTP/1.1\u001b[0m\" 200 -\n"
     ]
    },
    {
     "name": "stdout",
     "output_type": "stream",
     "text": [
      "20\n",
      "                                     open     high      low    close  \\\n",
      "date                                                                   \n",
      "2020-07-27 21:59:20.061000-04:00  11046.1  11420.0  10043.0  11205.0   \n",
      "\n",
      "                                        volume  signal    sma10    sma20  \\\n",
      "date                                                                       \n",
      "2020-07-27 21:59:20.061000-04:00  15953.454052     0.0  11205.0  11205.0   \n",
      "\n",
      "                                  entry/exit  \n",
      "date                                          \n",
      "2020-07-27 21:59:20.061000-04:00         0.0  "
     ]
    },
    {
     "name": "stderr",
     "output_type": "stream",
     "text": [
      "127.0.0.1 - - [27/Jul/2020 21:59:21] \"\u001b[37mPOST /_dash-update-component HTTP/1.1\u001b[0m\" 200 -\n",
      "127.0.0.1 - - [27/Jul/2020 21:59:21] \"\u001b[37mPOST /_dash-update-component HTTP/1.1\u001b[0m\" 200 -\n"
     ]
    },
    {
     "name": "stdout",
     "output_type": "stream",
     "text": [
      "\n",
      "None\n"
     ]
    },
    {
     "name": "stderr",
     "output_type": "stream",
     "text": [
      "127.0.0.1 - - [27/Jul/2020 21:59:22] \"\u001b[37mPOST /_dash-update-component HTTP/1.1\u001b[0m\" 200 -\n"
     ]
    },
    {
     "name": "stdout",
     "output_type": "stream",
     "text": [
      "20\n",
      "                                     open     high      low    close  \\\n",
      "date                                                                   \n",
      "2020-07-27 21:59:21.085000-04:00  11046.1  11420.0  10043.0  11205.0   \n",
      "\n",
      "                                        volume  signal    sma10    sma20  \\\n",
      "date                                                                       \n",
      "2020-07-27 21:59:21.085000-04:00  15953.454052     0.0  11205.0  11205.0   \n",
      "\n",
      "                                  entry/exit  \n",
      "date                                          \n",
      "2020-07-27 21:59:21.085000-04:00         0.0  \n",
      "None\n"
     ]
    },
    {
     "name": "stderr",
     "output_type": "stream",
     "text": [
      "127.0.0.1 - - [27/Jul/2020 21:59:22] \"\u001b[37mPOST /_dash-update-component HTTP/1.1\u001b[0m\" 200 -\n"
     ]
    },
    {
     "name": "stdout",
     "output_type": "stream",
     "text": [
      "20\n"
     ]
    },
    {
     "name": "stderr",
     "output_type": "stream",
     "text": [
      "127.0.0.1 - - [27/Jul/2020 21:59:23] \"\u001b[37mPOST /_dash-update-component HTTP/1.1\u001b[0m\" 200 -\n",
      "127.0.0.1 - - [27/Jul/2020 21:59:23] \"\u001b[37mPOST /_dash-update-component HTTP/1.1\u001b[0m\" 200 -\n"
     ]
    },
    {
     "name": "stdout",
     "output_type": "stream",
     "text": [
      "                                     open     high      low    close  \\\n",
      "date                                                                   \n",
      "2020-07-27 21:59:22.075000-04:00  11051.0  11420.0  10043.0  11205.0   \n",
      "\n",
      "                                        volume  signal    sma10    sma20  \\\n",
      "date                                                                       \n",
      "2020-07-27 21:59:22.075000-04:00  15953.447266     0.0  11205.0  11205.0   \n",
      "\n",
      "                                  entry/exit  \n",
      "date                                          \n",
      "2020-07-27 21:59:22.075000-04:00         0.0  \n",
      "None\n",
      "20\n"
     ]
    },
    {
     "name": "stderr",
     "output_type": "stream",
     "text": [
      "127.0.0.1 - - [27/Jul/2020 21:59:24] \"\u001b[37mPOST /_dash-update-component HTTP/1.1\u001b[0m\" 200 -\n",
      "127.0.0.1 - - [27/Jul/2020 21:59:24] \"\u001b[37mPOST /_dash-update-component HTTP/1.1\u001b[0m\" 200 -\n"
     ]
    },
    {
     "name": "stdout",
     "output_type": "stream",
     "text": [
      "                                     open     high      low    close  \\\n",
      "date                                                                   \n",
      "2020-07-27 21:59:23.215000-04:00  11051.0  11420.0  10043.0  11205.0   \n",
      "\n",
      "                                        volume  signal    sma10    sma20  \\\n",
      "date                                                                       \n",
      "2020-07-27 21:59:23.215000-04:00  15953.447266     0.0  11205.0  11205.0   \n",
      "\n",
      "                                  entry/exit  \n",
      "date                                          \n",
      "2020-07-27 21:59:23.215000-04:00         0.0  \n",
      "None\n",
      "20\n"
     ]
    },
    {
     "name": "stderr",
     "output_type": "stream",
     "text": [
      "127.0.0.1 - - [27/Jul/2020 21:59:25] \"\u001b[37mPOST /_dash-update-component HTTP/1.1\u001b[0m\" 200 -\n",
      "127.0.0.1 - - [27/Jul/2020 21:59:25] \"\u001b[37mPOST /_dash-update-component HTTP/1.1\u001b[0m\" 200 -\n"
     ]
    },
    {
     "name": "stdout",
     "output_type": "stream",
     "text": [
      "                                     open     high      low    close  \\\n",
      "date                                                                   \n",
      "2020-07-27 21:59:24.228000-04:00  11046.1  11420.0  10043.0  11205.0   \n",
      "\n",
      "                                        volume  signal    sma10    sma20  \\\n",
      "date                                                                       \n",
      "2020-07-27 21:59:24.228000-04:00  15953.447266     0.0  11205.0  11205.0   \n",
      "\n",
      "                                  entry/exit  \n",
      "date                                          \n",
      "2020-07-27 21:59:24.228000-04:00         0.0  \n",
      "None\n"
     ]
    },
    {
     "name": "stderr",
     "output_type": "stream",
     "text": [
      "127.0.0.1 - - [27/Jul/2020 21:59:26] \"\u001b[37mPOST /_dash-update-component HTTP/1.1\u001b[0m\" 200 -\n"
     ]
    },
    {
     "name": "stdout",
     "output_type": "stream",
     "text": [
      "20\n"
     ]
    },
    {
     "name": "stderr",
     "output_type": "stream",
     "text": [
      "127.0.0.1 - - [27/Jul/2020 21:59:26] \"\u001b[37mPOST /_dash-update-component HTTP/1.1\u001b[0m\" 200 -\n"
     ]
    },
    {
     "name": "stdout",
     "output_type": "stream",
     "text": [
      "                                     open     high      low    close  \\\n",
      "date                                                                   \n",
      "2020-07-27 21:59:25.138000-04:00  11046.1  11420.0  10043.0  11205.0   \n",
      "\n",
      "                                        volume  signal    sma10    sma20  \\\n",
      "date                                                                       \n",
      "2020-07-27 21:59:25.138000-04:00  15953.447266     0.0  11205.0  11205.0   \n",
      "\n",
      "                                  entry/exit  \n",
      "date                                          \n",
      "2020-07-27 21:59:25.138000-04:00         0.0  \n",
      "None\n"
     ]
    },
    {
     "name": "stderr",
     "output_type": "stream",
     "text": [
      "127.0.0.1 - - [27/Jul/2020 21:59:27] \"\u001b[37mPOST /_dash-update-component HTTP/1.1\u001b[0m\" 200 -\n",
      "127.0.0.1 - - [27/Jul/2020 21:59:27] \"\u001b[37mPOST /_dash-update-component HTTP/1.1\u001b[0m\" 200 -\n"
     ]
    },
    {
     "name": "stdout",
     "output_type": "stream",
     "text": [
      "20\n",
      "                                     open     high      low    close  \\\n",
      "date                                                                   \n",
      "2020-07-27 21:59:26.151000-04:00  11046.1  11420.0  10043.0  11205.0   \n",
      "\n",
      "                                        volume  signal    sma10    sma20  \\\n",
      "date                                                                       \n",
      "2020-07-27 21:59:26.151000-04:00  15953.447266     0.0  11205.0  11205.0   \n",
      "\n",
      "                                  entry/exit  \n",
      "date                                          \n",
      "2020-07-27 21:59:26.151000-04:00         0.0  \n",
      "None\n"
     ]
    },
    {
     "name": "stderr",
     "output_type": "stream",
     "text": [
      "127.0.0.1 - - [27/Jul/2020 21:59:28] \"\u001b[37mPOST /_dash-update-component HTTP/1.1\u001b[0m\" 200 -\n",
      "127.0.0.1 - - [27/Jul/2020 21:59:28] \"\u001b[37mPOST /_dash-update-component HTTP/1.1\u001b[0m\" 200 -\n"
     ]
    },
    {
     "name": "stdout",
     "output_type": "stream",
     "text": [
      "20\n",
      "                                     open     high      low    close  \\\n",
      "date                                                                   \n",
      "2020-07-27 21:59:27.082000-04:00  11046.1  11420.0  10043.0  11205.0   \n",
      "\n",
      "                                        volume  signal    sma10    sma20  \\\n",
      "date                                                                       \n",
      "2020-07-27 21:59:27.082000-04:00  15953.447266     0.0  11205.0  11205.0   \n",
      "\n",
      "                                  entry/exit  \n",
      "date                                          \n",
      "2020-07-27 21:59:27.082000-04:00         0.0  \n",
      "None\n"
     ]
    },
    {
     "name": "stderr",
     "output_type": "stream",
     "text": [
      "127.0.0.1 - - [27/Jul/2020 21:59:29] \"\u001b[37mPOST /_dash-update-component HTTP/1.1\u001b[0m\" 200 -\n",
      "127.0.0.1 - - [27/Jul/2020 21:59:29] \"\u001b[37mPOST /_dash-update-component HTTP/1.1\u001b[0m\" 200 -\n"
     ]
    },
    {
     "name": "stdout",
     "output_type": "stream",
     "text": [
      "20\n",
      "                                     open     high      low    close  \\\n",
      "date                                                                   \n",
      "2020-07-27 21:59:28.063000-04:00  11046.1  11420.0  10043.0  11205.0   \n",
      "\n",
      "                                        volume  signal    sma10    sma20  \\\n",
      "date                                                                       \n",
      "2020-07-27 21:59:28.063000-04:00  15953.404766     0.0  11205.0  11205.0   \n",
      "\n",
      "                                  entry/exit  \n",
      "date                                          \n",
      "2020-07-27 21:59:28.063000-04:00         0.0  \n",
      "None\n"
     ]
    },
    {
     "name": "stderr",
     "output_type": "stream",
     "text": [
      "127.0.0.1 - - [27/Jul/2020 21:59:30] \"\u001b[37mPOST /_dash-update-component HTTP/1.1\u001b[0m\" 200 -\n",
      "127.0.0.1 - - [27/Jul/2020 21:59:30] \"\u001b[37mPOST /_dash-update-component HTTP/1.1\u001b[0m\" 200 -\n"
     ]
    },
    {
     "name": "stdout",
     "output_type": "stream",
     "text": [
      "20\n",
      "                                     open     high      low    close  \\\n",
      "date                                                                   \n",
      "2020-07-27 21:59:29.072000-04:00  11046.1  11420.0  10043.0  11205.0   \n",
      "\n",
      "                                        volume  signal    sma10    sma20  \\\n",
      "date                                                                       \n",
      "2020-07-27 21:59:29.072000-04:00  15953.404766     0.0  11205.0  11205.0   \n",
      "\n",
      "                                  entry/exit  \n",
      "date                                          \n",
      "2020-07-27 21:59:29.072000-04:00         0.0  \n",
      "None\n",
      "20\n",
      "                                     open     high      low    close  \\\n",
      "date                                                                   \n",
      "2020-07-27 21:59:30.024000-04:00  11046.1  11420.0  10043.0  11205.0   \n",
      "\n",
      "                                        volume  signal    sma10    sma20  \\\n",
      "date                                                                       \n",
      "2020-07-27 21:59:30.024000-04:00  15953.404766     0.0  11205.0  11205.0   \n",
      "\n",
      "                                  entry/exit  \n",
      "date                                          \n",
      "2020-07-27 21:59:30.024000-04:00         0.0  \n",
      "None\n"
     ]
    },
    {
     "name": "stderr",
     "output_type": "stream",
     "text": [
      "127.0.0.1 - - [27/Jul/2020 21:59:31] \"\u001b[37mPOST /_dash-update-component HTTP/1.1\u001b[0m\" 200 -\n",
      "127.0.0.1 - - [27/Jul/2020 21:59:31] \"\u001b[37mPOST /_dash-update-component HTTP/1.1\u001b[0m\" 200 -\n",
      "127.0.0.1 - - [27/Jul/2020 21:59:32] \"\u001b[37mPOST /_dash-update-component HTTP/1.1\u001b[0m\" 200 -\n"
     ]
    },
    {
     "name": "stdout",
     "output_type": "stream",
     "text": [
      "20\n",
      "                                     open     high      low    close  \\\n",
      "date                                                                   \n",
      "2020-07-27 21:59:31.115000-04:00  11046.1  11420.0  10043.0  11205.0   \n",
      "\n",
      "                                        volume  signal    sma10    sma20  \\\n",
      "date                                                                       \n",
      "2020-07-27 21:59:31.115000-04:00  15953.404766     0.0  11205.0  11205.0   \n",
      "\n",
      "                                  entry/exit  \n",
      "date                                          \n",
      "2020-07-27 21:59:31.115000-04:00         0.0  \n",
      "None\n"
     ]
    },
    {
     "name": "stderr",
     "output_type": "stream",
     "text": [
      "127.0.0.1 - - [27/Jul/2020 21:59:32] \"\u001b[37mPOST /_dash-update-component HTTP/1.1\u001b[0m\" 200 -\n",
      "127.0.0.1 - - [27/Jul/2020 21:59:33] \"\u001b[37mPOST /_dash-update-component HTTP/1.1\u001b[0m\" 200 -\n"
     ]
    },
    {
     "name": "stdout",
     "output_type": "stream",
     "text": [
      "20\n"
     ]
    },
    {
     "name": "stderr",
     "output_type": "stream",
     "text": [
      "127.0.0.1 - - [27/Jul/2020 21:59:33] \"\u001b[37mPOST /_dash-update-component HTTP/1.1\u001b[0m\" 200 -\n"
     ]
    },
    {
     "name": "stdout",
     "output_type": "stream",
     "text": [
      "                                     open     high      low    close  \\\n",
      "date                                                                   \n",
      "2020-07-27 21:59:32.055000-04:00  11046.1  11420.0  10043.0  11205.0   \n",
      "\n",
      "                                        volume  signal    sma10    sma20  \\\n",
      "date                                                                       \n",
      "2020-07-27 21:59:32.055000-04:00  15953.404766     0.0  11205.0  11205.0   \n",
      "\n",
      "                                  entry/exit  \n",
      "date                                          \n",
      "2020-07-27 21:59:32.055000-04:00         0.0  \n",
      "None\n"
     ]
    },
    {
     "name": "stderr",
     "output_type": "stream",
     "text": [
      "127.0.0.1 - - [27/Jul/2020 21:59:34] \"\u001b[37mPOST /_dash-update-component HTTP/1.1\u001b[0m\" 200 -\n"
     ]
    },
    {
     "name": "stdout",
     "output_type": "stream",
     "text": [
      "20\n",
      "                                     open     high      low    close  \\\n",
      "date                                                                   \n",
      "2020-07-27 21:59:33.046000-04:00  11046.1  11420.0  10043.0  11205.0   \n",
      "\n",
      "                                        volume  signal    sma10    sma20  \\\n",
      "date                                                                       \n",
      "2020-07-27 21:59:33.046000-04:00  15953.404766     0.0  11205.0  11205.0   \n",
      "\n",
      "                                  entry/exit  \n",
      "date                                          \n",
      "2020-07-27 21:59:33.046000-04:00         0.0  \n",
      "None\n"
     ]
    },
    {
     "name": "stderr",
     "output_type": "stream",
     "text": [
      "127.0.0.1 - - [27/Jul/2020 21:59:34] \"\u001b[37mPOST /_dash-update-component HTTP/1.1\u001b[0m\" 200 -\n",
      "127.0.0.1 - - [27/Jul/2020 21:59:35] \"\u001b[37mPOST /_dash-update-component HTTP/1.1\u001b[0m\" 200 -\n"
     ]
    },
    {
     "name": "stdout",
     "output_type": "stream",
     "text": [
      "20\n",
      "                                     open     high      low    close  \\\n",
      "date                                                                   \n",
      "2020-07-27 21:59:34.046000-04:00  11046.1  11420.0  10043.0  11205.0   \n",
      "\n",
      "                                        volume  signal    sma10    sma20  \\\n",
      "date                                                                       \n",
      "2020-07-27 21:59:34.046000-04:00  15953.404766     0.0  11205.0  11205.0   \n",
      "\n",
      "                                  entry/exit  \n",
      "date                                          \n",
      "2020-07-27 21:59:34.046000-04:00         0.0  \n",
      "None\n"
     ]
    },
    {
     "name": "stderr",
     "output_type": "stream",
     "text": [
      "127.0.0.1 - - [27/Jul/2020 21:59:35] \"\u001b[37mPOST /_dash-update-component HTTP/1.1\u001b[0m\" 200 -\n",
      "127.0.0.1 - - [27/Jul/2020 21:59:36] \"\u001b[37mPOST /_dash-update-component HTTP/1.1\u001b[0m\" 200 -\n",
      "127.0.0.1 - - [27/Jul/2020 21:59:36] \"\u001b[37mPOST /_dash-update-component HTTP/1.1\u001b[0m\" 200 -\n"
     ]
    },
    {
     "name": "stdout",
     "output_type": "stream",
     "text": [
      "20\n",
      "                                     open     high      low    close  \\\n",
      "date                                                                   \n",
      "2020-07-27 21:59:35.082000-04:00  11046.1  11420.0  10043.0  11205.0   \n",
      "\n",
      "                                        volume  signal    sma10    sma20  \\\n",
      "date                                                                       \n",
      "2020-07-27 21:59:35.082000-04:00  15953.404766     0.0  11205.0  11205.0   \n",
      "\n",
      "                                  entry/exit  \n",
      "date                                          \n",
      "2020-07-27 21:59:35.082000-04:00         0.0  \n",
      "None\n",
      "20\n"
     ]
    },
    {
     "name": "stderr",
     "output_type": "stream",
     "text": [
      "127.0.0.1 - - [27/Jul/2020 21:59:37] \"\u001b[37mPOST /_dash-update-component HTTP/1.1\u001b[0m\" 200 -\n",
      "127.0.0.1 - - [27/Jul/2020 21:59:37] \"\u001b[37mPOST /_dash-update-component HTTP/1.1\u001b[0m\" 200 -\n"
     ]
    },
    {
     "name": "stdout",
     "output_type": "stream",
     "text": [
      "                                     open     high      low    close  \\\n",
      "date                                                                   \n",
      "2020-07-27 21:59:36.091000-04:00  11046.1  11420.0  10043.0  11205.0   \n",
      "\n",
      "                                        volume  signal    sma10    sma20  \\\n",
      "date                                                                       \n",
      "2020-07-27 21:59:36.091000-04:00  15953.404766     0.0  11205.0  11205.0   \n",
      "\n",
      "                                  entry/exit  \n",
      "date                                          \n",
      "2020-07-27 21:59:36.091000-04:00         0.0  \n",
      "None\n",
      "20\n"
     ]
    },
    {
     "name": "stderr",
     "output_type": "stream",
     "text": [
      "127.0.0.1 - - [27/Jul/2020 21:59:38] \"\u001b[37mPOST /_dash-update-component HTTP/1.1\u001b[0m\" 200 -\n",
      "127.0.0.1 - - [27/Jul/2020 21:59:38] \"\u001b[37mPOST /_dash-update-component HTTP/1.1\u001b[0m\" 200 -\n"
     ]
    },
    {
     "name": "stdout",
     "output_type": "stream",
     "text": [
      "                                     open     high      low    close  \\\n",
      "date                                                                   \n",
      "2020-07-27 21:59:37.223000-04:00  11046.1  11420.0  10043.0  11205.0   \n",
      "\n",
      "                                        volume  signal    sma10    sma20  \\\n",
      "date                                                                       \n",
      "2020-07-27 21:59:37.223000-04:00  15953.404766     0.0  11205.0  11205.0   \n",
      "\n",
      "                                  entry/exit  \n",
      "date                                          \n",
      "2020-07-27 21:59:37.223000-04:00         0.0  \n",
      "None\n",
      "20\n"
     ]
    },
    {
     "name": "stderr",
     "output_type": "stream",
     "text": [
      "127.0.0.1 - - [27/Jul/2020 21:59:39] \"\u001b[37mPOST /_dash-update-component HTTP/1.1\u001b[0m\" 200 -\n",
      "127.0.0.1 - - [27/Jul/2020 21:59:39] \"\u001b[37mPOST /_dash-update-component HTTP/1.1\u001b[0m\" 200 -\n"
     ]
    },
    {
     "name": "stdout",
     "output_type": "stream",
     "text": [
      "                                     open     high      low    close  \\\n",
      "date                                                                   \n",
      "2020-07-27 21:59:38.136000-04:00  11046.1  11420.0  10043.0  11205.0   \n",
      "\n",
      "                                        volume  signal    sma10    sma20  \\\n",
      "date                                                                       \n",
      "2020-07-27 21:59:38.136000-04:00  15953.404766     0.0  11205.0  11205.0   \n",
      "\n",
      "                                  entry/exit  \n",
      "date                                          \n",
      "2020-07-27 21:59:38.136000-04:00         0.0  \n",
      "None\n",
      "20\n",
      "                                     open     high      low    close  \\\n",
      "date                                                                   \n",
      "2020-07-27 21:59:39.215000-04:00  11046.1  11420.0  10043.0  11205.0   \n",
      "\n",
      "                                        volume  signal    sma10    sma20  \\\n",
      "date                                                                       \n",
      "2020-07-27 21:59:39.215000-04:00  15953.404766     0.0  11205.0  11205.0   \n",
      "\n",
      "                                  entry/exit  \n",
      "date                                          \n",
      "2020-07-27 21:59:39.215000-04:00         0.0  \n",
      "None\n"
     ]
    },
    {
     "name": "stderr",
     "output_type": "stream",
     "text": [
      "127.0.0.1 - - [27/Jul/2020 21:59:40] \"\u001b[37mPOST /_dash-update-component HTTP/1.1\u001b[0m\" 200 -\n",
      "127.0.0.1 - - [27/Jul/2020 21:59:40] \"\u001b[37mPOST /_dash-update-component HTTP/1.1\u001b[0m\" 200 -\n"
     ]
    },
    {
     "name": "stdout",
     "output_type": "stream",
     "text": [
      "20\n",
      "                                     open     high      low    close  \\\n",
      "date                                                                   \n",
      "2020-07-27 21:59:40.096000-04:00  11046.1  11420.0  10043.0  11205.0   \n",
      "\n",
      "                                        volume  signal    sma10    sma20  \\\n",
      "date                                                                       \n",
      "2020-07-27 21:59:40.096000-04:00  15953.404766     0.0  11205.0  11205.0   \n",
      "\n",
      "                                  entry/exit  \n",
      "date                                          \n",
      "2020-07-27 21:59:40.096000-04:00         0.0  \n",
      "None\n"
     ]
    },
    {
     "name": "stderr",
     "output_type": "stream",
     "text": [
      "127.0.0.1 - - [27/Jul/2020 21:59:41] \"\u001b[37mPOST /_dash-update-component HTTP/1.1\u001b[0m\" 200 -\n",
      "127.0.0.1 - - [27/Jul/2020 21:59:41] \"\u001b[37mPOST /_dash-update-component HTTP/1.1\u001b[0m\" 200 -\n",
      "127.0.0.1 - - [27/Jul/2020 21:59:42] \"\u001b[37mPOST /_dash-update-component HTTP/1.1\u001b[0m\" 200 -\n"
     ]
    },
    {
     "name": "stdout",
     "output_type": "stream",
     "text": [
      "20\n",
      "                                     open     high      low    close  \\\n",
      "date                                                                   \n",
      "2020-07-27 21:59:41.096000-04:00  11046.1  11420.0  10043.0  11207.1   \n",
      "\n",
      "                                        volume  signal     sma10      sma20  \\\n",
      "date                                                                          \n",
      "2020-07-27 21:59:41.096000-04:00  15960.904766     0.0  11205.21  11205.105   \n",
      "\n",
      "                                  entry/exit  \n",
      "date                                          \n",
      "2020-07-27 21:59:41.096000-04:00         0.0  \n",
      "None\n"
     ]
    },
    {
     "name": "stderr",
     "output_type": "stream",
     "text": [
      "127.0.0.1 - - [27/Jul/2020 21:59:42] \"\u001b[37mPOST /_dash-update-component HTTP/1.1\u001b[0m\" 200 -\n",
      "127.0.0.1 - - [27/Jul/2020 21:59:43] \"\u001b[37mPOST /_dash-update-component HTTP/1.1\u001b[0m\" 200 -\n",
      "127.0.0.1 - - [27/Jul/2020 21:59:43] \"\u001b[37mPOST /_dash-update-component HTTP/1.1\u001b[0m\" 200 -\n"
     ]
    },
    {
     "name": "stdout",
     "output_type": "stream",
     "text": [
      "20\n",
      "                                     open     high      low    close  \\\n",
      "date                                                                   \n",
      "2020-07-27 21:59:42.037000-04:00  11046.1  11420.0  10043.0  11207.1   \n",
      "\n",
      "                                        volume  signal     sma10     sma20  \\\n",
      "date                                                                         \n",
      "2020-07-27 21:59:42.037000-04:00  15960.904766     0.0  11205.42  11205.21   \n",
      "\n",
      "                                  entry/exit  \n",
      "date                                          \n",
      "2020-07-27 21:59:42.037000-04:00         0.0  \n",
      "None\n"
     ]
    },
    {
     "name": "stderr",
     "output_type": "stream",
     "text": [
      "127.0.0.1 - - [27/Jul/2020 21:59:44] \"\u001b[37mPOST /_dash-update-component HTTP/1.1\u001b[0m\" 200 -\n"
     ]
    },
    {
     "name": "stdout",
     "output_type": "stream",
     "text": [
      "20\n",
      "                                     open     high      low    close  \\\n",
      "date                                                                   \n",
      "2020-07-27 21:59:43.075000-04:00  11046.1  11420.0  10043.0  11207.1   \n",
      "\n",
      "                                        volume  signal     sma10      sma20  \\\n",
      "date                                                                          \n",
      "2020-07-27 21:59:43.075000-04:00  15960.904766     0.0  11205.63  11205.315   \n",
      "\n",
      "                                  entry/exit  \n",
      "date                                          \n",
      "2020-07-27 21:59:43.075000-04:00         0.0  \n",
      "None\n"
     ]
    },
    {
     "name": "stderr",
     "output_type": "stream",
     "text": [
      "127.0.0.1 - - [27/Jul/2020 21:59:44] \"\u001b[37mPOST /_dash-update-component HTTP/1.1\u001b[0m\" 200 -\n"
     ]
    },
    {
     "name": "stdout",
     "output_type": "stream",
     "text": [
      "20\n"
     ]
    },
    {
     "name": "stderr",
     "output_type": "stream",
     "text": [
      "127.0.0.1 - - [27/Jul/2020 21:59:45] \"\u001b[37mPOST /_dash-update-component HTTP/1.1\u001b[0m\" 200 -\n",
      "127.0.0.1 - - [27/Jul/2020 21:59:45] \"\u001b[37mPOST /_dash-update-component HTTP/1.1\u001b[0m\" 200 -\n"
     ]
    },
    {
     "name": "stdout",
     "output_type": "stream",
     "text": [
      "                                     open     high      low    close  \\\n",
      "date                                                                   \n",
      "2020-07-27 21:59:44.093000-04:00  11046.1  11420.0  10043.0  11207.1   \n",
      "\n",
      "                                        volume  signal     sma10     sma20  \\\n",
      "date                                                                         \n",
      "2020-07-27 21:59:44.093000-04:00  15960.604766     0.0  11205.84  11205.42   \n",
      "\n",
      "                                  entry/exit  \n",
      "date                                          \n",
      "2020-07-27 21:59:44.093000-04:00         0.0  \n",
      "None\n"
     ]
    },
    {
     "name": "stderr",
     "output_type": "stream",
     "text": [
      "127.0.0.1 - - [27/Jul/2020 21:59:46] \"\u001b[37mPOST /_dash-update-component HTTP/1.1\u001b[0m\" 200 -\n"
     ]
    },
    {
     "name": "stdout",
     "output_type": "stream",
     "text": [
      "20\n",
      "                                     open     high      low    close  \\\n",
      "date                                                                   \n",
      "2020-07-27 21:59:45.091000-04:00  11046.1  11420.0  10043.0  11207.1   \n",
      "\n",
      "                                        volume  signal     sma10      sma20  \\\n",
      "date                                                                          \n",
      "2020-07-27 21:59:45.091000-04:00  15960.604766     0.0  11206.05  11205.525   \n",
      "\n",
      "                                  entry/exit  \n",
      "date                                          \n",
      "2020-07-27 21:59:45.091000-04:00         0.0  \n",
      "None\n"
     ]
    },
    {
     "name": "stderr",
     "output_type": "stream",
     "text": [
      "127.0.0.1 - - [27/Jul/2020 21:59:46] \"\u001b[37mPOST /_dash-update-component HTTP/1.1\u001b[0m\" 200 -\n",
      "127.0.0.1 - - [27/Jul/2020 21:59:47] \"\u001b[37mPOST /_dash-update-component HTTP/1.1\u001b[0m\" 200 -\n"
     ]
    },
    {
     "name": "stdout",
     "output_type": "stream",
     "text": [
      "20\n",
      "                                     open     high      low    close  \\\n",
      "date                                                                   \n",
      "2020-07-27 21:59:46.561000-04:00  11051.0  11420.0  10043.0  11210.1   \n",
      "\n",
      "                                        volume  signal     sma10     sma20  \\\n",
      "date                                                                         \n",
      "2020-07-27 21:59:46.561000-04:00  15961.324666     0.0  11206.56  11205.78   \n",
      "\n",
      "                                  entry/exit  \n",
      "date                                          \n",
      "2020-07-27 21:59:46.561000-04:00         0.0  \n",
      "None\n"
     ]
    },
    {
     "name": "stderr",
     "output_type": "stream",
     "text": [
      "127.0.0.1 - - [27/Jul/2020 21:59:47] \"\u001b[37mPOST /_dash-update-component HTTP/1.1\u001b[0m\" 200 -\n"
     ]
    },
    {
     "name": "stdout",
     "output_type": "stream",
     "text": [
      "20\n"
     ]
    },
    {
     "name": "stderr",
     "output_type": "stream",
     "text": [
      "127.0.0.1 - - [27/Jul/2020 21:59:48] \"\u001b[37mPOST /_dash-update-component HTTP/1.1\u001b[0m\" 200 -\n",
      "127.0.0.1 - - [27/Jul/2020 21:59:48] \"\u001b[37mPOST /_dash-update-component HTTP/1.1\u001b[0m\" 200 -\n"
     ]
    },
    {
     "name": "stdout",
     "output_type": "stream",
     "text": [
      "                                     open     high      low    close  \\\n",
      "date                                                                   \n",
      "2020-07-27 21:59:47.039000-04:00  11051.0  11420.0  10043.0  11210.1   \n",
      "\n",
      "                                        volume  signal     sma10      sma20  \\\n",
      "date                                                                          \n",
      "2020-07-27 21:59:47.039000-04:00  15961.324666     0.0  11207.07  11206.035   \n",
      "\n",
      "                                  entry/exit  \n",
      "date                                          \n",
      "2020-07-27 21:59:47.039000-04:00         0.0  \n",
      "None\n",
      "20\n"
     ]
    },
    {
     "name": "stderr",
     "output_type": "stream",
     "text": [
      "127.0.0.1 - - [27/Jul/2020 21:59:49] \"\u001b[37mPOST /_dash-update-component HTTP/1.1\u001b[0m\" 200 -\n",
      "127.0.0.1 - - [27/Jul/2020 21:59:49] \"\u001b[37mPOST /_dash-update-component HTTP/1.1\u001b[0m\" 200 -\n"
     ]
    },
    {
     "name": "stdout",
     "output_type": "stream",
     "text": [
      "                                     open     high      low    close  \\\n",
      "date                                                                   \n",
      "2020-07-27 21:59:48.357000-04:00  11046.1  11420.0  10043.0  11210.1   \n",
      "\n",
      "                                        volume  signal     sma10     sma20  \\\n",
      "date                                                                         \n",
      "2020-07-27 21:59:48.357000-04:00  15961.324666     0.0  11207.58  11206.29   \n",
      "\n",
      "                                  entry/exit  \n",
      "date                                          \n",
      "2020-07-27 21:59:48.357000-04:00         0.0  \n",
      "None\n",
      "20\n"
     ]
    },
    {
     "name": "stderr",
     "output_type": "stream",
     "text": [
      "127.0.0.1 - - [27/Jul/2020 21:59:50] \"\u001b[37mPOST /_dash-update-component HTTP/1.1\u001b[0m\" 200 -\n",
      "127.0.0.1 - - [27/Jul/2020 21:59:50] \"\u001b[37mPOST /_dash-update-component HTTP/1.1\u001b[0m\" 200 -\n"
     ]
    },
    {
     "name": "stdout",
     "output_type": "stream",
     "text": [
      "                                     open     high      low    close  \\\n",
      "date                                                                   \n",
      "2020-07-27 21:59:49.220000-04:00  11046.1  11420.0  10043.0  11210.1   \n",
      "\n",
      "                                        volume  signal     sma10      sma20  \\\n",
      "date                                                                          \n",
      "2020-07-27 21:59:49.220000-04:00  15961.324666     0.0  11208.09  11206.545   \n",
      "\n",
      "                                  entry/exit  \n",
      "date                                          \n",
      "2020-07-27 21:59:49.220000-04:00         0.0  \n",
      "None\n",
      "20\n"
     ]
    },
    {
     "name": "stderr",
     "output_type": "stream",
     "text": [
      "127.0.0.1 - - [27/Jul/2020 21:59:51] \"\u001b[37mPOST /_dash-update-component HTTP/1.1\u001b[0m\" 200 -\n",
      "127.0.0.1 - - [27/Jul/2020 21:59:51] \"\u001b[37mPOST /_dash-update-component HTTP/1.1\u001b[0m\" 200 -\n"
     ]
    },
    {
     "name": "stdout",
     "output_type": "stream",
     "text": [
      "                                     open     high      low    close  \\\n",
      "date                                                                   \n",
      "2020-07-27 21:59:50.236000-04:00  11046.1  11420.0  10043.0  11210.1   \n",
      "\n",
      "                                        volume  signal    sma10    sma20  \\\n",
      "date                                                                       \n",
      "2020-07-27 21:59:50.236000-04:00  15961.324666     0.0  11208.6  11206.8   \n",
      "\n",
      "                                  entry/exit  \n",
      "date                                          \n",
      "2020-07-27 21:59:50.236000-04:00         0.0  \n",
      "None\n",
      "20\n"
     ]
    },
    {
     "name": "stderr",
     "output_type": "stream",
     "text": [
      "127.0.0.1 - - [27/Jul/2020 21:59:52] \"\u001b[37mPOST /_dash-update-component HTTP/1.1\u001b[0m\" 200 -\n",
      "127.0.0.1 - - [27/Jul/2020 21:59:52] \"\u001b[37mPOST /_dash-update-component HTTP/1.1\u001b[0m\" 200 -\n"
     ]
    },
    {
     "name": "stdout",
     "output_type": "stream",
     "text": [
      "                                     open     high      low    close  \\\n",
      "date                                                                   \n",
      "2020-07-27 21:59:51.267000-04:00  11046.1  11420.0  10043.0  11210.1   \n",
      "\n",
      "                                        volume  signal    sma10      sma20  \\\n",
      "date                                                                         \n",
      "2020-07-27 21:59:51.267000-04:00  15961.324666     0.0  11208.9  11207.055   \n",
      "\n",
      "                                  entry/exit  \n",
      "date                                          \n",
      "2020-07-27 21:59:51.267000-04:00         0.0  \n",
      "None\n"
     ]
    },
    {
     "name": "stderr",
     "output_type": "stream",
     "text": [
      "127.0.0.1 - - [27/Jul/2020 21:59:53] \"\u001b[37mPOST /_dash-update-component HTTP/1.1\u001b[0m\" 200 -\n",
      "127.0.0.1 - - [27/Jul/2020 21:59:54] \"\u001b[37mPOST /_dash-update-component HTTP/1.1\u001b[0m\" 200 -\n"
     ]
    },
    {
     "name": "stdout",
     "output_type": "stream",
     "text": [
      "20\n",
      "                                     open     high      low    close  \\\n",
      "date                                                                   \n",
      "2020-07-27 21:59:53.010000-04:00  11046.1  11420.0  10043.0  11211.1   \n",
      "\n",
      "                                        volume  signal    sma10      sma20  \\\n",
      "date                                                                         \n",
      "2020-07-27 21:59:53.010000-04:00  15961.312998     0.0  11209.7  11207.665   \n",
      "\n",
      "                                  entry/exit  \n",
      "date                                          \n",
      "2020-07-27 21:59:53.010000-04:00         0.0  \n",
      "None\n"
     ]
    },
    {
     "name": "stderr",
     "output_type": "stream",
     "text": [
      "127.0.0.1 - - [27/Jul/2020 21:59:57] \"\u001b[37mPOST /_dash-update-component HTTP/1.1\u001b[0m\" 200 -\n"
     ]
    },
    {
     "name": "stdout",
     "output_type": "stream",
     "text": [
      "20\n",
      "                                     open     high      low    close  \\\n",
      "date                                                                   \n",
      "2020-07-27 21:59:57.048000-04:00  11046.1  11420.0  10043.0  11211.1   \n",
      "\n",
      "                                        volume  signal    sma10     sma20  \\\n",
      "date                                                                        \n",
      "2020-07-27 21:59:57.048000-04:00  15961.383108     0.0  11210.1  11207.97   \n",
      "\n",
      "                                  entry/exit  \n",
      "date                                          \n",
      "2020-07-27 21:59:57.048000-04:00         0.0  \n",
      "None\n"
     ]
    },
    {
     "name": "stderr",
     "output_type": "stream",
     "text": [
      "127.0.0.1 - - [27/Jul/2020 21:59:59] \"\u001b[37mPOST /_dash-update-component HTTP/1.1\u001b[0m\" 200 -\n",
      "127.0.0.1 - - [27/Jul/2020 22:00:02] \"\u001b[37mPOST /_dash-update-component HTTP/1.1\u001b[0m\" 200 -\n",
      "127.0.0.1 - - [27/Jul/2020 22:00:05] \"\u001b[37mPOST /_dash-update-component HTTP/1.1\u001b[0m\" 200 -\n"
     ]
    },
    {
     "name": "stdout",
     "output_type": "stream",
     "text": [
      "20\n",
      "                                     open     high      low    close  \\\n",
      "date                                                                   \n",
      "2020-07-27 22:00:02.120000-04:00  11046.1  11420.0  10043.0  11216.5   \n",
      "\n",
      "                                        volume  signal     sma10      sma20  \\\n",
      "date                                                                          \n",
      "2020-07-27 22:00:02.120000-04:00  15961.910183     0.0  11211.04  11208.545   \n",
      "\n",
      "                                  entry/exit  \n",
      "date                                          \n",
      "2020-07-27 22:00:02.120000-04:00         0.0  \n",
      "None\n"
     ]
    },
    {
     "name": "stderr",
     "output_type": "stream",
     "text": [
      "127.0.0.1 - - [27/Jul/2020 22:00:08] \"\u001b[37mPOST /_dash-update-component HTTP/1.1\u001b[0m\" 200 -\n",
      "127.0.0.1 - - [27/Jul/2020 22:00:10] \"\u001b[37mPOST /_dash-update-component HTTP/1.1\u001b[0m\" 200 -\n"
     ]
    },
    {
     "name": "stdout",
     "output_type": "stream",
     "text": [
      "20\n",
      "                                     open     high      low    close  \\\n",
      "date                                                                   \n",
      "2020-07-27 22:00:08.122000-04:00  11046.1  11420.0  10043.0  11216.5   \n",
      "\n",
      "                                        volume  signal     sma10     sma20  \\\n",
      "date                                                                         \n",
      "2020-07-27 22:00:08.122000-04:00  15960.910183     0.0  11211.68  11209.12   \n",
      "\n",
      "                                  entry/exit  \n",
      "date                                          \n",
      "2020-07-27 22:00:08.122000-04:00         0.0  \n",
      "None\n"
     ]
    },
    {
     "name": "stderr",
     "output_type": "stream",
     "text": [
      "127.0.0.1 - - [27/Jul/2020 22:00:14] \"\u001b[37mPOST /_dash-update-component HTTP/1.1\u001b[0m\" 200 -\n",
      "127.0.0.1 - - [27/Jul/2020 22:00:16] \"\u001b[37mPOST /_dash-update-component HTTP/1.1\u001b[0m\" 200 -\n"
     ]
    },
    {
     "name": "stdout",
     "output_type": "stream",
     "text": [
      "20\n",
      "                                     open     high      low    close  \\\n",
      "date                                                                   \n",
      "2020-07-27 22:00:14.105000-04:00  11046.1  11420.0  10043.0  11204.8   \n",
      "\n",
      "                                        volume  signal     sma10     sma20  \\\n",
      "date                                                                         \n",
      "2020-07-27 22:00:14.105000-04:00  15964.252624     0.0  11211.15  11209.11   \n",
      "\n",
      "                                  entry/exit  \n",
      "date                                          \n",
      "2020-07-27 22:00:14.105000-04:00         0.0  \n",
      "None\n"
     ]
    },
    {
     "name": "stderr",
     "output_type": "stream",
     "text": [
      "127.0.0.1 - - [27/Jul/2020 22:00:21] \"\u001b[37mPOST /_dash-update-component HTTP/1.1\u001b[0m\" 200 -\n"
     ]
    },
    {
     "name": "stdout",
     "output_type": "stream",
     "text": [
      "20\n",
      "                                     open     high      low    close  \\\n",
      "date                                                                   \n",
      "2020-07-27 22:00:21.041000-04:00  11046.1  11420.0  10043.0  11204.8   \n",
      "\n",
      "                                        volume  signal     sma10    sma20  \\\n",
      "date                                                                        \n",
      "2020-07-27 22:00:21.041000-04:00  15964.618548     0.0  11210.62  11209.1   \n",
      "\n",
      "                                  entry/exit  \n",
      "date                                          \n",
      "2020-07-27 22:00:21.041000-04:00         0.0  \n",
      "None\n"
     ]
    },
    {
     "name": "stderr",
     "output_type": "stream",
     "text": [
      "127.0.0.1 - - [27/Jul/2020 22:00:23] \"\u001b[37mPOST /_dash-update-component HTTP/1.1\u001b[0m\" 200 -\n",
      "127.0.0.1 - - [27/Jul/2020 22:00:26] \"\u001b[37mPOST /_dash-update-component HTTP/1.1\u001b[0m\" 200 -\n",
      "127.0.0.1 - - [27/Jul/2020 22:00:29] \"\u001b[37mPOST /_dash-update-component HTTP/1.1\u001b[0m\" 200 -\n"
     ]
    },
    {
     "name": "stdout",
     "output_type": "stream",
     "text": [
      "20\n",
      "                                     open     high      low    close  \\\n",
      "date                                                                   \n",
      "2020-07-27 22:00:26.112000-04:00  11046.1  11420.0  10043.0  11204.8   \n",
      "\n",
      "                                        volume  signal     sma10     sma20  \\\n",
      "date                                                                         \n",
      "2020-07-27 22:00:26.112000-04:00  15964.618548     0.0  11210.09  11209.09   \n",
      "\n",
      "                                  entry/exit  \n",
      "date                                          \n",
      "2020-07-27 22:00:26.112000-04:00         0.0  \n",
      "None\n"
     ]
    },
    {
     "name": "stderr",
     "output_type": "stream",
     "text": [
      "127.0.0.1 - - [27/Jul/2020 22:00:33] \"\u001b[37mPOST /_dash-update-component HTTP/1.1\u001b[0m\" 200 -\n"
     ]
    },
    {
     "name": "stdout",
     "output_type": "stream",
     "text": [
      "20\n",
      "                                     open     high      low    close  \\\n",
      "date                                                                   \n",
      "2020-07-27 22:00:33.076000-04:00  11051.0  11420.0  10043.0  11206.2   \n",
      "\n",
      "                                        volume  signal    sma10     sma20  \\\n",
      "date                                                                        \n",
      "2020-07-27 22:00:33.076000-04:00  15964.631799     0.0  11209.7  11209.15   \n",
      "\n",
      "                                  entry/exit  \n",
      "date                                          \n",
      "2020-07-27 22:00:33.076000-04:00         0.0  \n",
      "None\n"
     ]
    },
    {
     "name": "stderr",
     "output_type": "stream",
     "text": [
      "127.0.0.1 - - [27/Jul/2020 22:00:35] \"\u001b[37mPOST /_dash-update-component HTTP/1.1\u001b[0m\" 200 -\n",
      "127.0.0.1 - - [27/Jul/2020 22:00:39] \"\u001b[37mPOST /_dash-update-component HTTP/1.1\u001b[0m\" 200 -\n",
      "127.0.0.1 - - [27/Jul/2020 22:00:41] \"\u001b[37mPOST /_dash-update-component HTTP/1.1\u001b[0m\" 200 -\n"
     ]
    },
    {
     "name": "stdout",
     "output_type": "stream",
     "text": [
      "20\n",
      "                                     open     high      low    close  \\\n",
      "date                                                                   \n",
      "2020-07-27 22:00:39.122000-04:00  11046.1  11420.0  10043.0  11206.0   \n",
      "\n",
      "                                       volume  signal     sma10      sma20  \\\n",
      "date                                                                         \n",
      "2020-07-27 22:00:39.122000-04:00  15966.60256     0.0  11209.29  11209.095   \n",
      "\n",
      "                                  entry/exit  \n",
      "date                                          \n",
      "2020-07-27 22:00:39.122000-04:00         0.0  \n",
      "None\n"
     ]
    },
    {
     "name": "stderr",
     "output_type": "stream",
     "text": [
      "127.0.0.1 - - [27/Jul/2020 22:00:45] \"\u001b[37mPOST /_dash-update-component HTTP/1.1\u001b[0m\" 200 -\n",
      "127.0.0.1 - - [27/Jul/2020 22:00:47] \"\u001b[37mPOST /_dash-update-component HTTP/1.1\u001b[0m\" 200 -\n"
     ]
    },
    {
     "name": "stdout",
     "output_type": "stream",
     "text": [
      "20\n",
      "                                     open     high      low    close  \\\n",
      "date                                                                   \n",
      "2020-07-27 22:00:45.056000-04:00  11046.1  11420.0  10043.0  11207.9   \n",
      "\n",
      "                                        volume  signal     sma10      sma20  \\\n",
      "date                                                                          \n",
      "2020-07-27 22:00:45.056000-04:00  15966.668134     0.0  11208.97  11209.135   \n",
      "\n",
      "                                  entry/exit  \n",
      "date                                          \n",
      "2020-07-27 22:00:45.056000-04:00         0.0  \n",
      "None\n"
     ]
    },
    {
     "name": "stderr",
     "output_type": "stream",
     "text": [
      "127.0.0.1 - - [27/Jul/2020 22:00:50] \"\u001b[37mPOST /_dash-update-component HTTP/1.1\u001b[0m\" 200 -\n",
      "127.0.0.1 - - [27/Jul/2020 22:00:53] \"\u001b[37mPOST /_dash-update-component HTTP/1.1\u001b[0m\" 200 -\n"
     ]
    },
    {
     "name": "stdout",
     "output_type": "stream",
     "text": [
      "20\n",
      "                                     open     high      low    close  \\\n",
      "date                                                                   \n",
      "2020-07-27 22:00:50.063000-04:00  11046.1  11420.0  10043.0  11209.1   \n",
      "\n",
      "                                        volume  signal     sma10      sma20  \\\n",
      "date                                                                          \n",
      "2020-07-27 22:00:50.063000-04:00  15964.768995     0.0  11208.77  11209.235   \n",
      "\n",
      "                                  entry/exit  \n",
      "date                                          \n",
      "2020-07-27 22:00:50.063000-04:00         0.0  \n",
      "None\n"
     ]
    },
    {
     "name": "stderr",
     "output_type": "stream",
     "text": [
      "127.0.0.1 - - [27/Jul/2020 22:00:57] \"\u001b[37mPOST /_dash-update-component HTTP/1.1\u001b[0m\" 200 -\n",
      "127.0.0.1 - - [27/Jul/2020 22:00:59] \"\u001b[37mPOST /_dash-update-component HTTP/1.1\u001b[0m\" 200 -\n"
     ]
    },
    {
     "name": "stdout",
     "output_type": "stream",
     "text": [
      "20\n",
      "                                     open     high      low    close  \\\n",
      "date                                                                   \n",
      "2020-07-27 22:00:57.125000-04:00  11046.1  11420.0  10043.0  11209.1   \n",
      "\n",
      "                                        volume  signal     sma10      sma20  \\\n",
      "date                                                                          \n",
      "2020-07-27 22:00:57.125000-04:00  15964.783134     0.0  11208.57  11209.335   \n",
      "\n",
      "                                  entry/exit  \n",
      "date                                          \n",
      "2020-07-27 22:00:57.125000-04:00         0.0  \n",
      "None\n"
     ]
    },
    {
     "name": "stderr",
     "output_type": "stream",
     "text": [
      "127.0.0.1 - - [27/Jul/2020 22:01:02] \"\u001b[37mPOST /_dash-update-component HTTP/1.1\u001b[0m\" 200 -\n",
      "127.0.0.1 - - [27/Jul/2020 22:01:05] \"\u001b[37mPOST /_dash-update-component HTTP/1.1\u001b[0m\" 200 -\n"
     ]
    },
    {
     "name": "stdout",
     "output_type": "stream",
     "text": [
      "20\n",
      "                                     open     high      low    close  \\\n",
      "date                                                                   \n",
      "2020-07-27 22:01:02.094000-04:00  11051.0  11420.0  10043.0  11209.1   \n",
      "\n",
      "                                        volume  signal     sma10      sma20  \\\n",
      "date                                                                          \n",
      "2020-07-27 22:01:02.094000-04:00  15964.763144     0.0  11207.83  11209.435   \n",
      "\n",
      "                                  entry/exit  \n",
      "date                                          \n",
      "2020-07-27 22:01:02.094000-04:00         0.0  \n",
      "None\n"
     ]
    },
    {
     "name": "stderr",
     "output_type": "stream",
     "text": [
      "127.0.0.1 - - [27/Jul/2020 22:01:08] \"\u001b[37mPOST /_dash-update-component HTTP/1.1\u001b[0m\" 200 -\n"
     ]
    },
    {
     "name": "stdout",
     "output_type": "stream",
     "text": [
      "20\n",
      "                                     open     high      low    close  \\\n",
      "date                                                                   \n",
      "2020-07-27 22:01:08.082000-04:00  11051.0  11420.0  10043.0  11209.1   \n",
      "\n",
      "                                        volume  signal     sma10      sma20  \\\n",
      "date                                                                          \n",
      "2020-07-27 22:01:08.082000-04:00  15964.763144     0.0  11207.09  11209.385   \n",
      "\n",
      "                                  entry/exit  \n",
      "date                                          \n",
      "2020-07-27 22:01:08.082000-04:00         0.0  \n",
      "None\n"
     ]
    },
    {
     "name": "stderr",
     "output_type": "stream",
     "text": [
      "127.0.0.1 - - [27/Jul/2020 22:01:10] \"\u001b[37mPOST /_dash-update-component HTTP/1.1\u001b[0m\" 200 -\n",
      "127.0.0.1 - - [27/Jul/2020 22:01:14] \"\u001b[37mPOST /_dash-update-component HTTP/1.1\u001b[0m\" 200 -\n",
      "127.0.0.1 - - [27/Jul/2020 22:01:16] \"\u001b[37mPOST /_dash-update-component HTTP/1.1\u001b[0m\" 200 -\n"
     ]
    },
    {
     "name": "stdout",
     "output_type": "stream",
     "text": [
      "20\n",
      "                                     open     high      low    close  \\\n",
      "date                                                                   \n",
      "2020-07-27 22:01:14.079000-04:00  11046.1  11420.0  10043.0  11206.1   \n",
      "\n",
      "                                        volume  signal     sma10      sma20  \\\n",
      "date                                                                          \n",
      "2020-07-27 22:01:14.079000-04:00  15964.833144     0.0  11207.22  11209.185   \n",
      "\n",
      "                                  entry/exit  \n",
      "date                                          \n",
      "2020-07-27 22:01:14.079000-04:00         0.0  \n",
      "None\n"
     ]
    },
    {
     "name": "stderr",
     "output_type": "stream",
     "text": [
      "127.0.0.1 - - [27/Jul/2020 22:01:20] \"\u001b[37mPOST /_dash-update-component HTTP/1.1\u001b[0m\" 200 -\n"
     ]
    },
    {
     "name": "stdout",
     "output_type": "stream",
     "text": [
      "20\n",
      "                                     open     high      low    close  \\\n",
      "date                                                                   \n",
      "2020-07-27 22:01:20.044000-04:00  11046.1  11420.0  10043.0  11206.1   \n",
      "\n",
      "                                        volume  signal     sma10      sma20  \\\n",
      "date                                                                          \n",
      "2020-07-27 22:01:20.044000-04:00  15960.654604     0.0  11207.35  11208.985   \n",
      "\n",
      "                                  entry/exit  \n",
      "date                                          \n",
      "2020-07-27 22:01:20.044000-04:00         0.0  \n",
      "None\n"
     ]
    },
    {
     "name": "stderr",
     "output_type": "stream",
     "text": [
      "127.0.0.1 - - [27/Jul/2020 22:01:22] \"\u001b[37mPOST /_dash-update-component HTTP/1.1\u001b[0m\" 200 -\n",
      "127.0.0.1 - - [27/Jul/2020 22:01:23] \"\u001b[37mPOST /_dash-update-component HTTP/1.1\u001b[0m\" 200 -\n",
      "127.0.0.1 - - [27/Jul/2020 22:01:25] \"\u001b[37mPOST /_dash-update-component HTTP/1.1\u001b[0m\" 200 -\n"
     ]
    },
    {
     "name": "stdout",
     "output_type": "stream",
     "text": [
      "20\n",
      "                                     open     high      low    close  \\\n",
      "date                                                                   \n",
      "2020-07-27 22:01:23.029000-04:00  11046.1  11420.0  10043.0  11206.1   \n",
      "\n",
      "                                        volume  signal     sma10      sma20  \\\n",
      "date                                                                          \n",
      "2020-07-27 22:01:23.029000-04:00  15960.654604     0.0  11207.48  11208.785   \n",
      "\n",
      "                                  entry/exit  \n",
      "date                                          \n",
      "2020-07-27 22:01:23.029000-04:00         0.0  \n",
      "None\n"
     ]
    },
    {
     "name": "stderr",
     "output_type": "stream",
     "text": [
      "127.0.0.1 - - [27/Jul/2020 22:01:28] \"\u001b[37mPOST /_dash-update-component HTTP/1.1\u001b[0m\" 200 -\n",
      "127.0.0.1 - - [27/Jul/2020 22:01:30] \"\u001b[37mPOST /_dash-update-component HTTP/1.1\u001b[0m\" 200 -\n"
     ]
    },
    {
     "name": "stdout",
     "output_type": "stream",
     "text": [
      "20\n",
      "                                     open     high      low    close  \\\n",
      "date                                                                   \n",
      "2020-07-27 22:01:28.074000-04:00  11046.1  11420.0  10043.0  11206.1   \n",
      "\n",
      "                                        volume  signal     sma10      sma20  \\\n",
      "date                                                                          \n",
      "2020-07-27 22:01:28.074000-04:00  15959.654604     0.0  11207.47  11208.585   \n",
      "\n",
      "                                  entry/exit  \n",
      "date                                          \n",
      "2020-07-27 22:01:28.074000-04:00         0.0  \n",
      "None\n"
     ]
    },
    {
     "name": "stderr",
     "output_type": "stream",
     "text": [
      "127.0.0.1 - - [27/Jul/2020 22:01:33] \"\u001b[37mPOST /_dash-update-component HTTP/1.1\u001b[0m\" 200 -\n",
      "127.0.0.1 - - [27/Jul/2020 22:01:34] \"\u001b[37mPOST /_dash-update-component HTTP/1.1\u001b[0m\" 200 -\n"
     ]
    },
    {
     "name": "stdout",
     "output_type": "stream",
     "text": [
      "20\n",
      "                                     open     high      low    close  \\\n",
      "date                                                                   \n",
      "2020-07-27 22:01:33.140000-04:00  11046.1  11420.0  10043.0  11204.0   \n",
      "\n",
      "                                        volume  signal     sma10     sma20  \\\n",
      "date                                                                         \n",
      "2020-07-27 22:01:33.140000-04:00  15964.874829     0.0  11207.27  11208.28   \n",
      "\n",
      "                                  entry/exit  \n",
      "date                                          \n",
      "2020-07-27 22:01:33.140000-04:00         0.0  \n",
      "None\n"
     ]
    },
    {
     "name": "stderr",
     "output_type": "stream",
     "text": [
      "127.0.0.1 - - [27/Jul/2020 22:01:36] \"\u001b[37mPOST /_dash-update-component HTTP/1.1\u001b[0m\" 200 -\n",
      "127.0.0.1 - - [27/Jul/2020 22:01:38] \"\u001b[37mPOST /_dash-update-component HTTP/1.1\u001b[0m\" 200 -\n"
     ]
    },
    {
     "name": "stdout",
     "output_type": "stream",
     "text": [
      "20\n",
      "                                     open     high      low    close  \\\n",
      "date                                                                   \n",
      "2020-07-27 22:01:36.042000-04:00  11046.1  11420.0  10043.0  11204.0   \n",
      "\n",
      "                                        volume  signal     sma10      sma20  \\\n",
      "date                                                                          \n",
      "2020-07-27 22:01:36.042000-04:00  15963.974829     0.0  11206.88  11207.925   \n",
      "\n",
      "                                  entry/exit  \n",
      "date                                          \n",
      "2020-07-27 22:01:36.042000-04:00         0.0  \n",
      "None\n"
     ]
    },
    {
     "name": "stderr",
     "output_type": "stream",
     "text": [
      "127.0.0.1 - - [27/Jul/2020 22:01:42] \"\u001b[37mPOST /_dash-update-component HTTP/1.1\u001b[0m\" 200 -\n",
      "127.0.0.1 - - [27/Jul/2020 22:01:43] \"\u001b[37mPOST /_dash-update-component HTTP/1.1\u001b[0m\" 200 -\n"
     ]
    },
    {
     "name": "stdout",
     "output_type": "stream",
     "text": [
      "20\n",
      "                                     open     high      low    close  \\\n",
      "date                                                                   \n",
      "2020-07-27 22:01:42.043000-04:00  11046.1  11420.0  10043.0  11204.0   \n",
      "\n",
      "                                        volume  signal     sma10     sma20  \\\n",
      "date                                                                         \n",
      "2020-07-27 22:01:42.043000-04:00  15963.137019     0.0  11206.37  11207.57   \n",
      "\n",
      "                                  entry/exit  \n",
      "date                                          \n",
      "2020-07-27 22:01:42.043000-04:00         0.0  \n",
      "None\n"
     ]
    },
    {
     "name": "stderr",
     "output_type": "stream",
     "text": [
      "127.0.0.1 - - [27/Jul/2020 22:01:47] \"\u001b[37mPOST /_dash-update-component HTTP/1.1\u001b[0m\" 200 -\n",
      "127.0.0.1 - - [27/Jul/2020 22:01:50] \"\u001b[37mPOST /_dash-update-component HTTP/1.1\u001b[0m\" 200 -\n"
     ]
    },
    {
     "name": "stdout",
     "output_type": "stream",
     "text": [
      "20\n",
      "                                     open     high      low    close  \\\n",
      "date                                                                   \n",
      "2020-07-27 22:01:47.079000-04:00  11046.1  11420.0  10043.0  11204.0   \n",
      "\n",
      "                                        volume  signal     sma10      sma20  \\\n",
      "date                                                                          \n",
      "2020-07-27 22:01:47.079000-04:00  15963.137019     0.0  11205.86  11207.215   \n",
      "\n",
      "                                  entry/exit  \n",
      "date                                          \n",
      "2020-07-27 22:01:47.079000-04:00         0.0  \n",
      "None\n"
     ]
    },
    {
     "name": "stderr",
     "output_type": "stream",
     "text": [
      "127.0.0.1 - - [27/Jul/2020 22:01:53] \"\u001b[37mPOST /_dash-update-component HTTP/1.1\u001b[0m\" 200 -\n",
      "127.0.0.1 - - [27/Jul/2020 22:01:56] \"\u001b[37mPOST /_dash-update-component HTTP/1.1\u001b[0m\" 200 -\n"
     ]
    },
    {
     "name": "stdout",
     "output_type": "stream",
     "text": [
      "20\n",
      "                                     open     high      low    close  \\\n",
      "date                                                                   \n",
      "2020-07-27 22:01:53.067000-04:00  11051.0  11420.0  10043.0  11201.0   \n",
      "\n",
      "                                        volume  signal     sma10     sma20  \\\n",
      "date                                                                         \n",
      "2020-07-27 22:01:53.067000-04:00  15963.280889     0.0  11205.05  11206.44   \n",
      "\n",
      "                                  entry/exit  \n",
      "date                                          \n",
      "2020-07-27 22:01:53.067000-04:00         0.0  \n",
      "None\n"
     ]
    },
    {
     "name": "stderr",
     "output_type": "stream",
     "text": [
      "127.0.0.1 - - [27/Jul/2020 22:01:59] \"\u001b[37mPOST /_dash-update-component HTTP/1.1\u001b[0m\" 200 -\n",
      "127.0.0.1 - - [27/Jul/2020 22:02:00] \"\u001b[37mPOST /_dash-update-component HTTP/1.1\u001b[0m\" 200 -\n"
     ]
    },
    {
     "name": "stdout",
     "output_type": "stream",
     "text": [
      "20\n",
      "                                     open     high      low    close  \\\n",
      "date                                                                   \n",
      "2020-07-27 22:01:59.036000-04:00  11046.1  11420.0  10043.0  11201.0   \n",
      "\n",
      "                                        volume  signal     sma10      sma20  \\\n",
      "date                                                                          \n",
      "2020-07-27 22:01:59.036000-04:00  15963.077889     0.0  11204.24  11205.665   \n",
      "\n",
      "                                  entry/exit  \n",
      "date                                          \n",
      "2020-07-27 22:01:59.036000-04:00         0.0  \n",
      "None\n"
     ]
    },
    {
     "name": "stderr",
     "output_type": "stream",
     "text": [
      "127.0.0.1 - - [27/Jul/2020 22:02:01] \"\u001b[37mPOST /_dash-update-component HTTP/1.1\u001b[0m\" 200 -\n",
      "127.0.0.1 - - [27/Jul/2020 22:02:10] \"\u001b[37mPOST /_dash-update-component HTTP/1.1\u001b[0m\" 200 -\n"
     ]
    },
    {
     "name": "stdout",
     "output_type": "stream",
     "text": [
      "20\n",
      "                                     open     high      low    close  \\\n",
      "date                                                                   \n",
      "2020-07-27 22:02:01.125000-04:00  11046.1  11420.0  10043.0  11201.0   \n",
      "\n",
      "                                        volume  signal     sma10      sma20  \\\n",
      "date                                                                          \n",
      "2020-07-27 22:02:01.125000-04:00  15963.077889     0.0  11203.73  11205.475   \n",
      "\n",
      "                                  entry/exit  \n",
      "date                                          \n",
      "2020-07-27 22:02:01.125000-04:00         0.0  \n",
      "None\n"
     ]
    },
    {
     "name": "stderr",
     "output_type": "stream",
     "text": [
      "127.0.0.1 - - [27/Jul/2020 22:02:14] \"\u001b[37mPOST /_dash-update-component HTTP/1.1\u001b[0m\" 200 -\n",
      "127.0.0.1 - - [27/Jul/2020 22:02:16] \"\u001b[37mPOST /_dash-update-component HTTP/1.1\u001b[0m\" 200 -\n"
     ]
    },
    {
     "name": "stdout",
     "output_type": "stream",
     "text": [
      "20\n",
      "                                     open     high      low    close  \\\n",
      "date                                                                   \n",
      "2020-07-27 22:02:14.087000-04:00  11051.0  11420.0  10043.0  11201.0   \n",
      "\n",
      "                                        volume  signal     sma10      sma20  \\\n",
      "date                                                                          \n",
      "2020-07-27 22:02:14.087000-04:00  15963.077889     0.0  11203.22  11205.285   \n",
      "\n",
      "                                  entry/exit  \n",
      "date                                          \n",
      "2020-07-27 22:02:14.087000-04:00         0.0  \n",
      "None\n"
     ]
    },
    {
     "name": "stderr",
     "output_type": "stream",
     "text": [
      "127.0.0.1 - - [27/Jul/2020 22:02:20] \"\u001b[37mPOST /_dash-update-component HTTP/1.1\u001b[0m\" 200 -\n",
      "127.0.0.1 - - [27/Jul/2020 22:02:22] \"\u001b[37mPOST /_dash-update-component HTTP/1.1\u001b[0m\" 200 -\n"
     ]
    },
    {
     "name": "stdout",
     "output_type": "stream",
     "text": [
      "20\n",
      "                                     open     high      low    close  \\\n",
      "date                                                                   \n",
      "2020-07-27 22:02:20.098000-04:00  11046.1  11420.0  10043.0  11201.9   \n",
      "\n",
      "                                        volume  signal    sma10     sma20  \\\n",
      "date                                                                        \n",
      "2020-07-27 22:02:20.098000-04:00  15961.211889     0.0  11202.8  11205.14   \n",
      "\n",
      "                                  entry/exit  \n",
      "date                                          \n",
      "2020-07-27 22:02:20.098000-04:00         0.0  \n",
      "None\n"
     ]
    },
    {
     "name": "stderr",
     "output_type": "stream",
     "text": [
      "127.0.0.1 - - [27/Jul/2020 22:02:23] \"\u001b[37mPOST /_dash-update-component HTTP/1.1\u001b[0m\" 200 -\n",
      "127.0.0.1 - - [27/Jul/2020 22:02:27] \"\u001b[37mPOST /_dash-update-component HTTP/1.1\u001b[0m\" 200 -\n"
     ]
    },
    {
     "name": "stdout",
     "output_type": "stream",
     "text": [
      "20\n",
      "                                     open     high      low    close  \\\n",
      "date                                                                   \n",
      "2020-07-27 22:02:23.047000-04:00  11046.1  11420.0  10043.0  11201.9   \n",
      "\n",
      "                                        volume  signal     sma10      sma20  \\\n",
      "date                                                                          \n",
      "2020-07-27 22:02:23.047000-04:00  15960.211889     0.0  11202.38  11204.925   \n",
      "\n",
      "                                  entry/exit  \n",
      "date                                          \n",
      "2020-07-27 22:02:23.047000-04:00         0.0  \n",
      "None\n"
     ]
    },
    {
     "name": "stderr",
     "output_type": "stream",
     "text": [
      "127.0.0.1 - - [27/Jul/2020 22:02:29] \"\u001b[37mPOST /_dash-update-component HTTP/1.1\u001b[0m\" 200 -\n",
      "127.0.0.1 - - [27/Jul/2020 22:02:32] \"\u001b[37mPOST /_dash-update-component HTTP/1.1\u001b[0m\" 200 -\n"
     ]
    },
    {
     "name": "stdout",
     "output_type": "stream",
     "text": [
      "20\n",
      "                                     open     high      low    close  \\\n",
      "date                                                                   \n",
      "2020-07-27 22:02:29.127000-04:00  11046.1  11420.0  10043.0  11201.9   \n",
      "\n",
      "                                        volume  signal     sma10     sma20  \\\n",
      "date                                                                         \n",
      "2020-07-27 22:02:29.127000-04:00  15960.018642     0.0  11202.17  11204.72   \n",
      "\n",
      "                                  entry/exit  \n",
      "date                                          \n",
      "2020-07-27 22:02:29.127000-04:00         0.0  \n",
      "None\n"
     ]
    },
    {
     "name": "stderr",
     "output_type": "stream",
     "text": [
      "127.0.0.1 - - [27/Jul/2020 22:02:35] \"\u001b[37mPOST /_dash-update-component HTTP/1.1\u001b[0m\" 200 -\n",
      "127.0.0.1 - - [27/Jul/2020 22:02:37] \"\u001b[37mPOST /_dash-update-component HTTP/1.1\u001b[0m\" 200 -\n"
     ]
    },
    {
     "name": "stdout",
     "output_type": "stream",
     "text": [
      "20\n",
      "                                     open     high      low    close  \\\n",
      "date                                                                   \n",
      "2020-07-27 22:02:35.066000-04:00  11046.1  11420.0  10043.0  11201.9   \n",
      "\n",
      "                                        volume  signal     sma10     sma20  \\\n",
      "date                                                                         \n",
      "2020-07-27 22:02:35.066000-04:00  15960.015642     0.0  11201.96  11204.42   \n",
      "\n",
      "                                  entry/exit  \n",
      "date                                          \n",
      "2020-07-27 22:02:35.066000-04:00         0.0  \n",
      "None\n"
     ]
    },
    {
     "name": "stderr",
     "output_type": "stream",
     "text": [
      "127.0.0.1 - - [27/Jul/2020 22:02:41] \"\u001b[37mPOST /_dash-update-component HTTP/1.1\u001b[0m\" 200 -\n",
      "127.0.0.1 - - [27/Jul/2020 22:02:44] \"\u001b[37mPOST /_dash-update-component HTTP/1.1\u001b[0m\" 200 -\n"
     ]
    },
    {
     "name": "stdout",
     "output_type": "stream",
     "text": [
      "20\n",
      "                                     open     high      low    close  \\\n",
      "date                                                                   \n",
      "2020-07-27 22:02:41.096000-04:00  11046.1  11420.0  10043.0  11201.0   \n",
      "\n",
      "                                        volume  signal     sma10      sma20  \\\n",
      "date                                                                          \n",
      "2020-07-27 22:02:41.096000-04:00  15956.817642     0.0  11201.66  11204.015   \n",
      "\n",
      "                                  entry/exit  \n",
      "date                                          \n",
      "2020-07-27 22:02:41.096000-04:00         0.0  \n",
      "None\n"
     ]
    },
    {
     "name": "stderr",
     "output_type": "stream",
     "text": [
      "127.0.0.1 - - [27/Jul/2020 22:02:47] \"\u001b[37mPOST /_dash-update-component HTTP/1.1\u001b[0m\" 200 -\n",
      "127.0.0.1 - - [27/Jul/2020 22:02:49] \"\u001b[37mPOST /_dash-update-component HTTP/1.1\u001b[0m\" 200 -\n"
     ]
    },
    {
     "name": "stdout",
     "output_type": "stream",
     "text": [
      "20\n",
      "                                     open     high      low    close  \\\n",
      "date                                                                   \n",
      "2020-07-27 22:02:47.116000-04:00  11046.1  11420.0  10043.0  11201.0   \n",
      "\n",
      "                                        volume  signal     sma10     sma20  \\\n",
      "date                                                                         \n",
      "2020-07-27 22:02:47.116000-04:00  15956.817642     0.0  11201.36  11203.61   \n",
      "\n",
      "                                  entry/exit  \n",
      "date                                          \n",
      "2020-07-27 22:02:47.116000-04:00         0.0  \n",
      "None\n"
     ]
    },
    {
     "name": "stderr",
     "output_type": "stream",
     "text": [
      "127.0.0.1 - - [27/Jul/2020 22:02:50] \"\u001b[37mPOST /_dash-update-component HTTP/1.1\u001b[0m\" 200 -\n",
      "127.0.0.1 - - [27/Jul/2020 22:02:53] \"\u001b[37mPOST /_dash-update-component HTTP/1.1\u001b[0m\" 200 -\n"
     ]
    },
    {
     "name": "stdout",
     "output_type": "stream",
     "text": [
      "20\n",
      "                                     open     high      low    close  \\\n",
      "date                                                                   \n",
      "2020-07-27 22:02:50.048000-04:00  11046.1  11420.0  10043.0  11201.0   \n",
      "\n",
      "                                        volume  signal     sma10      sma20  \\\n",
      "date                                                                          \n",
      "2020-07-27 22:02:50.048000-04:00  15956.639012     0.0  11201.36  11203.205   \n",
      "\n",
      "                                  entry/exit  \n",
      "date                                          \n",
      "2020-07-27 22:02:50.048000-04:00         0.0  \n",
      "None\n"
     ]
    },
    {
     "name": "stderr",
     "output_type": "stream",
     "text": [
      "127.0.0.1 - - [27/Jul/2020 22:02:55] \"\u001b[37mPOST /_dash-update-component HTTP/1.1\u001b[0m\" 200 -\n"
     ]
    },
    {
     "name": "stdout",
     "output_type": "stream",
     "text": [
      "20\n",
      "                                     open     high      low    close  \\\n",
      "date                                                                   \n",
      "2020-07-27 22:02:55.060000-04:00  11051.0  11420.0  10043.0  11201.0   \n",
      "\n",
      "                                        volume  signal     sma10    sma20  \\\n",
      "date                                                                        \n",
      "2020-07-27 22:02:55.060000-04:00  15956.639012     0.0  11201.36  11202.8   \n",
      "\n",
      "                                  entry/exit  \n",
      "date                                          \n",
      "2020-07-27 22:02:55.060000-04:00         0.0  \n",
      "None\n"
     ]
    },
    {
     "name": "stderr",
     "output_type": "stream",
     "text": [
      "127.0.0.1 - - [27/Jul/2020 22:02:58] \"\u001b[37mPOST /_dash-update-component HTTP/1.1\u001b[0m\" 200 -\n",
      "127.0.0.1 - - [27/Jul/2020 22:02:59] \"\u001b[37mPOST /_dash-update-component HTTP/1.1\u001b[0m\" 200 -\n",
      "127.0.0.1 - - [27/Jul/2020 22:03:01] \"\u001b[37mPOST /_dash-update-component HTTP/1.1\u001b[0m\" 200 -\n"
     ]
    },
    {
     "name": "stdout",
     "output_type": "stream",
     "text": [
      "20\n",
      "                                     open     high      low    close  \\\n",
      "date                                                                   \n",
      "2020-07-27 22:02:59.053000-04:00  11046.1  11420.0  10043.0  11196.8   \n",
      "\n",
      "                                        volume  signal     sma10      sma20  \\\n",
      "date                                                                          \n",
      "2020-07-27 22:02:59.053000-04:00  15960.911332     0.0  11200.94  11202.335   \n",
      "\n",
      "                                  entry/exit  \n",
      "date                                          \n",
      "2020-07-27 22:02:59.053000-04:00         0.0  \n",
      "None\n"
     ]
    },
    {
     "name": "stderr",
     "output_type": "stream",
     "text": [
      "127.0.0.1 - - [27/Jul/2020 22:03:04] \"\u001b[37mPOST /_dash-update-component HTTP/1.1\u001b[0m\" 200 -\n",
      "127.0.0.1 - - [27/Jul/2020 22:03:06] \"\u001b[37mPOST /_dash-update-component HTTP/1.1\u001b[0m\" 200 -\n"
     ]
    },
    {
     "name": "stdout",
     "output_type": "stream",
     "text": [
      "20\n",
      "                                     open     high      low    close  \\\n",
      "date                                                                   \n",
      "2020-07-27 22:03:04.070000-04:00  11046.1  11420.0  10043.0  11197.2   \n",
      "\n",
      "                                        volume  signal     sma10     sma20  \\\n",
      "date                                                                         \n",
      "2020-07-27 22:03:04.070000-04:00  15961.911332     0.0  11200.56  11201.89   \n",
      "\n",
      "                                  entry/exit  \n",
      "date                                          \n",
      "2020-07-27 22:03:04.070000-04:00         0.0  \n",
      "None\n"
     ]
    },
    {
     "name": "stderr",
     "output_type": "stream",
     "text": [
      "127.0.0.1 - - [27/Jul/2020 22:03:09] \"\u001b[37mPOST /_dash-update-component HTTP/1.1\u001b[0m\" 200 -\n",
      "127.0.0.1 - - [27/Jul/2020 22:03:12] \"\u001b[37mPOST /_dash-update-component HTTP/1.1\u001b[0m\" 200 -\n"
     ]
    },
    {
     "name": "stdout",
     "output_type": "stream",
     "text": [
      "20\n",
      "                                     open     high      low    close  \\\n",
      "date                                                                   \n",
      "2020-07-27 22:03:09.072000-04:00  11046.1  11420.0  10043.0  11197.2   \n",
      "\n",
      "                                        volume  signal     sma10      sma20  \\\n",
      "date                                                                          \n",
      "2020-07-27 22:03:09.072000-04:00  15961.911332     0.0  11200.09  11201.445   \n",
      "\n",
      "                                  entry/exit  \n",
      "date                                          \n",
      "2020-07-27 22:03:09.072000-04:00         0.0  \n",
      "None\n"
     ]
    },
    {
     "name": "stderr",
     "output_type": "stream",
     "text": [
      "127.0.0.1 - - [27/Jul/2020 22:03:14] \"\u001b[37mPOST /_dash-update-component HTTP/1.1\u001b[0m\" 200 -\n",
      "127.0.0.1 - - [27/Jul/2020 22:03:17] \"\u001b[37mPOST /_dash-update-component HTTP/1.1\u001b[0m\" 200 -\n"
     ]
    },
    {
     "name": "stdout",
     "output_type": "stream",
     "text": [
      "20\n",
      "                                     open     high      low    close  \\\n",
      "date                                                                   \n",
      "2020-07-27 22:03:14.087000-04:00  11046.1  11420.0  10043.0  11197.2   \n",
      "\n",
      "                                        volume  signal     sma10    sma20  \\\n",
      "date                                                                        \n",
      "2020-07-27 22:03:14.087000-04:00  15960.989962     0.0  11199.62  11201.0   \n",
      "\n",
      "                                  entry/exit  \n",
      "date                                          \n",
      "2020-07-27 22:03:14.087000-04:00         0.0  \n",
      "None\n"
     ]
    },
    {
     "name": "stderr",
     "output_type": "stream",
     "text": [
      "127.0.0.1 - - [27/Jul/2020 22:03:21] \"\u001b[37mPOST /_dash-update-component HTTP/1.1\u001b[0m\" 200 -\n",
      "127.0.0.1 - - [27/Jul/2020 22:03:23] \"\u001b[37mPOST /_dash-update-component HTTP/1.1\u001b[0m\" 200 -\n"
     ]
    },
    {
     "name": "stdout",
     "output_type": "stream",
     "text": [
      "20\n",
      "                                     open     high      low    close  \\\n",
      "date                                                                   \n",
      "2020-07-27 22:03:21.112000-04:00  11046.1  11420.0  10043.0  11191.9   \n",
      "\n",
      "                                        volume  signal     sma10      sma20  \\\n",
      "date                                                                          \n",
      "2020-07-27 22:03:21.112000-04:00  15961.014962     0.0  11198.62  11200.395   \n",
      "\n",
      "                                  entry/exit  \n",
      "date                                          \n",
      "2020-07-27 22:03:21.112000-04:00         0.0  \n",
      "None\n"
     ]
    },
    {
     "name": "stderr",
     "output_type": "stream",
     "text": [
      "127.0.0.1 - - [27/Jul/2020 22:03:27] \"\u001b[37mPOST /_dash-update-component HTTP/1.1\u001b[0m\" 200 -\n"
     ]
    },
    {
     "name": "stdout",
     "output_type": "stream",
     "text": [
      "20\n",
      "                                     open     high      low    close  \\\n",
      "date                                                                   \n",
      "2020-07-27 22:03:27.133000-04:00  11046.1  11420.0  10043.0  11191.9   \n",
      "\n",
      "                                        volume  signal     sma10     sma20  \\\n",
      "date                                                                         \n",
      "2020-07-27 22:03:27.133000-04:00  15961.014962     0.0  11197.62  11199.79   \n",
      "\n",
      "                                  entry/exit  \n",
      "date                                          \n",
      "2020-07-27 22:03:27.133000-04:00         0.0  \n",
      "None\n"
     ]
    },
    {
     "name": "stderr",
     "output_type": "stream",
     "text": [
      "127.0.0.1 - - [27/Jul/2020 22:03:30] \"\u001b[37mPOST /_dash-update-component HTTP/1.1\u001b[0m\" 200 -\n",
      "127.0.0.1 - - [27/Jul/2020 22:03:33] \"\u001b[37mPOST /_dash-update-component HTTP/1.1\u001b[0m\" 200 -\n",
      "127.0.0.1 - - [27/Jul/2020 22:03:35] \"\u001b[37mPOST /_dash-update-component HTTP/1.1\u001b[0m\" 200 -\n"
     ]
    },
    {
     "name": "stdout",
     "output_type": "stream",
     "text": [
      "20\n",
      "                                     open     high      low    close  \\\n",
      "date                                                                   \n",
      "2020-07-27 22:03:33.037000-04:00  11046.1  11420.0  10043.0  11191.9   \n",
      "\n",
      "                                        volume  signal     sma10      sma20  \\\n",
      "date                                                                          \n",
      "2020-07-27 22:03:33.037000-04:00  15961.014962     0.0  11196.71  11199.185   \n",
      "\n",
      "                                  entry/exit  \n",
      "date                                          \n",
      "2020-07-27 22:03:33.037000-04:00         0.0  \n",
      "None\n"
     ]
    },
    {
     "name": "stderr",
     "output_type": "stream",
     "text": [
      "127.0.0.1 - - [27/Jul/2020 22:03:39] \"\u001b[37mPOST /_dash-update-component HTTP/1.1\u001b[0m\" 200 -\n",
      "127.0.0.1 - - [27/Jul/2020 22:03:41] \"\u001b[37mPOST /_dash-update-component HTTP/1.1\u001b[0m\" 200 -\n"
     ]
    },
    {
     "name": "stdout",
     "output_type": "stream",
     "text": [
      "20\n",
      "                                     open     high      low    close  \\\n",
      "date                                                                   \n",
      "2020-07-27 22:03:39.083000-04:00  11051.0  11420.0  10043.0  11200.6   \n",
      "\n",
      "                                        volume  signal     sma10      sma20  \\\n",
      "date                                                                          \n",
      "2020-07-27 22:03:39.083000-04:00  15961.514962     0.0  11196.67  11199.015   \n",
      "\n",
      "                                  entry/exit  \n",
      "date                                          \n",
      "2020-07-27 22:03:39.083000-04:00         0.0  \n",
      "None\n"
     ]
    },
    {
     "name": "stderr",
     "output_type": "stream",
     "text": [
      "127.0.0.1 - - [27/Jul/2020 22:03:45] \"\u001b[37mPOST /_dash-update-component HTTP/1.1\u001b[0m\" 200 -\n"
     ]
    },
    {
     "name": "stdout",
     "output_type": "stream",
     "text": [
      "20\n",
      "                                     open     high      low    close  \\\n",
      "date                                                                   \n",
      "2020-07-27 22:03:45.113000-04:00  11046.1  11420.0  10043.0  11200.6   \n",
      "\n",
      "                                        volume  signal     sma10      sma20  \\\n",
      "date                                                                          \n",
      "2020-07-27 22:03:45.113000-04:00  15961.514962     0.0  11196.63  11198.995   \n",
      "\n",
      "                                  entry/exit  \n",
      "date                                          \n",
      "2020-07-27 22:03:45.113000-04:00         0.0  \n",
      "None\n"
     ]
    },
    {
     "name": "stderr",
     "output_type": "stream",
     "text": [
      "127.0.0.1 - - [27/Jul/2020 22:03:48] \"\u001b[37mPOST /_dash-update-component HTTP/1.1\u001b[0m\" 200 -\n",
      "127.0.0.1 - - [27/Jul/2020 22:03:51] \"\u001b[37mPOST /_dash-update-component HTTP/1.1\u001b[0m\" 200 -\n",
      "127.0.0.1 - - [27/Jul/2020 22:03:53] \"\u001b[37mPOST /_dash-update-component HTTP/1.1\u001b[0m\" 200 -\n"
     ]
    },
    {
     "name": "stdout",
     "output_type": "stream",
     "text": [
      "20\n",
      "                                     open     high      low    close  \\\n",
      "date                                                                   \n",
      "2020-07-27 22:03:51.019000-04:00  11046.1  11420.0  10043.0  11200.7   \n",
      "\n",
      "                                        volume  signal    sma10     sma20  \\\n",
      "date                                                                        \n",
      "2020-07-27 22:03:51.019000-04:00  15959.896009     0.0  11196.6  11198.98   \n",
      "\n",
      "                                  entry/exit  \n",
      "date                                          \n",
      "2020-07-27 22:03:51.019000-04:00         0.0  \n",
      "None\n"
     ]
    },
    {
     "name": "stderr",
     "output_type": "stream",
     "text": [
      "127.0.0.1 - - [27/Jul/2020 22:03:57] \"\u001b[37mPOST /_dash-update-component HTTP/1.1\u001b[0m\" 200 -\n",
      "127.0.0.1 - - [27/Jul/2020 22:03:59] \"\u001b[37mPOST /_dash-update-component HTTP/1.1\u001b[0m\" 200 -\n"
     ]
    },
    {
     "name": "stdout",
     "output_type": "stream",
     "text": [
      "20\n",
      "                                     open     high      low    close  \\\n",
      "date                                                                   \n",
      "2020-07-27 22:03:57.111000-04:00  11046.1  11420.0  10043.0  11200.6   \n",
      "\n",
      "                                        volume  signal     sma10     sma20  \\\n",
      "date                                                                         \n",
      "2020-07-27 22:03:57.111000-04:00  15959.073009     0.0  11196.98  11198.96   \n",
      "\n",
      "                                  entry/exit  \n",
      "date                                          \n",
      "2020-07-27 22:03:57.111000-04:00         0.0  \n",
      "None\n"
     ]
    },
    {
     "name": "stderr",
     "output_type": "stream",
     "text": [
      "127.0.0.1 - - [27/Jul/2020 22:04:03] \"\u001b[37mPOST /_dash-update-component HTTP/1.1\u001b[0m\" 200 -\n"
     ]
    },
    {
     "name": "stdout",
     "output_type": "stream",
     "text": [
      "20\n",
      "                                     open     high      low    close  \\\n",
      "date                                                                   \n",
      "2020-07-27 22:04:03.086000-04:00  11046.1  11420.0  10043.0  11200.6   \n",
      "\n",
      "                                        volume  signal     sma10     sma20  \\\n",
      "date                                                                         \n",
      "2020-07-27 22:04:03.086000-04:00  15957.191009     0.0  11197.32  11198.94   \n",
      "\n",
      "                                  entry/exit  \n",
      "date                                          \n",
      "2020-07-27 22:04:03.086000-04:00         0.0  \n",
      "None\n"
     ]
    },
    {
     "name": "stderr",
     "output_type": "stream",
     "text": [
      "127.0.0.1 - - [27/Jul/2020 22:04:05] \"\u001b[37mPOST /_dash-update-component HTTP/1.1\u001b[0m\" 200 -\n",
      "127.0.0.1 - - [27/Jul/2020 22:04:08] \"\u001b[37mPOST /_dash-update-component HTTP/1.1\u001b[0m\" 200 -\n",
      "127.0.0.1 - - [27/Jul/2020 22:04:11] \"\u001b[37mPOST /_dash-update-component HTTP/1.1\u001b[0m\" 200 -\n"
     ]
    },
    {
     "name": "stdout",
     "output_type": "stream",
     "text": [
      "20\n",
      "                                     open     high      low    close  \\\n",
      "date                                                                   \n",
      "2020-07-27 22:04:08.055000-04:00  11046.1  11420.0  10043.0  11200.6   \n",
      "\n",
      "                                        volume  signal     sma10      sma20  \\\n",
      "date                                                                          \n",
      "2020-07-27 22:04:08.055000-04:00  15957.191009     0.0  11197.66  11198.875   \n",
      "\n",
      "                                  entry/exit  \n",
      "date                                          \n",
      "2020-07-27 22:04:08.055000-04:00         0.0  \n",
      "None\n"
     ]
    },
    {
     "name": "stderr",
     "output_type": "stream",
     "text": [
      "127.0.0.1 - - [27/Jul/2020 22:04:14] \"\u001b[37mPOST /_dash-update-component HTTP/1.1\u001b[0m\" 200 -\n",
      "127.0.0.1 - - [27/Jul/2020 22:04:16] \"\u001b[37mPOST /_dash-update-component HTTP/1.1\u001b[0m\" 200 -\n"
     ]
    },
    {
     "name": "stdout",
     "output_type": "stream",
     "text": [
      "20\n",
      "                                     open     high      low    close  \\\n",
      "date                                                                   \n",
      "2020-07-27 22:04:14.100000-04:00  11051.0  11420.0  10043.0  11200.6   \n",
      "\n",
      "                                        volume  signal    sma10     sma20  \\\n",
      "date                                                                        \n",
      "2020-07-27 22:04:14.100000-04:00  15957.191009     0.0  11198.0  11198.81   \n",
      "\n",
      "                                  entry/exit  \n",
      "date                                          \n",
      "2020-07-27 22:04:14.100000-04:00         0.0  \n",
      "None\n"
     ]
    },
    {
     "name": "stderr",
     "output_type": "stream",
     "text": [
      "127.0.0.1 - - [27/Jul/2020 22:04:19] \"\u001b[37mPOST /_dash-update-component HTTP/1.1\u001b[0m\" 200 -\n",
      "127.0.0.1 - - [27/Jul/2020 22:04:21] \"\u001b[37mPOST /_dash-update-component HTTP/1.1\u001b[0m\" 200 -\n"
     ]
    },
    {
     "name": "stdout",
     "output_type": "stream",
     "text": [
      "20\n",
      "                                     open     high      low    close  \\\n",
      "date                                                                   \n",
      "2020-07-27 22:04:19.106000-04:00  11046.1  11420.0  10043.0  11200.8   \n",
      "\n",
      "                                        volume  signal     sma10      sma20  \\\n",
      "date                                                                          \n",
      "2020-07-27 22:04:19.106000-04:00  15957.194505     0.0  11198.89  11198.755   \n",
      "\n",
      "                                  entry/exit  \n",
      "date                                          \n",
      "2020-07-27 22:04:19.106000-04:00         0.0  \n",
      "None\n"
     ]
    },
    {
     "name": "stderr",
     "output_type": "stream",
     "text": [
      "127.0.0.1 - - [27/Jul/2020 22:04:24] \"\u001b[37mPOST /_dash-update-component HTTP/1.1\u001b[0m\" 200 -\n"
     ]
    },
    {
     "name": "stdout",
     "output_type": "stream",
     "text": [
      "20\n",
      "                                     open     high      low    close  \\\n",
      "date                                                                   \n",
      "2020-07-27 22:04:24.081000-04:00  11046.1  11420.0  10043.0  11200.8   \n",
      "\n",
      "                                        volume  signal     sma10    sma20  \\\n",
      "date                                                                        \n",
      "2020-07-27 22:04:24.081000-04:00  15958.144505     0.0  11199.78  11198.7   \n",
      "\n",
      "                                  entry/exit  \n",
      "date                                          \n",
      "2020-07-27 22:04:24.081000-04:00         0.0  \n",
      "None\n"
     ]
    },
    {
     "name": "stderr",
     "output_type": "stream",
     "text": [
      "127.0.0.1 - - [27/Jul/2020 22:04:27] \"\u001b[37mPOST /_dash-update-component HTTP/1.1\u001b[0m\" 200 -\n",
      "127.0.0.1 - - [27/Jul/2020 22:04:29] \"\u001b[37mPOST /_dash-update-component HTTP/1.1\u001b[0m\" 200 -\n"
     ]
    },
    {
     "name": "stdout",
     "output_type": "stream",
     "text": [
      "20\n",
      "                                     open     high      low    close  \\\n",
      "date                                                                   \n",
      "2020-07-27 22:04:29.083000-04:00  11046.1  11420.0  10043.0  11200.8   \n",
      "\n",
      "                                        volume  signal     sma10     sma20  \\\n",
      "date                                                                         \n",
      "2020-07-27 22:04:29.083000-04:00  15958.144505     0.0  11200.67  11198.69   \n",
      "\n",
      "                                  entry/exit  \n",
      "date                                          \n",
      "2020-07-27 22:04:29.083000-04:00         0.0  \n",
      "None\n"
     ]
    },
    {
     "name": "stderr",
     "output_type": "stream",
     "text": [
      "127.0.0.1 - - [27/Jul/2020 22:04:31] \"\u001b[37mPOST /_dash-update-component HTTP/1.1\u001b[0m\" 200 -\n",
      "127.0.0.1 - - [27/Jul/2020 22:04:35] \"\u001b[37mPOST /_dash-update-component HTTP/1.1\u001b[0m\" 200 -\n",
      "127.0.0.1 - - [27/Jul/2020 22:04:36] \"\u001b[37mPOST /_dash-update-component HTTP/1.1\u001b[0m\" 200 -\n"
     ]
    },
    {
     "name": "stdout",
     "output_type": "stream",
     "text": [
      "20\n",
      "                                     open     high      low    close  \\\n",
      "date                                                                   \n",
      "2020-07-27 22:04:35.039000-04:00  11046.1  11420.0  10043.0  11200.8   \n",
      "\n",
      "                                        volume  signal     sma10     sma20  \\\n",
      "date                                                                         \n",
      "2020-07-27 22:04:35.039000-04:00  15958.144505     0.0  11200.69  11198.68   \n",
      "\n",
      "                                  entry/exit  \n",
      "date                                          \n",
      "2020-07-27 22:04:35.039000-04:00         0.0  \n",
      "None\n"
     ]
    },
    {
     "name": "stderr",
     "output_type": "stream",
     "text": [
      "127.0.0.1 - - [27/Jul/2020 22:04:38] \"\u001b[37mPOST /_dash-update-component HTTP/1.1\u001b[0m\" 200 -\n"
     ]
    },
    {
     "name": "stdout",
     "output_type": "stream",
     "text": [
      "20\n",
      "                                     open     high      low    close  \\\n",
      "date                                                                   \n",
      "2020-07-27 22:04:38.026000-04:00  11046.1  11420.0  10043.0  11200.8   \n",
      "\n",
      "                                        volume  signal     sma10     sma20  \\\n",
      "date                                                                         \n",
      "2020-07-27 22:04:38.026000-04:00  15958.144505     0.0  11200.71  11198.67   \n",
      "\n",
      "                                  entry/exit  \n",
      "date                                          \n",
      "2020-07-27 22:04:38.026000-04:00         0.0  \n",
      "None\n"
     ]
    },
    {
     "name": "stderr",
     "output_type": "stream",
     "text": [
      "127.0.0.1 - - [27/Jul/2020 22:04:40] \"\u001b[37mPOST /_dash-update-component HTTP/1.1\u001b[0m\" 200 -\n",
      "127.0.0.1 - - [27/Jul/2020 22:04:44] \"\u001b[37mPOST /_dash-update-component HTTP/1.1\u001b[0m\" 200 -\n"
     ]
    },
    {
     "name": "stdout",
     "output_type": "stream",
     "text": [
      "20\n",
      "                                     open     high      low    close  \\\n",
      "date                                                                   \n",
      "2020-07-27 22:04:44.090000-04:00  11051.0  11420.0  10043.0  11200.8   \n",
      "\n",
      "                                        volume  signal     sma10     sma20  \\\n",
      "date                                                                         \n",
      "2020-07-27 22:04:44.090000-04:00  15958.044505     0.0  11200.72  11198.66   \n",
      "\n",
      "                                  entry/exit  \n",
      "date                                          \n",
      "2020-07-27 22:04:44.090000-04:00         0.0  \n",
      "None\n"
     ]
    },
    {
     "name": "stderr",
     "output_type": "stream",
     "text": [
      "127.0.0.1 - - [27/Jul/2020 22:04:45] \"\u001b[37mPOST /_dash-update-component HTTP/1.1\u001b[0m\" 200 -\n",
      "127.0.0.1 - - [27/Jul/2020 22:04:49] \"\u001b[37mPOST /_dash-update-component HTTP/1.1\u001b[0m\" 200 -\n",
      "127.0.0.1 - - [27/Jul/2020 22:04:51] \"\u001b[37mPOST /_dash-update-component HTTP/1.1\u001b[0m\" 200 -\n"
     ]
    },
    {
     "name": "stdout",
     "output_type": "stream",
     "text": [
      "20\n",
      "                                     open     high      low    close  \\\n",
      "date                                                                   \n",
      "2020-07-27 22:04:49.093000-04:00  11046.1  11420.0  10043.0  11200.8   \n",
      "\n",
      "                                        volume  signal     sma10     sma20  \\\n",
      "date                                                                         \n",
      "2020-07-27 22:04:49.093000-04:00  15957.944505     0.0  11200.74  11198.86   \n",
      "\n",
      "                                  entry/exit  \n",
      "date                                          \n",
      "2020-07-27 22:04:49.093000-04:00         0.0  \n",
      "None\n"
     ]
    },
    {
     "name": "stderr",
     "output_type": "stream",
     "text": [
      "127.0.0.1 - - [27/Jul/2020 22:04:54] \"\u001b[37mPOST /_dash-update-component HTTP/1.1\u001b[0m\" 200 -\n",
      "127.0.0.1 - - [27/Jul/2020 22:04:56] \"\u001b[37mPOST /_dash-update-component HTTP/1.1\u001b[0m\" 200 -\n"
     ]
    },
    {
     "name": "stdout",
     "output_type": "stream",
     "text": [
      "20\n",
      "                                     open     high      low    close  \\\n",
      "date                                                                   \n",
      "2020-07-27 22:04:54.077000-04:00  11046.1  11420.0  10043.0  11200.8   \n",
      "\n",
      "                                        volume  signal     sma10     sma20  \\\n",
      "date                                                                         \n",
      "2020-07-27 22:04:54.077000-04:00  15957.944505     0.0  11200.76  11199.04   \n",
      "\n",
      "                                  entry/exit  \n",
      "date                                          \n",
      "2020-07-27 22:04:54.077000-04:00         0.0  \n",
      "None\n"
     ]
    },
    {
     "name": "stderr",
     "output_type": "stream",
     "text": [
      "127.0.0.1 - - [27/Jul/2020 22:05:00] \"\u001b[37mPOST /_dash-update-component HTTP/1.1\u001b[0m\" 200 -\n",
      "127.0.0.1 - - [27/Jul/2020 22:05:02] \"\u001b[37mPOST /_dash-update-component HTTP/1.1\u001b[0m\" 200 -\n"
     ]
    },
    {
     "name": "stdout",
     "output_type": "stream",
     "text": [
      "20\n",
      "                                     open     high      low    close  \\\n",
      "date                                                                   \n",
      "2020-07-27 22:05:00.077000-04:00  11046.1  11420.0  10043.0  11200.1   \n",
      "\n",
      "                                        volume  signal     sma10      sma20  \\\n",
      "date                                                                          \n",
      "2020-07-27 22:05:00.077000-04:00  15957.748684     0.0  11200.71  11199.185   \n",
      "\n",
      "                                  entry/exit  \n",
      "date                                          \n",
      "2020-07-27 22:05:00.077000-04:00         0.0  \n",
      "None\n"
     ]
    },
    {
     "name": "stderr",
     "output_type": "stream",
     "text": [
      "127.0.0.1 - - [27/Jul/2020 22:05:05] \"\u001b[37mPOST /_dash-update-component HTTP/1.1\u001b[0m\" 200 -\n"
     ]
    },
    {
     "name": "stdout",
     "output_type": "stream",
     "text": [
      "20\n",
      "                                     open     high      low    close  \\\n",
      "date                                                                   \n",
      "2020-07-27 22:05:05.096000-04:00  11046.1  11420.0  10043.0  11200.1   \n",
      "\n",
      "                                        volume  signal     sma10     sma20  \\\n",
      "date                                                                         \n",
      "2020-07-27 22:05:05.096000-04:00  15957.770999     0.0  11200.66  11199.33   \n",
      "\n",
      "                                  entry/exit  \n",
      "date                                          \n",
      "2020-07-27 22:05:05.096000-04:00         0.0  \n",
      "None\n"
     ]
    },
    {
     "name": "stderr",
     "output_type": "stream",
     "text": [
      "127.0.0.1 - - [27/Jul/2020 22:05:08] \"\u001b[37mPOST /_dash-update-component HTTP/1.1\u001b[0m\" 200 -\n",
      "127.0.0.1 - - [27/Jul/2020 22:05:11] \"\u001b[37mPOST /_dash-update-component HTTP/1.1\u001b[0m\" 200 -\n",
      "127.0.0.1 - - [27/Jul/2020 22:05:14] \"\u001b[37mPOST /_dash-update-component HTTP/1.1\u001b[0m\" 200 -\n"
     ]
    },
    {
     "name": "stdout",
     "output_type": "stream",
     "text": [
      "20\n",
      "                                     open     high      low    close  \\\n",
      "date                                                                   \n",
      "2020-07-27 22:05:11.094000-04:00  11046.1  11420.0  10043.0  11195.1   \n",
      "\n",
      "                                       volume  signal     sma10     sma20  \\\n",
      "date                                                                        \n",
      "2020-07-27 22:05:11.094000-04:00  15961.91496     0.0  11200.09  11199.49   \n",
      "\n",
      "                                  entry/exit  \n",
      "date                                          \n",
      "2020-07-27 22:05:11.094000-04:00         0.0  \n",
      "None\n"
     ]
    },
    {
     "name": "stderr",
     "output_type": "stream",
     "text": [
      "127.0.0.1 - - [27/Jul/2020 22:05:18] \"\u001b[37mPOST /_dash-update-component HTTP/1.1\u001b[0m\" 200 -\n",
      "127.0.0.1 - - [27/Jul/2020 22:05:20] \"\u001b[37mPOST /_dash-update-component HTTP/1.1\u001b[0m\" 200 -\n"
     ]
    },
    {
     "name": "stdout",
     "output_type": "stream",
     "text": [
      "20\n",
      "                                     open     high      low    close  \\\n",
      "date                                                                   \n",
      "2020-07-27 22:05:18.087000-04:00  11046.1  11420.0  10043.0  11195.8   \n",
      "\n",
      "                                       volume  signal     sma10      sma20  \\\n",
      "date                                                                         \n",
      "2020-07-27 22:05:18.087000-04:00  15961.83447     0.0  11199.59  11199.685   \n",
      "\n",
      "                                  entry/exit  \n",
      "date                                          \n",
      "2020-07-27 22:05:18.087000-04:00         0.0  \n",
      "None\n"
     ]
    },
    {
     "name": "stderr",
     "output_type": "stream",
     "text": [
      "127.0.0.1 - - [27/Jul/2020 22:05:23] \"\u001b[37mPOST /_dash-update-component HTTP/1.1\u001b[0m\" 200 -\n",
      "127.0.0.1 - - [27/Jul/2020 22:05:26] \"\u001b[37mPOST /_dash-update-component HTTP/1.1\u001b[0m\" 200 -\n"
     ]
    },
    {
     "name": "stdout",
     "output_type": "stream",
     "text": [
      "20\n",
      "                                     open     high      low    close  \\\n",
      "date                                                                   \n",
      "2020-07-27 22:05:23.116000-04:00  11046.1  11420.0  10043.0  11195.8   \n",
      "\n",
      "                                       volume  signal     sma10     sma20  \\\n",
      "date                                                                        \n",
      "2020-07-27 22:05:23.116000-04:00  15961.83447     0.0  11199.09  11199.88   \n",
      "\n",
      "                                  entry/exit  \n",
      "date                                          \n",
      "2020-07-27 22:05:23.116000-04:00         0.0  \n",
      "None\n"
     ]
    },
    {
     "name": "stderr",
     "output_type": "stream",
     "text": [
      "127.0.0.1 - - [27/Jul/2020 22:05:30] \"\u001b[37mPOST /_dash-update-component HTTP/1.1\u001b[0m\" 200 -\n",
      "127.0.0.1 - - [27/Jul/2020 22:05:32] \"\u001b[37mPOST /_dash-update-component HTTP/1.1\u001b[0m\" 200 -\n"
     ]
    },
    {
     "name": "stdout",
     "output_type": "stream",
     "text": [
      "20\n",
      "                                     open     high      low    close  \\\n",
      "date                                                                   \n",
      "2020-07-27 22:05:30.290000-04:00  11046.1  11420.0  10043.0  11197.0   \n",
      "\n",
      "                                        volume  signal     sma10    sma20  \\\n",
      "date                                                                        \n",
      "2020-07-27 22:05:30.290000-04:00  15961.658989     0.0  11198.71  11199.7   \n",
      "\n",
      "                                  entry/exit  \n",
      "date                                          \n",
      "2020-07-27 22:05:30.290000-04:00         0.0  \n",
      "None\n"
     ]
    },
    {
     "name": "stderr",
     "output_type": "stream",
     "text": [
      "127.0.0.1 - - [27/Jul/2020 22:05:33] \"\u001b[37mPOST /_dash-update-component HTTP/1.1\u001b[0m\" 200 -\n",
      "127.0.0.1 - - [27/Jul/2020 22:05:35] \"\u001b[37mPOST /_dash-update-component HTTP/1.1\u001b[0m\" 200 -\n"
     ]
    },
    {
     "name": "stdout",
     "output_type": "stream",
     "text": [
      "20\n",
      "                                     open     high      low    close  \\\n",
      "date                                                                   \n",
      "2020-07-27 22:05:33.067000-04:00  11046.1  11420.0  10043.0  11197.0   \n",
      "\n",
      "                                        volume  signal     sma10     sma20  \\\n",
      "date                                                                         \n",
      "2020-07-27 22:05:33.067000-04:00  15961.658989     0.0  11198.33  11199.52   \n",
      "\n",
      "                                  entry/exit  \n",
      "date                                          \n",
      "2020-07-27 22:05:33.067000-04:00         0.0  \n",
      "None\n"
     ]
    },
    {
     "name": "stderr",
     "output_type": "stream",
     "text": [
      "127.0.0.1 - - [27/Jul/2020 22:05:38] \"\u001b[37mPOST /_dash-update-component HTTP/1.1\u001b[0m\" 200 -\n",
      "127.0.0.1 - - [27/Jul/2020 22:05:40] \"\u001b[37mPOST /_dash-update-component HTTP/1.1\u001b[0m\" 200 -\n"
     ]
    },
    {
     "name": "stdout",
     "output_type": "stream",
     "text": [
      "20\n",
      "                                     open     high      low    close  \\\n",
      "date                                                                   \n",
      "2020-07-27 22:05:38.031000-04:00  11046.1  11420.0  10043.0  11200.0   \n",
      "\n",
      "                                        volume  signal     sma10      sma20  \\\n",
      "date                                                                          \n",
      "2020-07-27 22:05:38.031000-04:00  15959.958989     0.0  11198.25  11199.485   \n",
      "\n",
      "                                  entry/exit  \n",
      "date                                          \n",
      "2020-07-27 22:05:38.031000-04:00         0.0  \n",
      "None\n"
     ]
    },
    {
     "name": "stderr",
     "output_type": "stream",
     "text": [
      "127.0.0.1 - - [27/Jul/2020 22:05:43] \"\u001b[37mPOST /_dash-update-component HTTP/1.1\u001b[0m\" 200 -\n",
      "127.0.0.1 - - [27/Jul/2020 22:05:44] \"\u001b[37mPOST /_dash-update-component HTTP/1.1\u001b[0m\" 200 -\n"
     ]
    },
    {
     "name": "stdout",
     "output_type": "stream",
     "text": [
      "20\n",
      "                                     open     high      low    close  \\\n",
      "date                                                                   \n",
      "2020-07-27 22:05:43.011000-04:00  11046.1  11420.0  10043.0  11200.0   \n",
      "\n",
      "                                        volume  signal     sma10      sma20  \\\n",
      "date                                                                          \n",
      "2020-07-27 22:05:43.011000-04:00  15958.918153     0.0  11198.17  11199.455   \n",
      "\n",
      "                                  entry/exit  \n",
      "date                                          \n",
      "2020-07-27 22:05:43.011000-04:00         0.0  \n",
      "None\n"
     ]
    },
    {
     "name": "stderr",
     "output_type": "stream",
     "text": [
      "127.0.0.1 - - [27/Jul/2020 22:05:45] \"\u001b[37mPOST /_dash-update-component HTTP/1.1\u001b[0m\" 200 -\n",
      "127.0.0.1 - - [27/Jul/2020 22:05:47] \"\u001b[37mPOST /_dash-update-component HTTP/1.1\u001b[0m\" 200 -\n"
     ]
    },
    {
     "name": "stdout",
     "output_type": "stream",
     "text": [
      "20\n",
      "                                     open     high      low    close  \\\n",
      "date                                                                   \n",
      "2020-07-27 22:05:45.078000-04:00  11046.1  11420.0  10043.0  11200.0   \n",
      "\n",
      "                                      volume  signal     sma10      sma20  \\\n",
      "date                                                                        \n",
      "2020-07-27 22:05:45.078000-04:00  15958.9092     0.0  11198.09  11199.425   \n",
      "\n",
      "                                  entry/exit  \n",
      "date                                          \n",
      "2020-07-27 22:05:45.078000-04:00         0.0  \n",
      "None\n"
     ]
    },
    {
     "name": "stderr",
     "output_type": "stream",
     "text": [
      "127.0.0.1 - - [27/Jul/2020 22:05:49] \"\u001b[37mPOST /_dash-update-component HTTP/1.1\u001b[0m\" 200 -\n",
      "127.0.0.1 - - [27/Jul/2020 22:05:51] \"\u001b[37mPOST /_dash-update-component HTTP/1.1\u001b[0m\" 200 -\n"
     ]
    },
    {
     "name": "stdout",
     "output_type": "stream",
     "text": [
      "20\n",
      "                                     open     high      low    close  \\\n",
      "date                                                                   \n",
      "2020-07-27 22:05:49.121000-04:00  11051.0  11420.0  10043.0  11200.0   \n",
      "\n",
      "                                      volume  signal     sma10      sma20  \\\n",
      "date                                                                        \n",
      "2020-07-27 22:05:49.121000-04:00  15958.9092     0.0  11198.08  11199.395   \n",
      "\n",
      "                                  entry/exit  \n",
      "date                                          \n",
      "2020-07-27 22:05:49.121000-04:00         0.0  \n",
      "None\n"
     ]
    },
    {
     "name": "stderr",
     "output_type": "stream",
     "text": [
      "127.0.0.1 - - [27/Jul/2020 22:05:54] \"\u001b[37mPOST /_dash-update-component HTTP/1.1\u001b[0m\" 200 -\n"
     ]
    },
    {
     "name": "stdout",
     "output_type": "stream",
     "text": [
      "20\n",
      "                                     open     high      low    close  \\\n",
      "date                                                                   \n",
      "2020-07-27 22:05:54.075000-04:00  11046.1  11420.0  10043.0  11197.6   \n",
      "\n",
      "                                       volume  signal     sma10      sma20  \\\n",
      "date                                                                         \n",
      "2020-07-27 22:05:54.075000-04:00  15958.68042     0.0  11197.83  11199.245   \n",
      "\n",
      "                                  entry/exit  \n",
      "date                                          \n",
      "2020-07-27 22:05:54.075000-04:00         0.0  \n",
      "None\n"
     ]
    },
    {
     "name": "stderr",
     "output_type": "stream",
     "text": [
      "127.0.0.1 - - [27/Jul/2020 22:05:56] \"\u001b[37mPOST /_dash-update-component HTTP/1.1\u001b[0m\" 200 -\n",
      "127.0.0.1 - - [27/Jul/2020 22:05:58] \"\u001b[37mPOST /_dash-update-component HTTP/1.1\u001b[0m\" 200 -\n",
      "127.0.0.1 - - [27/Jul/2020 22:06:01] \"\u001b[37mPOST /_dash-update-component HTTP/1.1\u001b[0m\" 200 -\n"
     ]
    },
    {
     "name": "stdout",
     "output_type": "stream",
     "text": [
      "20\n",
      "                                     open     high      low    close  \\\n",
      "date                                                                   \n",
      "2020-07-27 22:05:58.071000-04:00  11051.0  11420.0  10043.0  11190.9   \n",
      "\n",
      "                                        volume  signal     sma10     sma20  \\\n",
      "date                                                                         \n",
      "2020-07-27 22:05:58.071000-04:00  15958.682855     0.0  11197.41  11198.75   \n",
      "\n",
      "                                  entry/exit  \n",
      "date                                          \n",
      "2020-07-27 22:05:58.071000-04:00         0.0  \n",
      "None\n"
     ]
    },
    {
     "name": "stderr",
     "output_type": "stream",
     "text": [
      "127.0.0.1 - - [27/Jul/2020 22:06:05] \"\u001b[37mPOST /_dash-update-component HTTP/1.1\u001b[0m\" 200 -\n"
     ]
    },
    {
     "name": "stdout",
     "output_type": "stream",
     "text": [
      "20\n",
      "                                     open     high      low    close  \\\n",
      "date                                                                   \n",
      "2020-07-27 22:06:05.064000-04:00  11051.0  11420.0  10043.0  11190.9   \n",
      "\n",
      "                                        volume  signal     sma10      sma20  \\\n",
      "date                                                                          \n",
      "2020-07-27 22:06:05.064000-04:00  15958.682855     0.0  11196.92  11198.255   \n",
      "\n",
      "                                  entry/exit  \n",
      "date                                          \n",
      "2020-07-27 22:06:05.064000-04:00         0.0  \n",
      "None\n"
     ]
    },
    {
     "name": "stderr",
     "output_type": "stream",
     "text": [
      "127.0.0.1 - - [27/Jul/2020 22:06:06] \"\u001b[37mPOST /_dash-update-component HTTP/1.1\u001b[0m\" 200 -\n",
      "127.0.0.1 - - [27/Jul/2020 22:06:07] \"\u001b[37mPOST /_dash-update-component HTTP/1.1\u001b[0m\" 200 -\n",
      "127.0.0.1 - - [27/Jul/2020 22:06:10] \"\u001b[37mPOST /_dash-update-component HTTP/1.1\u001b[0m\" 200 -\n"
     ]
    },
    {
     "name": "stdout",
     "output_type": "stream",
     "text": [
      "20\n",
      "                                     open     high      low    close  \\\n",
      "date                                                                   \n",
      "2020-07-27 22:06:07.095000-04:00  11051.0  11420.0  10043.0  11190.9   \n",
      "\n",
      "                                        volume  signal     sma10     sma20  \\\n",
      "date                                                                         \n",
      "2020-07-27 22:06:07.095000-04:00  15958.682855     0.0  11196.43  11197.76   \n",
      "\n",
      "                                  entry/exit  \n",
      "date                                          \n",
      "2020-07-27 22:06:07.095000-04:00         0.0  \n",
      "None\n"
     ]
    },
    {
     "name": "stderr",
     "output_type": "stream",
     "text": [
      "127.0.0.1 - - [27/Jul/2020 22:06:12] \"\u001b[37mPOST /_dash-update-component HTTP/1.1\u001b[0m\" 200 -\n"
     ]
    },
    {
     "name": "stdout",
     "output_type": "stream",
     "text": [
      "20\n",
      "                                     open     high      low    close  \\\n",
      "date                                                                   \n",
      "2020-07-27 22:06:12.042000-04:00  11046.1  11420.0  10043.0  11190.7   \n",
      "\n",
      "                                        volume  signal    sma10      sma20  \\\n",
      "date                                                                         \n",
      "2020-07-27 22:06:12.042000-04:00  15959.683369     0.0  11195.8  11197.255   \n",
      "\n",
      "                                  entry/exit  \n",
      "date                                          \n",
      "2020-07-27 22:06:12.042000-04:00         0.0  \n",
      "None\n"
     ]
    },
    {
     "name": "stderr",
     "output_type": "stream",
     "text": [
      "127.0.0.1 - - [27/Jul/2020 22:06:15] \"\u001b[37mPOST /_dash-update-component HTTP/1.1\u001b[0m\" 200 -\n",
      "127.0.0.1 - - [27/Jul/2020 22:06:18] \"\u001b[37mPOST /_dash-update-component HTTP/1.1\u001b[0m\" 200 -\n",
      "127.0.0.1 - - [27/Jul/2020 22:06:20] \"\u001b[37mPOST /_dash-update-component HTTP/1.1\u001b[0m\" 200 -\n"
     ]
    },
    {
     "name": "stdout",
     "output_type": "stream",
     "text": [
      "20\n",
      "                                     open     high      low    close  \\\n",
      "date                                                                   \n",
      "2020-07-27 22:06:18.134000-04:00  11046.1  11420.0  10043.0  11190.7   \n",
      "\n",
      "                                        volume  signal     sma10     sma20  \\\n",
      "date                                                                         \n",
      "2020-07-27 22:06:18.134000-04:00  15959.193369     0.0  11195.17  11196.75   \n",
      "\n",
      "                                  entry/exit  \n",
      "date                                          \n",
      "2020-07-27 22:06:18.134000-04:00         0.0  \n",
      "None\n",
      "20\n"
     ]
    },
    {
     "name": "stderr",
     "output_type": "stream",
     "text": [
      "127.0.0.1 - - [27/Jul/2020 22:06:25] \"\u001b[37mPOST /_dash-update-component HTTP/1.1\u001b[0m\" 200 -\n",
      "127.0.0.1 - - [27/Jul/2020 22:06:25] \"\u001b[37mPOST /_dash-update-component HTTP/1.1\u001b[0m\" 200 -\n"
     ]
    },
    {
     "name": "stdout",
     "output_type": "stream",
     "text": [
      "                                     open     high      low    close  \\\n",
      "date                                                                   \n",
      "2020-07-27 22:06:18.134000-04:00  11046.1  11420.0  10043.0  11190.7   \n",
      "\n",
      "                                        volume  signal     sma10     sma20  \\\n",
      "date                                                                         \n",
      "2020-07-27 22:06:18.134000-04:00  15959.193369     0.0  11195.17  11196.75   \n",
      "\n",
      "                                  entry/exit  \n",
      "date                                          \n",
      "2020-07-27 22:06:18.134000-04:00         0.0  \n",
      "None\n",
      "20\n",
      "20\n"
     ]
    },
    {
     "name": "stderr",
     "output_type": "stream",
     "text": [
      "127.0.0.1 - - [27/Jul/2020 22:06:31] \"\u001b[37mPOST /_dash-update-component HTTP/1.1\u001b[0m\" 200 -\n",
      "127.0.0.1 - - [27/Jul/2020 22:06:31] \"\u001b[37mPOST /_dash-update-component HTTP/1.1\u001b[0m\" 200 -\n",
      "127.0.0.1 - - [27/Jul/2020 22:06:31] \"\u001b[37mPOST /_dash-update-component HTTP/1.1\u001b[0m\" 200 -\n",
      "127.0.0.1 - - [27/Jul/2020 22:06:32] \"\u001b[37mPOST /_dash-update-component HTTP/1.1\u001b[0m\" 200 -\n"
     ]
    },
    {
     "name": "stdout",
     "output_type": "stream",
     "text": [
      "                                     open     high      low    close  \\\n",
      "date                                                                   \n",
      "2020-07-27 22:06:25.644000-04:00  11046.1  11420.0  10043.0  11189.8   \n",
      "\n",
      "                                        volume  signal     sma10    sma20  \\\n",
      "date                                                                        \n",
      "2020-07-27 22:06:25.644000-04:00  15960.193369     0.0  11194.15  11196.2   \n",
      "\n",
      "                                  entry/exit  \n",
      "date                                          \n",
      "2020-07-27 22:06:25.644000-04:00         0.0  \n",
      "None\n",
      "                                     open     high      low    close  \\\n",
      "date                                                                   \n",
      "2020-07-27 22:06:25.644000-04:00  11046.1  11420.0  10043.0  11189.8   \n",
      "\n",
      "                                        volume  signal     sma10    sma20  \\\n",
      "date                                                                        \n",
      "2020-07-27 22:06:25.644000-04:00  15960.193369     0.0  11194.15  11196.2   \n",
      "\n",
      "                                  entry/exit  \n",
      "date                                          \n",
      "2020-07-27 22:06:25.644000-04:00         0.0  \n",
      "None\n"
     ]
    },
    {
     "name": "stderr",
     "output_type": "stream",
     "text": [
      "127.0.0.1 - - [27/Jul/2020 22:06:33] \"\u001b[37mPOST /_dash-update-component HTTP/1.1\u001b[0m\" 200 -\n"
     ]
    },
    {
     "name": "stdout",
     "output_type": "stream",
     "text": [
      "20\n",
      "                                     open     high      low    close  \\\n",
      "date                                                                   \n",
      "2020-07-27 22:06:33.091000-04:00  11046.1  11420.0  10043.0  11186.5   \n",
      "\n",
      "                                        volume  signal    sma10     sma20  \\\n",
      "date                                                                        \n",
      "2020-07-27 22:06:33.091000-04:00  15959.063369     0.0  11190.1  11194.09   \n",
      "\n",
      "                                  entry/exit  \n",
      "date                                          \n",
      "2020-07-27 22:06:33.091000-04:00         0.0  \n",
      "None\n"
     ]
    },
    {
     "name": "stderr",
     "output_type": "stream",
     "text": [
      "127.0.0.1 - - [27/Jul/2020 22:06:35] \"\u001b[37mPOST /_dash-update-component HTTP/1.1\u001b[0m\" 200 -\n",
      "127.0.0.1 - - [27/Jul/2020 22:06:38] \"\u001b[37mPOST /_dash-update-component HTTP/1.1\u001b[0m\" 200 -\n"
     ]
    },
    {
     "name": "stdout",
     "output_type": "stream",
     "text": [
      "20\n"
     ]
    },
    {
     "name": "stderr",
     "output_type": "stream",
     "text": [
      "127.0.0.1 - - [27/Jul/2020 22:06:40] \"\u001b[37mPOST /_dash-update-component HTTP/1.1\u001b[0m\" 200 -\n"
     ]
    },
    {
     "name": "stdout",
     "output_type": "stream",
     "text": [
      "                                     open     high      low    close  \\\n",
      "date                                                                   \n",
      "2020-07-27 22:06:38.228000-04:00  11046.1  11420.0  10043.0  11181.7   \n",
      "\n",
      "                                        volume  signal     sma10     sma20  \\\n",
      "date                                                                         \n",
      "2020-07-27 22:06:38.228000-04:00  15960.063369     0.0  11188.51  11193.17   \n",
      "\n",
      "                                  entry/exit  \n",
      "date                                          \n",
      "2020-07-27 22:06:38.228000-04:00         0.0  \n",
      "None\n"
     ]
    },
    {
     "name": "stderr",
     "output_type": "stream",
     "text": [
      "127.0.0.1 - - [27/Jul/2020 22:06:42] \"\u001b[37mPOST /_dash-update-component HTTP/1.1\u001b[0m\" 200 -\n",
      "127.0.0.1 - - [27/Jul/2020 22:06:44] \"\u001b[37mPOST /_dash-update-component HTTP/1.1\u001b[0m\" 200 -\n"
     ]
    },
    {
     "name": "stdout",
     "output_type": "stream",
     "text": [
      "20\n",
      "                                     open     high      low    close  \\\n",
      "date                                                                   \n",
      "2020-07-27 22:06:42.038000-04:00  11046.1  11420.0  10043.0  11181.7   \n",
      "\n",
      "                                        volume  signal     sma10    sma20  \\\n",
      "date                                                                        \n",
      "2020-07-27 22:06:42.038000-04:00  15960.063369     0.0  11187.59  11192.5   \n",
      "\n",
      "                                  entry/exit  \n",
      "date                                          \n",
      "2020-07-27 22:06:42.038000-04:00         0.0  \n",
      "None\n"
     ]
    },
    {
     "name": "stderr",
     "output_type": "stream",
     "text": [
      "127.0.0.1 - - [27/Jul/2020 22:06:47] \"\u001b[37mPOST /_dash-update-component HTTP/1.1\u001b[0m\" 200 -\n"
     ]
    },
    {
     "name": "stdout",
     "output_type": "stream",
     "text": [
      "20\n",
      "                                     open     high      low    close  \\\n",
      "date                                                                   \n",
      "2020-07-27 22:06:47.106000-04:00  11046.1  11420.0  10043.0  11179.1   \n",
      "\n",
      "                                        volume  signal     sma10      sma20  \\\n",
      "date                                                                          \n",
      "2020-07-27 22:06:47.106000-04:00  15960.263369     0.0  11186.41  11191.665   \n",
      "\n",
      "                                  entry/exit  \n",
      "date                                          \n",
      "2020-07-27 22:06:47.106000-04:00         0.0  \n",
      "None\n"
     ]
    },
    {
     "name": "stderr",
     "output_type": "stream",
     "text": [
      "127.0.0.1 - - [27/Jul/2020 22:06:48] \"\u001b[37mPOST /_dash-update-component HTTP/1.1\u001b[0m\" 200 -\n",
      "127.0.0.1 - - [27/Jul/2020 22:06:51] \"\u001b[37mPOST /_dash-update-component HTTP/1.1\u001b[0m\" 200 -\n"
     ]
    },
    {
     "name": "stdout",
     "output_type": "stream",
     "text": [
      "20\n"
     ]
    },
    {
     "name": "stderr",
     "output_type": "stream",
     "text": [
      "127.0.0.1 - - [27/Jul/2020 22:06:54] \"\u001b[37mPOST /_dash-update-component HTTP/1.1\u001b[0m\" 200 -\n"
     ]
    },
    {
     "name": "stdout",
     "output_type": "stream",
     "text": [
      "                                     open     high      low    close  \\\n",
      "date                                                                   \n",
      "2020-07-27 22:06:51.056000-04:00  11046.1  11420.0  10043.0  11179.1   \n",
      "\n",
      "                                        volume  signal     sma10     sma20  \\\n",
      "date                                                                         \n",
      "2020-07-27 22:06:51.056000-04:00  15960.363369     0.0  11185.23  11190.83   \n",
      "\n",
      "                                  entry/exit  \n",
      "date                                          \n",
      "2020-07-27 22:06:51.056000-04:00         0.0  \n",
      "None\n"
     ]
    },
    {
     "name": "stderr",
     "output_type": "stream",
     "text": [
      "127.0.0.1 - - [27/Jul/2020 22:06:57] \"\u001b[37mPOST /_dash-update-component HTTP/1.1\u001b[0m\" 200 -\n",
      "127.0.0.1 - - [27/Jul/2020 22:06:59] \"\u001b[37mPOST /_dash-update-component HTTP/1.1\u001b[0m\" 200 -\n"
     ]
    },
    {
     "name": "stdout",
     "output_type": "stream",
     "text": [
      "20\n",
      "                                     open     high      low    close  \\\n",
      "date                                                                   \n",
      "2020-07-27 22:06:57.116000-04:00  11046.1  11420.0  10043.0  11179.1   \n",
      "\n",
      "                                        volume  signal     sma10      sma20  \\\n",
      "date                                                                          \n",
      "2020-07-27 22:06:57.116000-04:00  15960.715092     0.0  11184.07  11189.935   \n",
      "\n",
      "                                  entry/exit  \n",
      "date                                          \n",
      "2020-07-27 22:06:57.116000-04:00         0.0  \n",
      "None\n"
     ]
    },
    {
     "name": "stderr",
     "output_type": "stream",
     "text": [
      "127.0.0.1 - - [27/Jul/2020 22:07:00] \"\u001b[37mPOST /_dash-update-component HTTP/1.1\u001b[0m\" 200 -\n",
      "127.0.0.1 - - [27/Jul/2020 22:07:03] \"\u001b[37mPOST /_dash-update-component HTTP/1.1\u001b[0m\" 200 -\n"
     ]
    },
    {
     "name": "stdout",
     "output_type": "stream",
     "text": [
      "20\n",
      "                                     open     high      low    close  \\\n",
      "date                                                                   \n",
      "2020-07-27 22:07:00.068000-04:00  11046.1  11420.0  10043.0  11173.5   \n",
      "\n",
      "                                        volume  signal     sma10     sma20  \\\n",
      "date                                                                         \n",
      "2020-07-27 22:07:00.068000-04:00  15960.560575     0.0  11182.35  11188.76   \n",
      "\n",
      "                                  entry/exit  \n",
      "date                                          \n",
      "2020-07-27 22:07:00.068000-04:00         0.0  \n",
      "None\n"
     ]
    },
    {
     "name": "stderr",
     "output_type": "stream",
     "text": [
      "127.0.0.1 - - [27/Jul/2020 22:07:06] \"\u001b[37mPOST /_dash-update-component HTTP/1.1\u001b[0m\" 200 -\n"
     ]
    },
    {
     "name": "stdout",
     "output_type": "stream",
     "text": [
      "20\n"
     ]
    },
    {
     "name": "stderr",
     "output_type": "stream",
     "text": [
      "127.0.0.1 - - [27/Jul/2020 22:07:07] \"\u001b[37mPOST /_dash-update-component HTTP/1.1\u001b[0m\" 200 -\n"
     ]
    },
    {
     "name": "stdout",
     "output_type": "stream",
     "text": [
      "                                     open     high      low    close  \\\n",
      "date                                                                   \n",
      "2020-07-27 22:07:06.451000-04:00  11051.0  11420.0  10043.0  11173.5   \n",
      "\n",
      "                                        volume  signal     sma10      sma20  \\\n",
      "date                                                                          \n",
      "2020-07-27 22:07:06.451000-04:00  15960.632474     0.0  11180.72  11187.435   \n",
      "\n",
      "                                  entry/exit  \n",
      "date                                          \n",
      "2020-07-27 22:07:06.451000-04:00         0.0  \n",
      "None\n"
     ]
    },
    {
     "name": "stderr",
     "output_type": "stream",
     "text": [
      "127.0.0.1 - - [27/Jul/2020 22:07:09] \"\u001b[37mPOST /_dash-update-component HTTP/1.1\u001b[0m\" 200 -\n",
      "127.0.0.1 - - [27/Jul/2020 22:07:12] \"\u001b[37mPOST /_dash-update-component HTTP/1.1\u001b[0m\" 200 -\n"
     ]
    },
    {
     "name": "stdout",
     "output_type": "stream",
     "text": [
      "20\n",
      "                                     open     high      low    close  \\\n",
      "date                                                                   \n",
      "2020-07-27 22:07:09.152000-04:00  11051.0  11420.0  10043.0  11173.5   \n",
      "\n",
      "                                        volume  signal     sma10     sma20  \\\n",
      "date                                                                         \n",
      "2020-07-27 22:07:09.152000-04:00  15960.632474     0.0  11179.42  11186.11   \n",
      "\n",
      "                                  entry/exit  \n",
      "date                                          \n",
      "2020-07-27 22:07:09.152000-04:00         0.0  \n",
      "None\n"
     ]
    },
    {
     "name": "stderr",
     "output_type": "stream",
     "text": [
      "127.0.0.1 - - [27/Jul/2020 22:07:16] \"\u001b[37mPOST /_dash-update-component HTTP/1.1\u001b[0m\" 200 -\n",
      "127.0.0.1 - - [27/Jul/2020 22:07:19] \"\u001b[37mPOST /_dash-update-component HTTP/1.1\u001b[0m\" 200 -\n"
     ]
    },
    {
     "name": "stdout",
     "output_type": "stream",
     "text": [
      "20\n",
      "                                     open     high      low    close  \\\n",
      "date                                                                   \n",
      "2020-07-27 22:07:16.118000-04:00  11046.1  11420.0  10043.0  11173.6   \n",
      "\n",
      "                                        volume  signal     sma10     sma20  \\\n",
      "date                                                                         \n",
      "2020-07-27 22:07:16.118000-04:00  15959.648521     0.0  11178.13  11184.79   \n",
      "\n",
      "                                  entry/exit  \n",
      "date                                          \n",
      "2020-07-27 22:07:16.118000-04:00         0.0  \n",
      "None\n"
     ]
    },
    {
     "name": "stderr",
     "output_type": "stream",
     "text": [
      "127.0.0.1 - - [27/Jul/2020 22:07:22] \"\u001b[37mPOST /_dash-update-component HTTP/1.1\u001b[0m\" 200 -\n",
      "127.0.0.1 - - [27/Jul/2020 22:07:23] \"\u001b[37mPOST /_dash-update-component HTTP/1.1\u001b[0m\" 200 -\n"
     ]
    },
    {
     "name": "stdout",
     "output_type": "stream",
     "text": [
      "20\n",
      "                                     open     high      low    close  \\\n",
      "date                                                                   \n",
      "2020-07-27 22:07:22.004000-04:00  11046.1  11420.0  10043.0  11173.6   \n",
      "\n",
      "                                        volume  signal     sma10     sma20  \\\n",
      "date                                                                         \n",
      "2020-07-27 22:07:22.004000-04:00  15959.648521     0.0  11176.84  11183.47   \n",
      "\n",
      "                                  entry/exit  \n",
      "date                                          \n",
      "2020-07-27 22:07:22.004000-04:00         0.0  \n",
      "None\n"
     ]
    },
    {
     "name": "stderr",
     "output_type": "stream",
     "text": [
      "127.0.0.1 - - [27/Jul/2020 22:07:27] \"\u001b[37mPOST /_dash-update-component HTTP/1.1\u001b[0m\" 200 -\n",
      "127.0.0.1 - - [27/Jul/2020 22:07:28] \"\u001b[37mPOST /_dash-update-component HTTP/1.1\u001b[0m\" 200 -\n"
     ]
    },
    {
     "name": "stdout",
     "output_type": "stream",
     "text": [
      "20\n",
      "                                     open     high      low    close  \\\n",
      "date                                                                   \n",
      "2020-07-27 22:07:27.054000-04:00  11046.1  11420.0  10043.0  11167.3   \n",
      "\n",
      "                                        volume  signal    sma10      sma20  \\\n",
      "date                                                                         \n",
      "2020-07-27 22:07:27.054000-04:00  15959.757051     0.0  11175.4  11181.955   \n",
      "\n",
      "                                  entry/exit  \n",
      "date                                          \n",
      "2020-07-27 22:07:27.054000-04:00         0.0  \n",
      "None\n"
     ]
    },
    {
     "name": "stderr",
     "output_type": "stream",
     "text": [
      "127.0.0.1 - - [27/Jul/2020 22:07:29] \"\u001b[37mPOST /_dash-update-component HTTP/1.1\u001b[0m\" 200 -\n"
     ]
    },
    {
     "name": "stdout",
     "output_type": "stream",
     "text": [
      "20\n"
     ]
    },
    {
     "name": "stderr",
     "output_type": "stream",
     "text": [
      "127.0.0.1 - - [27/Jul/2020 22:07:31] \"\u001b[37mPOST /_dash-update-component HTTP/1.1\u001b[0m\" 200 -\n"
     ]
    },
    {
     "name": "stdout",
     "output_type": "stream",
     "text": [
      "                                     open     high      low    close  \\\n",
      "date                                                                   \n",
      "2020-07-27 22:07:29.256000-04:00  11046.1  11420.0  10043.0  11167.3   \n",
      "\n",
      "                                        volume  signal     sma10      sma20  \\\n",
      "date                                                                          \n",
      "2020-07-27 22:07:29.256000-04:00  15959.748051     0.0  11173.96  11180.775   \n",
      "\n",
      "                                  entry/exit  \n",
      "date                                          \n",
      "2020-07-27 22:07:29.256000-04:00         0.0  \n",
      "None\n"
     ]
    },
    {
     "name": "stderr",
     "output_type": "stream",
     "text": [
      "127.0.0.1 - - [27/Jul/2020 22:07:36] \"\u001b[37mPOST /_dash-update-component HTTP/1.1\u001b[0m\" 200 -\n"
     ]
    },
    {
     "name": "stdout",
     "output_type": "stream",
     "text": [
      "20\n",
      "                                     open     high      low    close  \\\n",
      "date                                                                   \n",
      "2020-07-27 22:07:36.095000-04:00  11046.1  11420.0  10043.0  11163.6   \n",
      "\n",
      "                                        volume  signal     sma10     sma20  \\\n",
      "date                                                                         \n",
      "2020-07-27 22:07:36.095000-04:00  15960.453343     0.0  11172.41  11179.41   \n",
      "\n",
      "                                  entry/exit  \n",
      "date                                          \n",
      "2020-07-27 22:07:36.095000-04:00         0.0  \n",
      "None\n"
     ]
    },
    {
     "name": "stderr",
     "output_type": "stream",
     "text": [
      "127.0.0.1 - - [27/Jul/2020 22:07:38] \"\u001b[37mPOST /_dash-update-component HTTP/1.1\u001b[0m\" 200 -\n",
      "127.0.0.1 - - [27/Jul/2020 22:07:40] \"\u001b[37mPOST /_dash-update-component HTTP/1.1\u001b[0m\" 200 -\n"
     ]
    },
    {
     "name": "stdout",
     "output_type": "stream",
     "text": [
      "20\n"
     ]
    },
    {
     "name": "stderr",
     "output_type": "stream",
     "text": [
      "127.0.0.1 - - [27/Jul/2020 22:07:40] \"\u001b[37mPOST /_dash-update-component HTTP/1.1\u001b[0m\" 200 -\n"
     ]
    },
    {
     "name": "stdout",
     "output_type": "stream",
     "text": [
      "                                     open     high      low    close  \\\n",
      "date                                                                   \n",
      "2020-07-27 22:07:36.095000-04:00  11046.1  11420.0  10043.0  11163.6   \n",
      "\n",
      "                                        volume  signal     sma10     sma20  \\\n",
      "date                                                                         \n",
      "2020-07-27 22:07:36.095000-04:00  15960.453343     0.0  11172.41  11179.41   \n",
      "\n",
      "                                  entry/exit  \n",
      "date                                          \n",
      "2020-07-27 22:07:36.095000-04:00         0.0  \n",
      "None\n"
     ]
    },
    {
     "name": "stderr",
     "output_type": "stream",
     "text": [
      "127.0.0.1 - - [27/Jul/2020 22:07:41] \"\u001b[37mPOST /_dash-update-component HTTP/1.1\u001b[0m\" 200 -\n"
     ]
    },
    {
     "name": "stdout",
     "output_type": "stream",
     "text": [
      "20\n",
      "                                     open     high      low    close  \\\n",
      "date                                                                   \n",
      "2020-07-27 22:07:41.088000-04:00  11046.1  11420.0  10043.0  11163.6   \n",
      "\n",
      "                                        volume  signal     sma10     sma20  \\\n",
      "date                                                                         \n",
      "2020-07-27 22:07:41.088000-04:00  15960.453343     0.0  11169.31  11176.69   \n",
      "\n",
      "                                  entry/exit  \n",
      "date                                          \n",
      "2020-07-27 22:07:41.088000-04:00         0.0  \n",
      "None\n"
     ]
    },
    {
     "name": "stderr",
     "output_type": "stream",
     "text": [
      "127.0.0.1 - - [27/Jul/2020 22:07:46] \"\u001b[37mPOST /_dash-update-component HTTP/1.1\u001b[0m\" 200 -\n",
      "127.0.0.1 - - [27/Jul/2020 22:07:50] \"\u001b[37mPOST /_dash-update-component HTTP/1.1\u001b[0m\" 200 -\n",
      "127.0.0.1 - - [27/Jul/2020 22:07:51] \"\u001b[37mPOST /_dash-update-component HTTP/1.1\u001b[0m\" 200 -\n"
     ]
    },
    {
     "name": "stdout",
     "output_type": "stream",
     "text": [
      "20\n",
      "                                     open     high      low    close  \\\n",
      "date                                                                   \n",
      "2020-07-27 22:07:50.089000-04:00  11046.1  11420.0  10043.0  11163.6   \n",
      "\n",
      "                                        volume  signal     sma10      sma20  \\\n",
      "date                                                                          \n",
      "2020-07-27 22:07:50.089000-04:00  15960.453343     0.0  11168.32  11175.335   \n",
      "\n",
      "                                  entry/exit  \n",
      "date                                          \n",
      "2020-07-27 22:07:50.089000-04:00         0.0  \n",
      "None\n"
     ]
    },
    {
     "name": "stderr",
     "output_type": "stream",
     "text": [
      "127.0.0.1 - - [27/Jul/2020 22:07:53] \"\u001b[37mPOST /_dash-update-component HTTP/1.1\u001b[0m\" 200 -\n",
      "127.0.0.1 - - [27/Jul/2020 22:07:55] \"\u001b[37mPOST /_dash-update-component HTTP/1.1\u001b[0m\" 200 -\n"
     ]
    },
    {
     "name": "stdout",
     "output_type": "stream",
     "text": [
      "20\n",
      "                                     open     high      low    close  \\\n",
      "date                                                                   \n",
      "2020-07-27 22:07:53.035000-04:00  11046.1  11420.0  10043.0  11163.6   \n",
      "\n",
      "                                        volume  signal     sma10      sma20  \\\n",
      "date                                                                          \n",
      "2020-07-27 22:07:53.035000-04:00  15960.453343     0.0  11167.33  11174.025   \n",
      "\n",
      "                                  entry/exit  \n",
      "date                                          \n",
      "2020-07-27 22:07:53.035000-04:00         0.0  \n",
      "None\n"
     ]
    },
    {
     "name": "stderr",
     "output_type": "stream",
     "text": [
      "127.0.0.1 - - [27/Jul/2020 22:07:57] \"\u001b[37mPOST /_dash-update-component HTTP/1.1\u001b[0m\" 200 -\n"
     ]
    },
    {
     "name": "stdout",
     "output_type": "stream",
     "text": [
      "20\n",
      "                                     open     high      low    close  \\\n",
      "date                                                                   \n",
      "2020-07-27 22:07:57.100000-04:00  11046.1  11420.0  10043.0  11166.8   \n",
      "\n",
      "                                       volume  signal     sma10     sma20  \\\n",
      "date                                                                        \n",
      "2020-07-27 22:07:57.100000-04:00  15960.36889     0.0  11166.66  11173.04   \n",
      "\n",
      "                                  entry/exit  \n",
      "date                                          \n",
      "2020-07-27 22:07:57.100000-04:00         0.0  \n",
      "None\n"
     ]
    },
    {
     "name": "stderr",
     "output_type": "stream",
     "text": [
      "127.0.0.1 - - [27/Jul/2020 22:07:59] \"\u001b[37mPOST /_dash-update-component HTTP/1.1\u001b[0m\" 200 -\n",
      "127.0.0.1 - - [27/Jul/2020 22:08:00] \"\u001b[37mPOST /_dash-update-component HTTP/1.1\u001b[0m\" 200 -\n"
     ]
    },
    {
     "name": "stdout",
     "output_type": "stream",
     "text": [
      "20\n",
      "                                     open     high      low    close  \\\n",
      "date                                                                   \n",
      "2020-07-27 22:08:00.079000-04:00  11046.1  11420.0  10043.0  11166.8   \n",
      "\n",
      "                                       volume  signal     sma10      sma20  \\\n",
      "date                                                                         \n",
      "2020-07-27 22:08:00.079000-04:00  15960.36889     0.0  11165.98  11172.055   \n",
      "\n",
      "                                  entry/exit  \n",
      "date                                          \n",
      "2020-07-27 22:08:00.079000-04:00         0.0  \n",
      "None\n"
     ]
    },
    {
     "name": "stderr",
     "output_type": "stream",
     "text": [
      "127.0.0.1 - - [27/Jul/2020 22:08:01] \"\u001b[37mPOST /_dash-update-component HTTP/1.1\u001b[0m\" 200 -\n",
      "127.0.0.1 - - [27/Jul/2020 22:08:05] \"\u001b[37mPOST /_dash-update-component HTTP/1.1\u001b[0m\" 200 -\n",
      "127.0.0.1 - - [27/Jul/2020 22:08:08] \"\u001b[37mPOST /_dash-update-component HTTP/1.1\u001b[0m\" 200 -\n"
     ]
    },
    {
     "name": "stdout",
     "output_type": "stream",
     "text": [
      "20\n",
      "                                     open     high      low    close  \\\n",
      "date                                                                   \n",
      "2020-07-27 22:08:05.096000-04:00  11046.1  11420.0  10043.0  11166.8   \n",
      "\n",
      "                                       volume  signal    sma10     sma20  \\\n",
      "date                                                                       \n",
      "2020-07-27 22:08:05.096000-04:00  15959.96889     0.0  11165.3  11171.07   \n",
      "\n",
      "                                  entry/exit  \n",
      "date                                          \n",
      "2020-07-27 22:08:05.096000-04:00         0.0  \n",
      "None\n"
     ]
    },
    {
     "name": "stderr",
     "output_type": "stream",
     "text": [
      "127.0.0.1 - - [27/Jul/2020 22:08:11] \"\u001b[37mPOST /_dash-update-component HTTP/1.1\u001b[0m\" 200 -\n"
     ]
    },
    {
     "name": "stdout",
     "output_type": "stream",
     "text": [
      "20\n",
      "                                     open     high      low    close  \\\n",
      "date                                                                   \n",
      "2020-07-27 22:08:11.113000-04:00  11046.1  11420.0  10043.0  11171.0   \n",
      "\n",
      "                                        volume  signal     sma10      sma20  \\\n",
      "date                                                                          \n",
      "2020-07-27 22:08:11.113000-04:00  15959.977684     0.0  11165.67  11170.535   \n",
      "\n",
      "                                  entry/exit  \n",
      "date                                          \n",
      "2020-07-27 22:08:11.113000-04:00         0.0  \n",
      "None\n"
     ]
    },
    {
     "name": "stderr",
     "output_type": "stream",
     "text": [
      "127.0.0.1 - - [27/Jul/2020 22:08:14] \"\u001b[37mPOST /_dash-update-component HTTP/1.1\u001b[0m\" 200 -\n",
      "127.0.0.1 - - [27/Jul/2020 22:08:14] \"\u001b[37mPOST /_dash-update-component HTTP/1.1\u001b[0m\" 200 -\n",
      "127.0.0.1 - - [27/Jul/2020 22:08:15] \"\u001b[37mPOST /_dash-update-component HTTP/1.1\u001b[0m\" 200 -\n",
      "127.0.0.1 - - [27/Jul/2020 22:08:17] \"\u001b[37mPOST /_dash-update-component HTTP/1.1\u001b[0m\" 200 -\n"
     ]
    },
    {
     "name": "stdout",
     "output_type": "stream",
     "text": [
      "20\n",
      "                                     open     high      low    close  \\\n",
      "date                                                                   \n",
      "2020-07-27 22:08:15.059000-04:00  11046.1  11420.0  10043.0  11171.0   \n",
      "\n",
      "                                        volume  signal     sma10      sma20  \\\n",
      "date                                                                          \n",
      "2020-07-27 22:08:15.059000-04:00  15959.977684     0.0  11166.78  11169.595   \n",
      "\n",
      "                                  entry/exit  \n",
      "date                                          \n",
      "2020-07-27 22:08:15.059000-04:00         0.0  \n",
      "None\n"
     ]
    },
    {
     "name": "stderr",
     "output_type": "stream",
     "text": [
      "127.0.0.1 - - [27/Jul/2020 22:08:21] \"\u001b[37mPOST /_dash-update-component HTTP/1.1\u001b[0m\" 200 -\n",
      "127.0.0.1 - - [27/Jul/2020 22:08:23] \"\u001b[37mPOST /_dash-update-component HTTP/1.1\u001b[0m\" 200 -\n"
     ]
    },
    {
     "name": "stdout",
     "output_type": "stream",
     "text": [
      "20\n",
      "                                     open     high      low    close  \\\n",
      "date                                                                   \n",
      "2020-07-27 22:08:21.062000-04:00  11046.1  11420.0  10043.0  11171.0   \n",
      "\n",
      "                                        volume  signal     sma10     sma20  \\\n",
      "date                                                                         \n",
      "2020-07-27 22:08:21.062000-04:00  15959.977684     0.0  11167.52  11169.19   \n",
      "\n",
      "                                  entry/exit  \n",
      "date                                          \n",
      "2020-07-27 22:08:21.062000-04:00         0.0  \n",
      "None\n"
     ]
    },
    {
     "name": "stderr",
     "output_type": "stream",
     "text": [
      "127.0.0.1 - - [27/Jul/2020 22:08:25] \"\u001b[37mPOST /_dash-update-component HTTP/1.1\u001b[0m\" 200 -\n",
      "127.0.0.1 - - [27/Jul/2020 22:08:27] \"\u001b[37mPOST /_dash-update-component HTTP/1.1\u001b[0m\" 200 -\n"
     ]
    },
    {
     "name": "stdout",
     "output_type": "stream",
     "text": [
      "20\n",
      "                                     open     high      low    close  \\\n",
      "date                                                                   \n",
      "2020-07-27 22:08:25.069000-04:00  11046.1  11420.0  10043.0  11171.0   \n",
      "\n",
      "                                        volume  signal     sma10      sma20  \\\n",
      "date                                                                          \n",
      "2020-07-27 22:08:25.069000-04:00  15958.561784     0.0  11168.26  11168.785   \n",
      "\n",
      "                                  entry/exit  \n",
      "date                                          \n",
      "2020-07-27 22:08:25.069000-04:00         0.0  \n",
      "None\n"
     ]
    },
    {
     "name": "stderr",
     "output_type": "stream",
     "text": [
      "127.0.0.1 - - [27/Jul/2020 22:08:29] \"\u001b[37mPOST /_dash-update-component HTTP/1.1\u001b[0m\" 200 -\n",
      "127.0.0.1 - - [27/Jul/2020 22:08:30] \"\u001b[37mPOST /_dash-update-component HTTP/1.1\u001b[0m\" 200 -\n"
     ]
    },
    {
     "name": "stdout",
     "output_type": "stream",
     "text": [
      "20\n",
      "                                     open     high      low    close  \\\n",
      "date                                                                   \n",
      "2020-07-27 22:08:29.072000-04:00  11046.1  11420.0  10043.0  11171.0   \n",
      "\n",
      "                                        volume  signal    sma10     sma20  \\\n",
      "date                                                                        \n",
      "2020-07-27 22:08:29.072000-04:00  15958.561784     0.0  11169.0  11168.66   \n",
      "\n",
      "                                  entry/exit  \n",
      "date                                          \n",
      "2020-07-27 22:08:29.072000-04:00         0.0  \n",
      "None\n"
     ]
    },
    {
     "name": "stderr",
     "output_type": "stream",
     "text": [
      "127.0.0.1 - - [27/Jul/2020 22:08:31] \"\u001b[37mPOST /_dash-update-component HTTP/1.1\u001b[0m\" 200 -\n"
     ]
    },
    {
     "name": "stdout",
     "output_type": "stream",
     "text": [
      "20\n",
      "                                     open     high      low    close  \\\n",
      "date                                                                   \n",
      "2020-07-27 22:08:29.072000-04:00  11046.1  11420.0  10043.0  11171.0   \n",
      "\n",
      "                                        volume  signal    sma10     sma20  \\\n",
      "date                                                                        \n",
      "2020-07-27 22:08:29.072000-04:00  15958.561784     0.0  11169.0  11168.66   \n",
      "\n",
      "                                  entry/exit  \n",
      "date                                          \n",
      "2020-07-27 22:08:29.072000-04:00         0.0  \n",
      "None\n"
     ]
    },
    {
     "name": "stderr",
     "output_type": "stream",
     "text": [
      "127.0.0.1 - - [27/Jul/2020 22:08:31] \"\u001b[37mPOST /_dash-update-component HTTP/1.1\u001b[0m\" 200 -\n",
      "127.0.0.1 - - [27/Jul/2020 22:08:32] \"\u001b[37mPOST /_dash-update-component HTTP/1.1\u001b[0m\" 200 -\n"
     ]
    },
    {
     "name": "stdout",
     "output_type": "stream",
     "text": [
      "20\n",
      "                                     open     high      low    close  \\\n",
      "date                                                                   \n",
      "2020-07-27 22:08:32.108000-04:00  11046.1  11420.0  10043.0  11171.0   \n",
      "\n",
      "                                        volume  signal     sma10     sma20  \\\n",
      "date                                                                         \n",
      "2020-07-27 22:08:32.108000-04:00  15958.561784     0.0  11170.16  11168.41   \n",
      "\n",
      "                                  entry/exit  \n",
      "date                                          \n",
      "2020-07-27 22:08:32.108000-04:00         0.0  \n",
      "None\n"
     ]
    },
    {
     "name": "stderr",
     "output_type": "stream",
     "text": [
      "127.0.0.1 - - [27/Jul/2020 22:08:36] \"\u001b[37mPOST /_dash-update-component HTTP/1.1\u001b[0m\" 200 -\n",
      "127.0.0.1 - - [27/Jul/2020 22:08:38] \"\u001b[37mPOST /_dash-update-component HTTP/1.1\u001b[0m\" 200 -\n",
      "127.0.0.1 - - [27/Jul/2020 22:08:38] \"\u001b[37mPOST /_dash-update-component HTTP/1.1\u001b[0m\" 200 -\n"
     ]
    },
    {
     "name": "stdout",
     "output_type": "stream",
     "text": [
      "20\n",
      "                                     open     high      low    close  \\\n",
      "date                                                                   \n",
      "2020-07-27 22:08:32.108000-04:00  11046.1  11420.0  10043.0  11171.0   \n",
      "\n",
      "                                        volume  signal     sma10     sma20  \\\n",
      "date                                                                         \n",
      "2020-07-27 22:08:32.108000-04:00  15958.561784     0.0  11170.16  11168.41   \n",
      "\n",
      "                                  entry/exit  \n",
      "date                                          \n",
      "2020-07-27 22:08:32.108000-04:00         0.0  \n",
      "None\n"
     ]
    },
    {
     "name": "stderr",
     "output_type": "stream",
     "text": [
      "127.0.0.1 - - [27/Jul/2020 22:08:39] \"\u001b[37mPOST /_dash-update-component HTTP/1.1\u001b[0m\" 200 -\n",
      "127.0.0.1 - - [27/Jul/2020 22:08:42] \"\u001b[37mPOST /_dash-update-component HTTP/1.1\u001b[0m\" 200 -\n"
     ]
    },
    {
     "name": "stdout",
     "output_type": "stream",
     "text": [
      "20\n",
      "                                     open     high      low    close  \\\n",
      "date                                                                   \n",
      "2020-07-27 22:08:39.045000-04:00  11051.0  11420.0  10043.0  11172.7   \n",
      "\n",
      "                                        volume  signal     sma10     sma20  \\\n",
      "date                                                                         \n",
      "2020-07-27 22:08:39.045000-04:00  15958.466214     0.0  11171.34  11168.32   \n",
      "\n",
      "                                  entry/exit  \n",
      "date                                          \n",
      "2020-07-27 22:08:39.045000-04:00         0.0  \n",
      "None\n"
     ]
    },
    {
     "name": "stderr",
     "output_type": "stream",
     "text": [
      "127.0.0.1 - - [27/Jul/2020 22:08:45] \"\u001b[37mPOST /_dash-update-component HTTP/1.1\u001b[0m\" 200 -\n",
      "127.0.0.1 - - [27/Jul/2020 22:08:47] \"\u001b[37mPOST /_dash-update-component HTTP/1.1\u001b[0m\" 200 -\n"
     ]
    },
    {
     "name": "stdout",
     "output_type": "stream",
     "text": [
      "20\n",
      "                                     open     high      low    close  \\\n",
      "date                                                                   \n",
      "2020-07-27 22:08:45.084000-04:00  11046.1  11420.0  10043.0  11169.1   \n",
      "\n",
      "                                        volume  signal     sma10     sma20  \\\n",
      "date                                                                         \n",
      "2020-07-27 22:08:45.084000-04:00  15959.466214     0.0  11171.15  11168.41   \n",
      "\n",
      "                                  entry/exit  \n",
      "date                                          \n",
      "2020-07-27 22:08:45.084000-04:00         0.0  \n",
      "None\n"
     ]
    },
    {
     "name": "stderr",
     "output_type": "stream",
     "text": [
      "127.0.0.1 - - [27/Jul/2020 22:08:50] \"\u001b[37mPOST /_dash-update-component HTTP/1.1\u001b[0m\" 200 -\n",
      "127.0.0.1 - - [27/Jul/2020 22:08:51] \"\u001b[37mPOST /_dash-update-component HTTP/1.1\u001b[0m\" 200 -\n"
     ]
    },
    {
     "name": "stdout",
     "output_type": "stream",
     "text": [
      "20\n",
      "                                     open     high      low    close  \\\n",
      "date                                                                   \n",
      "2020-07-27 22:08:50.050000-04:00  11046.1  11420.0  10043.0  11169.1   \n",
      "\n",
      "                                        volume  signal     sma10    sma20  \\\n",
      "date                                                                        \n",
      "2020-07-27 22:08:50.050000-04:00  15958.966214     0.0  11170.96  11168.5   \n",
      "\n",
      "                                  entry/exit  \n",
      "date                                          \n",
      "2020-07-27 22:08:50.050000-04:00         0.0  \n",
      "None\n"
     ]
    },
    {
     "name": "stderr",
     "output_type": "stream",
     "text": [
      "127.0.0.1 - - [27/Jul/2020 22:08:55] \"\u001b[37mPOST /_dash-update-component HTTP/1.1\u001b[0m\" 200 -\n",
      "127.0.0.1 - - [27/Jul/2020 22:08:58] \"\u001b[37mPOST /_dash-update-component HTTP/1.1\u001b[0m\" 200 -\n"
     ]
    },
    {
     "name": "stdout",
     "output_type": "stream",
     "text": [
      "20\n",
      "                                     open     high      low    close  \\\n",
      "date                                                                   \n",
      "2020-07-27 22:08:55.264000-04:00  11046.1  11420.0  10043.0  11169.1   \n",
      "\n",
      "                                        volume  signal     sma10      sma20  \\\n",
      "date                                                                          \n",
      "2020-07-27 22:08:55.264000-04:00  15956.366214     0.0  11170.77  11168.775   \n",
      "\n",
      "                                  entry/exit  \n",
      "date                                          \n",
      "2020-07-27 22:08:55.264000-04:00         0.0  \n",
      "None\n"
     ]
    },
    {
     "name": "stderr",
     "output_type": "stream",
     "text": [
      "127.0.0.1 - - [27/Jul/2020 22:09:02] \"\u001b[37mPOST /_dash-update-component HTTP/1.1\u001b[0m\" 200 -\n",
      "127.0.0.1 - - [27/Jul/2020 22:09:04] \"\u001b[37mPOST /_dash-update-component HTTP/1.1\u001b[0m\" 200 -\n"
     ]
    },
    {
     "name": "stdout",
     "output_type": "stream",
     "text": [
      "20\n",
      "                                     open     high      low    close  \\\n",
      "date                                                                   \n",
      "2020-07-27 22:09:02.089000-04:00  11051.0  11420.0  10043.0  11169.1   \n",
      "\n",
      "                                        volume  signal     sma10     sma20  \\\n",
      "date                                                                         \n",
      "2020-07-27 22:09:02.089000-04:00  15943.096009     0.0  11170.58  11169.05   \n",
      "\n",
      "                                  entry/exit  \n",
      "date                                          \n",
      "2020-07-27 22:09:02.089000-04:00         0.0  \n",
      "None\n"
     ]
    }
   ],
   "source": [
    "%run -i app.py"
   ]
  },
  {
   "cell_type": "code",
   "execution_count": null,
   "metadata": {},
   "outputs": [],
   "source": [
    "!python app.py"
   ]
  },
  {
   "cell_type": "markdown",
   "metadata": {},
   "source": [
    "# Data Source - Kraken"
   ]
  },
  {
   "cell_type": "code",
   "execution_count": 32,
   "metadata": {},
   "outputs": [],
   "source": [
    "import crypto_stream"
   ]
  },
  {
   "cell_type": "code",
   "execution_count": null,
   "metadata": {},
   "outputs": [],
   "source": [
    "crypto_stream.fetch_historical_data(crypto='BTC/USD', interval='1m', no_of_data=720)"
   ]
  },
  {
   "cell_type": "code",
   "execution_count": null,
   "metadata": {},
   "outputs": [],
   "source": [
    "crypto_stream.fetch_historical_data(crypto='BTC/USD', interval='1w', limit=720)"
   ]
  },
  {
   "cell_type": "code",
   "execution_count": 33,
   "metadata": {},
   "outputs": [],
   "source": [
    "df = crypto_stream.get_data_from_table()"
   ]
  },
  {
   "cell_type": "code",
   "execution_count": 82,
   "metadata": {},
   "outputs": [],
   "source": [
    "df_1 = df.reset_index()\n",
    "df_1.loc[-1:,['volume']] = 0.0"
   ]
  },
  {
   "cell_type": "code",
   "execution_count": 84,
   "metadata": {},
   "outputs": [
    {
     "data": {
      "text/html": [
       "<div>\n",
       "<style scoped>\n",
       "    .dataframe tbody tr th:only-of-type {\n",
       "        vertical-align: middle;\n",
       "    }\n",
       "\n",
       "    .dataframe tbody tr th {\n",
       "        vertical-align: top;\n",
       "    }\n",
       "\n",
       "    .dataframe thead th {\n",
       "        text-align: right;\n",
       "    }\n",
       "</style>\n",
       "<table border=\"1\" class=\"dataframe\">\n",
       "  <thead>\n",
       "    <tr style=\"text-align: right;\">\n",
       "      <th></th>\n",
       "      <th>date</th>\n",
       "      <th>open</th>\n",
       "      <th>high</th>\n",
       "      <th>low</th>\n",
       "      <th>close</th>\n",
       "      <th>volume</th>\n",
       "    </tr>\n",
       "  </thead>\n",
       "  <tbody>\n",
       "    <tr>\n",
       "      <th>0</th>\n",
       "      <td>2020-07-18 20:09:48.443000-04:00</td>\n",
       "      <td>9174.1</td>\n",
       "      <td>9208.9</td>\n",
       "      <td>9123.0</td>\n",
       "      <td>9181.3</td>\n",
       "      <td>0.0</td>\n",
       "    </tr>\n",
       "    <tr>\n",
       "      <th>1</th>\n",
       "      <td>2020-07-18 20:09:47.495000-04:00</td>\n",
       "      <td>9174.1</td>\n",
       "      <td>9208.9</td>\n",
       "      <td>9123.0</td>\n",
       "      <td>9181.3</td>\n",
       "      <td>0.0</td>\n",
       "    </tr>\n",
       "    <tr>\n",
       "      <th>2</th>\n",
       "      <td>2020-07-18 20:09:46.623000-04:00</td>\n",
       "      <td>9174.1</td>\n",
       "      <td>9208.9</td>\n",
       "      <td>9123.0</td>\n",
       "      <td>9181.3</td>\n",
       "      <td>0.0</td>\n",
       "    </tr>\n",
       "    <tr>\n",
       "      <th>3</th>\n",
       "      <td>2020-07-18 20:09:45.461000-04:00</td>\n",
       "      <td>9174.1</td>\n",
       "      <td>9208.9</td>\n",
       "      <td>9123.0</td>\n",
       "      <td>9181.3</td>\n",
       "      <td>0.0</td>\n",
       "    </tr>\n",
       "    <tr>\n",
       "      <th>4</th>\n",
       "      <td>2020-07-18 20:09:44.511000-04:00</td>\n",
       "      <td>9174.1</td>\n",
       "      <td>9208.9</td>\n",
       "      <td>9123.0</td>\n",
       "      <td>9181.3</td>\n",
       "      <td>0.0</td>\n",
       "    </tr>\n",
       "    <tr>\n",
       "      <th>...</th>\n",
       "      <td>...</td>\n",
       "      <td>...</td>\n",
       "      <td>...</td>\n",
       "      <td>...</td>\n",
       "      <td>...</td>\n",
       "      <td>...</td>\n",
       "    </tr>\n",
       "    <tr>\n",
       "      <th>95</th>\n",
       "      <td>2020-07-18 20:08:03.195000-04:00</td>\n",
       "      <td>9174.1</td>\n",
       "      <td>9208.9</td>\n",
       "      <td>9123.0</td>\n",
       "      <td>9181.3</td>\n",
       "      <td>0.0</td>\n",
       "    </tr>\n",
       "    <tr>\n",
       "      <th>96</th>\n",
       "      <td>2020-07-18 20:08:00.837000-04:00</td>\n",
       "      <td>9174.1</td>\n",
       "      <td>9208.9</td>\n",
       "      <td>9123.0</td>\n",
       "      <td>9181.3</td>\n",
       "      <td>0.0</td>\n",
       "    </tr>\n",
       "    <tr>\n",
       "      <th>97</th>\n",
       "      <td>2020-07-18 20:07:57.039000-04:00</td>\n",
       "      <td>9174.1</td>\n",
       "      <td>9208.9</td>\n",
       "      <td>9123.0</td>\n",
       "      <td>9181.3</td>\n",
       "      <td>0.0</td>\n",
       "    </tr>\n",
       "    <tr>\n",
       "      <th>98</th>\n",
       "      <td>2020-07-18 20:07:54.103000-04:00</td>\n",
       "      <td>9174.1</td>\n",
       "      <td>9208.9</td>\n",
       "      <td>9123.0</td>\n",
       "      <td>9181.3</td>\n",
       "      <td>0.0</td>\n",
       "    </tr>\n",
       "    <tr>\n",
       "      <th>99</th>\n",
       "      <td>2020-07-18 20:07:51.618000-04:00</td>\n",
       "      <td>9174.1</td>\n",
       "      <td>9208.9</td>\n",
       "      <td>9123.0</td>\n",
       "      <td>9181.3</td>\n",
       "      <td>0.0</td>\n",
       "    </tr>\n",
       "  </tbody>\n",
       "</table>\n",
       "<p>100 rows × 6 columns</p>\n",
       "</div>"
      ],
      "text/plain": [
       "                               date    open    high     low   close  volume\n",
       "0  2020-07-18 20:09:48.443000-04:00  9174.1  9208.9  9123.0  9181.3     0.0\n",
       "1  2020-07-18 20:09:47.495000-04:00  9174.1  9208.9  9123.0  9181.3     0.0\n",
       "2  2020-07-18 20:09:46.623000-04:00  9174.1  9208.9  9123.0  9181.3     0.0\n",
       "3  2020-07-18 20:09:45.461000-04:00  9174.1  9208.9  9123.0  9181.3     0.0\n",
       "4  2020-07-18 20:09:44.511000-04:00  9174.1  9208.9  9123.0  9181.3     0.0\n",
       "..                              ...     ...     ...     ...     ...     ...\n",
       "95 2020-07-18 20:08:03.195000-04:00  9174.1  9208.9  9123.0  9181.3     0.0\n",
       "96 2020-07-18 20:08:00.837000-04:00  9174.1  9208.9  9123.0  9181.3     0.0\n",
       "97 2020-07-18 20:07:57.039000-04:00  9174.1  9208.9  9123.0  9181.3     0.0\n",
       "98 2020-07-18 20:07:54.103000-04:00  9174.1  9208.9  9123.0  9181.3     0.0\n",
       "99 2020-07-18 20:07:51.618000-04:00  9174.1  9208.9  9123.0  9181.3     0.0\n",
       "\n",
       "[100 rows x 6 columns]"
      ]
     },
     "execution_count": 84,
     "metadata": {},
     "output_type": "execute_result"
    }
   ],
   "source": [
    "df_1"
   ]
  },
  {
   "cell_type": "markdown",
   "metadata": {},
   "source": [
    "# Backtesting"
   ]
  },
  {
   "cell_type": "code",
   "execution_count": null,
   "metadata": {},
   "outputs": [],
   "source": [
    "import backtesting"
   ]
  },
  {
   "cell_type": "code",
   "execution_count": null,
   "metadata": {},
   "outputs": [],
   "source": [
    "backtesting.MODEL_LIST"
   ]
  },
  {
   "cell_type": "code",
   "execution_count": null,
   "metadata": {},
   "outputs": [],
   "source": [
    "portfolio_metrics, trade_metrics, portfolio_evaluation = backtesting.main('BTC/USD', backtesting.MODEL_LIST[1], '1d', inital_capital=100000.0, no_of_shares=10)"
   ]
  },
  {
   "cell_type": "code",
   "execution_count": null,
   "metadata": {},
   "outputs": [],
   "source": [
    "trade_metrics"
   ]
  },
  {
   "cell_type": "markdown",
   "metadata": {},
   "source": [
    "# Create Requirements.txt"
   ]
  },
  {
   "cell_type": "code",
   "execution_count": 89,
   "metadata": {},
   "outputs": [
    {
     "name": "stdout",
     "output_type": "stream",
     "text": [
      "Collecting pipreqs\n",
      "  Downloading pipreqs-0.4.10-py2.py3-none-any.whl (25 kB)\n",
      "Collecting docopt\n",
      "  Downloading docopt-0.6.2.tar.gz (25 kB)\n",
      "Collecting yarg\n",
      "  Downloading yarg-0.1.9-py2.py3-none-any.whl (19 kB)\n",
      "Requirement already satisfied: requests in /Users/Kowsalya/opt/anaconda3/envs/dev/lib/python3.7/site-packages (from yarg->pipreqs) (2.23.0)\n",
      "Requirement already satisfied: idna<3,>=2.5 in /Users/Kowsalya/opt/anaconda3/envs/dev/lib/python3.7/site-packages (from requests->yarg->pipreqs) (2.9)\n",
      "Requirement already satisfied: chardet<4,>=3.0.2 in /Users/Kowsalya/opt/anaconda3/envs/dev/lib/python3.7/site-packages (from requests->yarg->pipreqs) (3.0.4)\n",
      "Requirement already satisfied: urllib3!=1.25.0,!=1.25.1,<1.26,>=1.21.1 in /Users/Kowsalya/opt/anaconda3/envs/dev/lib/python3.7/site-packages (from requests->yarg->pipreqs) (1.25.8)\n",
      "Requirement already satisfied: certifi>=2017.4.17 in /Users/Kowsalya/opt/anaconda3/envs/dev/lib/python3.7/site-packages (from requests->yarg->pipreqs) (2020.6.20)\n",
      "Building wheels for collected packages: docopt\n",
      "  Building wheel for docopt (setup.py) ... \u001b[?25ldone\n",
      "\u001b[?25h  Created wheel for docopt: filename=docopt-0.6.2-py2.py3-none-any.whl size=13704 sha256=b33745214d3ad1dd137fe3c35f290a9dac0a7f5596f58a39c57a3f53fcc35924\n",
      "  Stored in directory: /Users/Kowsalya/Library/Caches/pip/wheels/72/b0/3f/1d95f96ff986c7dfffe46ce2be4062f38ebd04b506c77c81b9\n",
      "Successfully built docopt\n",
      "Installing collected packages: docopt, yarg, pipreqs\n",
      "Successfully installed docopt-0.6.2 pipreqs-0.4.10 yarg-0.1.9\n"
     ]
    }
   ],
   "source": [
    "!pip install pipreqs"
   ]
  },
  {
   "cell_type": "code",
   "execution_count": 90,
   "metadata": {},
   "outputs": [
    {
     "name": "stdout",
     "output_type": "stream",
     "text": [
      "INFO: Successfully saved requirements file in ./requirements.txt\n"
     ]
    }
   ],
   "source": [
    "!pipreqs ."
   ]
  },
  {
   "cell_type": "code",
   "execution_count": null,
   "metadata": {},
   "outputs": [],
   "source": [
    "# While deloying in Heroku\n",
    "Install TA-Lib through buildback\n",
    "heroku buildpacks:add --index 2 https://github.com/numrut/heroku-buildpack-python-talib\n",
    "Makesure to remove TA-Lib from Requirements.txt\n",
    "Add gunicorn==19.9.0 in requirements.txt"
   ]
  }
 ],
 "metadata": {
  "kernelspec": {
   "display_name": "Python 3",
   "language": "python",
   "name": "python3"
  },
  "language_info": {
   "codemirror_mode": {
    "name": "ipython",
    "version": 3
   },
   "file_extension": ".py",
   "mimetype": "text/x-python",
   "name": "python",
   "nbconvert_exporter": "python",
   "pygments_lexer": "ipython3",
   "version": "3.7.7"
  }
 },
 "nbformat": 4,
 "nbformat_minor": 4
}
